{
  "nbformat": 4,
  "nbformat_minor": 0,
  "metadata": {
    "kernelspec": {
      "display_name": "Python 3",
      "language": "python",
      "name": "python3"
    },
    "language_info": {
      "codemirror_mode": {
        "name": "ipython",
        "version": 3
      },
      "file_extension": ".py",
      "mimetype": "text/x-python",
      "name": "python",
      "nbconvert_exporter": "python",
      "pygments_lexer": "ipython3",
      "version": "3.7.3"
    },
    "colab": {
      "name": "LWR.ipynb",
      "provenance": []
    }
  },
  "cells": [
    {
      "cell_type": "code",
      "metadata": {
        "id": "_L48fe3h7_Zl"
      },
      "source": [
        "import numpy as np\n",
        "import pandas as pd\n",
        "Data = pd.read_csv(\"/content/Housing Price data set.csv\",index_col = 0)"
      ],
      "execution_count": null,
      "outputs": []
    },
    {
      "cell_type": "code",
      "metadata": {
        "id": "-BNHg1DM7_Zt"
      },
      "source": [
        "X = Data.iloc[:,1:2]\n",
        "#print(X)\n",
        "Y = Data[\"price\"]\n",
        "X = X.to_numpy()\n",
        "Y = Y.to_numpy()"
      ],
      "execution_count": null,
      "outputs": []
    },
    {
      "cell_type": "code",
      "metadata": {
        "id": "KITuZmHw7_Zz"
      },
      "source": [
        "def weight(x0,X,t):\n",
        "    \n",
        "    return np.exp(np.sum((X - x0) ** 2, axis=1) / (-2 * t*t))\n",
        "\n",
        "def local_reg(x0,X,Y,t):\n",
        "    x0 = np.r_[1, x0]\n",
        "    X = np.c_[np.ones(len(X)), X]\n",
        "    xw = X.T * weight(x0, X, t)\n",
        "    beta = np.linalg.pinv(xw @ X) @ xw @ Y\n",
        "    \n",
        "    return x0 @ beta"
      ],
      "execution_count": null,
      "outputs": []
    },
    {
      "cell_type": "code",
      "metadata": {
        "id": "Jjo7BjL77_Z6",
        "outputId": "d70a9441-b4eb-4e59-9bd7-d66eb5591690",
        "colab": {
          "base_uri": "https://localhost:8080/",
          "height": 34
        }
      },
      "source": [
        "pred = []\n",
        "for x0 in X:\n",
        "    pred.append(local_reg(x0,X,Y,1))\n",
        "error = Y - pred\n",
        "error.mean()"
      ],
      "execution_count": null,
      "outputs": [
        {
          "output_type": "execute_result",
          "data": {
            "text/plain": [
              "-3.782895991107067"
            ]
          },
          "metadata": {
            "tags": []
          },
          "execution_count": 6
        }
      ]
    }
  ]
}