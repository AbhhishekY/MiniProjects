{
  "nbformat": 4,
  "nbformat_minor": 0,
  "metadata": {
    "kernelspec": {
      "display_name": "Python 3",
      "language": "python",
      "name": "python3"
    },
    "language_info": {
      "codemirror_mode": {
        "name": "ipython",
        "version": 3
      },
      "file_extension": ".py",
      "mimetype": "text/x-python",
      "name": "python",
      "nbconvert_exporter": "python",
      "pygments_lexer": "ipython3",
      "version": "3.7.1"
    },
    "colab": {
      "name": "mit2019033_1.ipynb",
      "provenance": [],
      "toc_visible": true
    }
  },
  "cells": [
    {
      "cell_type": "code",
      "metadata": {
        "id": "asoW4ouP7QHS"
      },
      "source": [
        "import numpy as np\n",
        "import pandas as pd\n",
        "import matplotlib.pyplot as plt\n",
        "import nltk\n",
        "#nltk.download(\"stopwords\")\n",
        "from sklearn.naive_bayes import MultinomialNB,GaussianNB\n",
        "from sklearn.feature_extraction.text import CountVectorizer,TfidfVectorizer\n",
        "from sklearn.model_selection import train_test_split\n",
        "from nltk.tokenize import word_tokenize\n",
        "from nltk.corpus import stopwords\n",
        "from nltk.stem.porter import PorterStemmer\n",
        "from sklearn.metrics import accuracy_score\n"
      ],
      "execution_count": null,
      "outputs": []
    },
    {
      "cell_type": "code",
      "metadata": {
        "id": "kLUZPe1R7QHg",
        "outputId": "12059ec6-46bc-4afa-d24f-08a65690f6e0",
        "colab": {
          "base_uri": "https://localhost:8080/",
          "height": 204
        }
      },
      "source": [
        "df=pd.read_csv(\"/content/spam.csv\",encoding=\"latin-1\")\n",
        "df=df.iloc[:,0:2]\n",
        "df.head()\n",
        "df.tail()"
      ],
      "execution_count": null,
      "outputs": [
        {
          "output_type": "execute_result",
          "data": {
            "text/html": [
              "<div>\n",
              "<style scoped>\n",
              "    .dataframe tbody tr th:only-of-type {\n",
              "        vertical-align: middle;\n",
              "    }\n",
              "\n",
              "    .dataframe tbody tr th {\n",
              "        vertical-align: top;\n",
              "    }\n",
              "\n",
              "    .dataframe thead th {\n",
              "        text-align: right;\n",
              "    }\n",
              "</style>\n",
              "<table border=\"1\" class=\"dataframe\">\n",
              "  <thead>\n",
              "    <tr style=\"text-align: right;\">\n",
              "      <th></th>\n",
              "      <th>v1</th>\n",
              "      <th>v2</th>\n",
              "    </tr>\n",
              "  </thead>\n",
              "  <tbody>\n",
              "    <tr>\n",
              "      <th>5567</th>\n",
              "      <td>spam</td>\n",
              "      <td>This is the 2nd time we have tried 2 contact u...</td>\n",
              "    </tr>\n",
              "    <tr>\n",
              "      <th>5568</th>\n",
              "      <td>ham</td>\n",
              "      <td>Will Ì_ b going to esplanade fr home?</td>\n",
              "    </tr>\n",
              "    <tr>\n",
              "      <th>5569</th>\n",
              "      <td>ham</td>\n",
              "      <td>Pity, * was in mood for that. So...any other s...</td>\n",
              "    </tr>\n",
              "    <tr>\n",
              "      <th>5570</th>\n",
              "      <td>ham</td>\n",
              "      <td>The guy did some bitching but I acted like i'd...</td>\n",
              "    </tr>\n",
              "    <tr>\n",
              "      <th>5571</th>\n",
              "      <td>ham</td>\n",
              "      <td>Rofl. Its true to its name</td>\n",
              "    </tr>\n",
              "  </tbody>\n",
              "</table>\n",
              "</div>"
            ],
            "text/plain": [
              "        v1                                                 v2\n",
              "5567  spam  This is the 2nd time we have tried 2 contact u...\n",
              "5568   ham              Will Ì_ b going to esplanade fr home?\n",
              "5569   ham  Pity, * was in mood for that. So...any other s...\n",
              "5570   ham  The guy did some bitching but I acted like i'd...\n",
              "5571   ham                         Rofl. Its true to its name"
            ]
          },
          "metadata": {
            "tags": []
          },
          "execution_count": 29
        }
      ]
    },
    {
      "cell_type": "code",
      "metadata": {
        "id": "7nLn4FSD7QHs",
        "outputId": "ada20400-3ac7-46a9-ddb1-9b6aa6f27e83",
        "colab": {
          "base_uri": "https://localhost:8080/",
          "height": 204
        }
      },
      "source": [
        "df['LABEL']=df.v1.map({'ham':0,'spam':1})\n",
        "df.tail()"
      ],
      "execution_count": null,
      "outputs": [
        {
          "output_type": "execute_result",
          "data": {
            "text/html": [
              "<div>\n",
              "<style scoped>\n",
              "    .dataframe tbody tr th:only-of-type {\n",
              "        vertical-align: middle;\n",
              "    }\n",
              "\n",
              "    .dataframe tbody tr th {\n",
              "        vertical-align: top;\n",
              "    }\n",
              "\n",
              "    .dataframe thead th {\n",
              "        text-align: right;\n",
              "    }\n",
              "</style>\n",
              "<table border=\"1\" class=\"dataframe\">\n",
              "  <thead>\n",
              "    <tr style=\"text-align: right;\">\n",
              "      <th></th>\n",
              "      <th>v1</th>\n",
              "      <th>v2</th>\n",
              "      <th>LABEL</th>\n",
              "    </tr>\n",
              "  </thead>\n",
              "  <tbody>\n",
              "    <tr>\n",
              "      <th>5567</th>\n",
              "      <td>spam</td>\n",
              "      <td>This is the 2nd time we have tried 2 contact u...</td>\n",
              "      <td>1</td>\n",
              "    </tr>\n",
              "    <tr>\n",
              "      <th>5568</th>\n",
              "      <td>ham</td>\n",
              "      <td>Will Ì_ b going to esplanade fr home?</td>\n",
              "      <td>0</td>\n",
              "    </tr>\n",
              "    <tr>\n",
              "      <th>5569</th>\n",
              "      <td>ham</td>\n",
              "      <td>Pity, * was in mood for that. So...any other s...</td>\n",
              "      <td>0</td>\n",
              "    </tr>\n",
              "    <tr>\n",
              "      <th>5570</th>\n",
              "      <td>ham</td>\n",
              "      <td>The guy did some bitching but I acted like i'd...</td>\n",
              "      <td>0</td>\n",
              "    </tr>\n",
              "    <tr>\n",
              "      <th>5571</th>\n",
              "      <td>ham</td>\n",
              "      <td>Rofl. Its true to its name</td>\n",
              "      <td>0</td>\n",
              "    </tr>\n",
              "  </tbody>\n",
              "</table>\n",
              "</div>"
            ],
            "text/plain": [
              "        v1                                                 v2  LABEL\n",
              "5567  spam  This is the 2nd time we have tried 2 contact u...      1\n",
              "5568   ham              Will Ì_ b going to esplanade fr home?      0\n",
              "5569   ham  Pity, * was in mood for that. So...any other s...      0\n",
              "5570   ham  The guy did some bitching but I acted like i'd...      0\n",
              "5571   ham                         Rofl. Its true to its name      0"
            ]
          },
          "metadata": {
            "tags": []
          },
          "execution_count": 30
        }
      ]
    },
    {
      "cell_type": "code",
      "metadata": {
        "id": "F-y1BuBq7QH3",
        "outputId": "dc5ee295-0356-4c7e-abcb-7f2a8c18130d",
        "colab": {
          "base_uri": "https://localhost:8080/",
          "height": 221
        }
      },
      "source": [
        "def preprocess_data(text):\n",
        "    txt=str(text)\n",
        "    txt=\" \".join([i.lower() for i in txt.split()])\n",
        "    \n",
        "    stops=set(stopwords.words(\"english\"))\n",
        "    txt=\" \".join([w for w in txt.split() if w not in stops])\n",
        "  \n",
        "    stemmer=PorterStemmer()\n",
        "    txt=\" \".join([stemmer.stem(w) for w in txt.split()])\n",
        "    \n",
        "    return txt\n",
        "\n",
        "df['v2']=df['v2'].map(lambda x:preprocess_data(x))\n",
        "print(df['v2'])"
      ],
      "execution_count": null,
      "outputs": [
        {
          "output_type": "stream",
          "text": [
            "0       go jurong point, crazy.. avail bugi n great wo...\n",
            "1                             ok lar... joke wif u oni...\n",
            "2       free entri 2 wkli comp win fa cup final tkt 21...\n",
            "3               u dun say earli hor... u c alreadi say...\n",
            "4                   nah think goe usf, live around though\n",
            "                              ...                        \n",
            "5567    2nd time tri 2 contact u. u å£750 pound prize....\n",
            "5568                            ì_ b go esplanad fr home?\n",
            "5569             pity, * mood that. so...ani suggestions?\n",
            "5570    guy bitch act like i'd interest buy someth els...\n",
            "5571                                      rofl. true name\n",
            "Name: v2, Length: 5572, dtype: object\n"
          ],
          "name": "stdout"
        }
      ]
    },
    {
      "cell_type": "code",
      "metadata": {
        "id": "IbzUNeBc7QH_",
        "outputId": "0956f436-3600-4af0-bce0-29a84e4719c8",
        "colab": {
          "base_uri": "https://localhost:8080/",
          "height": 272
        }
      },
      "source": [
        "##collecting info from data\n",
        "x_train,x_test,y_train,y_test=train_test_split(df.v2,df.LABEL,random_state=50,test_size=0.3)\n",
        "\n",
        "label,freq=np.unique(y_train,return_counts=True)\n",
        "print(label,freq)\n",
        "prob_spam=freq[1]/(freq[0]+freq[1])\n",
        "prob_ham=freq[0]/(freq[0]+freq[1])\n",
        "print(prob_spam)\n",
        "print(prob_ham)"
      ],
      "execution_count": null,
      "outputs": [
        {
          "output_type": "stream",
          "text": [
            "2696    0\n",
            "1659    0\n",
            "4829    0\n",
            "5319    0\n",
            "1394    0\n",
            "       ..\n",
            "3330    0\n",
            "70      0\n",
            "132     0\n",
            "2014    0\n",
            "1931    0\n",
            "Name: LABEL, Length: 3900, dtype: int64\n",
            "[0 1] [3399  501]\n",
            "0.12846153846153846\n",
            "0.8715384615384615\n"
          ],
          "name": "stdout"
        }
      ]
    },
    {
      "cell_type": "code",
      "metadata": {
        "id": "llUwmyoQ7QIG"
      },
      "source": [
        "#creating dictionary for ham and spam containing frequencies for words\n",
        "dic_ham={}\n",
        "dic_spam={}\n",
        "for i in range(0,len(x_train)):\n",
        "    if(np.array(y_train)[i]==0):\n",
        "        for w in np.array(x_train)[i].split():\n",
        "            if w not in dic_ham:\n",
        "                dic_ham[w]=1\n",
        "            else:\n",
        "                dic_ham[w]=dic_ham[w]+1\n",
        "    else:\n",
        "        for w in np.array(x_train)[i].split():\n",
        "            if w not in dic_spam:\n",
        "                dic_spam[w]=1\n",
        "            else:\n",
        "                dic_spam[w]=dic_spam[w]+1"
      ],
      "execution_count": null,
      "outputs": []
    },
    {
      "cell_type": "code",
      "metadata": {
        "id": "lvpBTv5M7QIN"
      },
      "source": [
        "total_unique_words=len(dic_spam)+len(dic_ham)\n",
        "total_spam_words=0\n",
        "total_ham_words=0\n",
        "for i in dic_spam.values():\n",
        "    total_spam_words=total_spam_words+i\n",
        "for i in dic_ham.values():\n",
        "    total_ham_words=total_ham_words+i"
      ],
      "execution_count": null,
      "outputs": []
    },
    {
      "cell_type": "code",
      "metadata": {
        "id": "VXO2sfuh7QIT"
      },
      "source": [
        "count=0\n",
        "for i in range(0,len(x_test)):\n",
        "    sum1=np.log(prob_ham)\n",
        "    sum2=np.log(prob_spam)\n",
        "    for w in np.array(x_test)[i].split():\n",
        "        if w in dic_ham:\n",
        "            temp=np.log((dic_ham[w]+1)/(total_ham_words+total_unique_words))\n",
        "        else:\n",
        "            temp=np.log(1/(total_ham_words+total_unique_words))\n",
        "        sum1=sum1+temp\n",
        "        if w in dic_spam:\n",
        "            temp=np.log((dic_spam[w]+1)/(total_spam_words+total_unique_words))\n",
        "        else:\n",
        "            temp=np.log(1/(total_spam_words+total_unique_words))\n",
        "        sum2=sum2+temp\n",
        "    if(sum1 > sum2):\n",
        "        result=0\n",
        "    else:\n",
        "        result=1\n",
        "    if(np.array(y_test)[i]==result):\n",
        "        count=count+1"
      ],
      "execution_count": null,
      "outputs": []
    },
    {
      "cell_type": "code",
      "metadata": {
        "id": "m1HMUflH7QIZ",
        "outputId": "49d36a98-b661-4e26-f306-fe8ca9994d7c",
        "colab": {
          "base_uri": "https://localhost:8080/",
          "height": 51
        }
      },
      "source": [
        "print(\"Correct predictions out of\",len(y_test),\"is :\",count)\n",
        "print(\"Accuracy acheived :\",count/len(y_test)*100)"
      ],
      "execution_count": null,
      "outputs": [
        {
          "output_type": "stream",
          "text": [
            "Correct predictions out of 1672 is : 1614\n",
            "Accuracy acheived : 96.5311004784689\n"
          ],
          "name": "stdout"
        }
      ]
    }
  ]
}