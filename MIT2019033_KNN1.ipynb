{
  "nbformat": 4,
  "nbformat_minor": 0,
  "metadata": {
    "colab": {
      "name": "MIT2019033_KNN1.ipynb",
      "provenance": []
    },
    "kernelspec": {
      "name": "python3",
      "display_name": "Python 3"
    }
  },
  "cells": [
    {
      "cell_type": "code",
      "metadata": {
        "id": "AbPWjIHlYMzV"
      },
      "source": [
        "import pandas as pd\n",
        "import numpy as np\n",
        "import math\n",
        "import operator"
      ],
      "execution_count": null,
      "outputs": []
    },
    {
      "cell_type": "code",
      "metadata": {
        "id": "CtWePMEVYU3t"
      },
      "source": [
        "col=['sepal_length','sepal_width','petal_length','petal_width','type']\n",
        "iris=pd.read_csv(\"iris-dataset.csv\",names=col)"
      ],
      "execution_count": null,
      "outputs": []
    },
    {
      "cell_type": "code",
      "metadata": {
        "id": "KFZiy05ZYwZv",
        "outputId": "d5d87a27-fb52-4253-e6e7-158d85d92b37",
        "colab": {
          "base_uri": "https://localhost:8080/",
          "height": 504
        }
      },
      "source": [
        "print(\"First five rows\")\n",
        "print(iris.head())\n",
        "print(\"*********\")\n",
        "print(\"columns\",iris.columns)\n",
        "print(\"*********\")\n",
        "print(\"shape:\",iris.shape)\n",
        "print(\"*********\")\n",
        "print(\"Size:\",iris.size)\n",
        "print(\"*********\")\n",
        "print(\"no of samples available for each type\")\n",
        "print(iris['type'].value_counts())\n",
        "print(\"*********\")\n",
        "print(iris.describe())"
      ],
      "execution_count": null,
      "outputs": [
        {
          "output_type": "stream",
          "text": [
            "First five rows\n",
            "   sepal_length  sepal_width  petal_length  petal_width         type\n",
            "0           5.1          3.5           1.4          0.2  Iris-setosa\n",
            "1           4.9          3.0           1.4          0.2  Iris-setosa\n",
            "2           4.7          3.2           1.3          0.2  Iris-setosa\n",
            "3           4.6          3.1           1.5          0.2  Iris-setosa\n",
            "4           5.0          3.6           1.4          0.2  Iris-setosa\n",
            "*********\n",
            "columns Index(['sepal_length', 'sepal_width', 'petal_length', 'petal_width', 'type'], dtype='object')\n",
            "*********\n",
            "shape: (150, 5)\n",
            "*********\n",
            "Size: 750\n",
            "*********\n",
            "no of samples available for each type\n",
            "Iris-versicolor    50\n",
            "Iris-virginica     50\n",
            "Iris-setosa        50\n",
            "Name: type, dtype: int64\n",
            "*********\n",
            "       sepal_length  sepal_width  petal_length  petal_width\n",
            "count    150.000000   150.000000    150.000000   150.000000\n",
            "mean       5.843333     3.054000      3.758667     1.198667\n",
            "std        0.828066     0.433594      1.764420     0.763161\n",
            "min        4.300000     2.000000      1.000000     0.100000\n",
            "25%        5.100000     2.800000      1.600000     0.300000\n",
            "50%        5.800000     3.000000      4.350000     1.300000\n",
            "75%        6.400000     3.300000      5.100000     1.800000\n",
            "max        7.900000     4.400000      6.900000     2.500000\n"
          ],
          "name": "stdout"
        }
      ]
    },
    {
      "cell_type": "code",
      "metadata": {
        "id": "wU3vHiPtY5Rw"
      },
      "source": [
        "def euclidianDistance(data1, data2, length):\n",
        "    distance = 0\n",
        "    for x in range(length):\n",
        "        distance += np.square(data1[x] - data2[x])\n",
        "       \n",
        "    return np.sqrt(distance)\n",
        "\n",
        "\n",
        "def knn(trainingSet, testInstance, k):\n",
        " \n",
        "    distances = {}\n",
        "    sort = {}\n",
        "\n",
        "\n",
        "    length = testInstance.shape[1]\n",
        "    \n",
        "    for x in range(len(trainingSet)):\n",
        "        \n",
        "       \n",
        "        dist = euclidianDistance(testInstance, trainingSet.iloc[x], length)\n",
        "        distances[x] = dist[0]\n",
        "\n",
        "    sorted_d = sorted(distances.items(), key=operator.itemgetter(1))\n",
        "    sorted_d1 = sorted(distances.items())\n",
        "    print(sorted_d[:5])\n",
        "    print(sorted_d1[:5])\n",
        "   \n",
        " \n",
        "    neighbors = []\n",
        "    \n",
        "    for x in range(k):\n",
        "        neighbors.append(sorted_d[x][0])\n",
        "    counts = {\"Iris-setosa\":0,\"Iris-versicolor\":0,\"Iris-virginica\":0}\n",
        "    \n",
        "\n",
        "    for x in range(len(neighbors)):\n",
        "        response = trainingSet.iloc[neighbors[x]][-1]\n",
        " \n",
        "        if response in counts:\n",
        "            counts[response] += 1\n",
        "        else:\n",
        "            counts[response] = 1\n",
        "  \n",
        "    print(counts)\n",
        "    sortedVotes = sorted(counts.items(), key=operator.itemgetter(1), reverse=True)\n",
        "    print(sortedVotes)\n",
        "    return(sortedVotes[0][0], neighbors)"
      ],
      "execution_count": null,
      "outputs": []
    },
    {
      "cell_type": "code",
      "metadata": {
        "id": "gfewQRS2bBvK",
        "outputId": "169e9b34-9547-486c-a67c-bb759d8aa627",
        "colab": {
          "base_uri": "https://localhost:8080/",
          "height": 1000
        }
      },
      "source": [
        "\n",
        "testSet = [[4.3,2.9,1.7,0.3],[4.6,2.7,1.5,0.2],[5.3,3.4,1.6,0.2],[5.2,4.1,1.5,0.1],[6.0,2.2,4.2,1.0],[6.2,2.3,4.5,1.5],[5.0,2.1,3.6,1.2],[6.6,2.8,5.4,2.0],[6.4,3.2,5.3,2.3],[7.0,3.1,5.5,1.8],[6.2,3.3,5.9,2.1],[6.6,2.9,5.3,2.3]]\n",
        "for i in range(0,12):\n",
        "  test = pd.DataFrame(testSet[i])\n",
        "  result,neigh = knn(iris, test, 4)\n",
        "  print(\"And the flower is:\",result)\n",
        "  print(\"the neighbors are:\",neigh)"
      ],
      "execution_count": null,
      "outputs": [
        {
          "output_type": "stream",
          "text": [
            "[(13, 0.0), (8, 0.10000000000000053), (38, 0.10000000000000053), (42, 0.10000000000000053), (41, 0.20000000000000018)]\n",
            "[(0, 0.7999999999999998), (1, 0.6000000000000005), (2, 0.40000000000000036), (3, 0.2999999999999998), (4, 0.7000000000000002)]\n",
            "{'Iris-setosa': 4, 'Iris-versicolor': 0, 'Iris-virginica': 0}\n",
            "[('Iris-setosa', 4), ('Iris-versicolor', 0), ('Iris-virginica', 0)]\n",
            "And the flower is: Iris-setosa\n",
            "the neighbors are: [13, 8, 38, 42]\n",
            "[(3, 0.0), (6, 0.0), (22, 0.0), (47, 0.0), (41, 0.09999999999999964)]\n",
            "[(0, 0.5), (1, 0.3000000000000007), (2, 0.10000000000000053), (3, 0.0), (4, 0.40000000000000036)]\n",
            "{'Iris-setosa': 4, 'Iris-versicolor': 0, 'Iris-virginica': 0}\n",
            "[('Iris-setosa', 4), ('Iris-versicolor', 0), ('Iris-virginica', 0)]\n",
            "And the flower is: Iris-setosa\n",
            "the neighbors are: [3, 6, 22, 47]\n",
            "[(48, 0.0), (27, 0.09999999999999964), (28, 0.09999999999999964), (32, 0.09999999999999964), (59, 0.09999999999999964)]\n",
            "[(0, 0.20000000000000018), (1, 0.39999999999999947), (2, 0.5999999999999996), (3, 0.7000000000000002), (4, 0.2999999999999998)]\n",
            "{'Iris-setosa': 4, 'Iris-versicolor': 0, 'Iris-virginica': 0}\n",
            "[('Iris-setosa', 4), ('Iris-versicolor', 0), ('Iris-virginica', 0)]\n",
            "And the flower is: Iris-setosa\n",
            "the neighbors are: [48, 27, 28, 32]\n",
            "[(27, 0.0), (28, 0.0), (32, 0.0), (59, 0.0), (48, 0.09999999999999964)]\n",
            "[(0, 0.10000000000000053), (1, 0.2999999999999998), (2, 0.5), (3, 0.6000000000000005), (4, 0.20000000000000018)]\n",
            "{'Iris-setosa': 3, 'Iris-versicolor': 1, 'Iris-virginica': 0}\n",
            "[('Iris-setosa', 3), ('Iris-versicolor', 1), ('Iris-virginica', 0)]\n",
            "And the flower is: Iris-setosa\n",
            "the neighbors are: [27, 28, 32, 59]\n",
            "[(62, 0.0), (78, 0.0), (83, 0.0), (85, 0.0), (119, 0.0)]\n",
            "[(0, 0.9000000000000004), (1, 1.0999999999999996), (2, 1.2999999999999998), (3, 1.4000000000000004), (4, 1.0)]\n",
            "{'Iris-setosa': 0, 'Iris-versicolor': 4, 'Iris-virginica': 0}\n",
            "[('Iris-versicolor', 4), ('Iris-setosa', 0), ('Iris-virginica', 0)]\n",
            "And the flower is: Iris-versicolor\n",
            "the neighbors are: [62, 78, 83, 85]\n",
            "[(68, 0.0), (97, 0.0), (126, 0.0), (148, 0.0), (56, 0.09999999999999964)]\n",
            "[(0, 1.1000000000000005), (1, 1.2999999999999998), (2, 1.5), (3, 1.6000000000000005), (4, 1.2000000000000002)]\n",
            "{'Iris-setosa': 0, 'Iris-versicolor': 2, 'Iris-virginica': 2}\n",
            "[('Iris-versicolor', 2), ('Iris-virginica', 2), ('Iris-setosa', 0)]\n",
            "And the flower is: Iris-versicolor\n",
            "the neighbors are: [68, 97, 126, 148]\n",
            "[(4, 0.0), (7, 0.0), (25, 0.0), (26, 0.0), (35, 0.0)]\n",
            "[(0, 0.09999999999999964), (1, 0.09999999999999964), (2, 0.2999999999999998), (3, 0.40000000000000036), (4, 0.0)]\n",
            "{'Iris-setosa': 4, 'Iris-versicolor': 0, 'Iris-virginica': 0}\n",
            "[('Iris-setosa', 4), ('Iris-versicolor', 0), ('Iris-virginica', 0)]\n",
            "And the flower is: Iris-setosa\n",
            "the neighbors are: [4, 7, 25, 26]\n",
            "[(58, 0.0), (75, 0.0), (54, 0.09999999999999964), (104, 0.09999999999999964), (110, 0.09999999999999964)]\n",
            "[(0, 1.5), (1, 1.6999999999999993), (2, 1.8999999999999995), (3, 2.0), (4, 1.5999999999999996)]\n",
            "{'Iris-setosa': 0, 'Iris-versicolor': 3, 'Iris-virginica': 1}\n",
            "[('Iris-versicolor', 3), ('Iris-virginica', 1), ('Iris-setosa', 0)]\n",
            "And the flower is: Iris-versicolor\n",
            "the neighbors are: [58, 75, 54, 104]\n",
            "[(51, 0.0), (74, 0.0), (111, 0.0), (115, 0.0), (128, 0.0)]\n",
            "[(0, 1.3000000000000007), (1, 1.5), (2, 1.7000000000000002), (3, 1.8000000000000007), (4, 1.4000000000000004)]\n",
            "{'Iris-setosa': 0, 'Iris-versicolor': 2, 'Iris-virginica': 2}\n",
            "[('Iris-versicolor', 2), ('Iris-virginica', 2), ('Iris-setosa', 0)]\n",
            "And the flower is: Iris-versicolor\n",
            "the neighbors are: [51, 74, 111, 115]\n",
            "[(50, 0.0), (52, 0.09999999999999964), (102, 0.09999999999999964), (120, 0.09999999999999964), (139, 0.09999999999999964)]\n",
            "[(0, 1.9000000000000004), (1, 2.0999999999999996), (2, 2.3), (3, 2.4000000000000004), (4, 2.0)]\n",
            "{'Iris-setosa': 0, 'Iris-versicolor': 2, 'Iris-virginica': 2}\n",
            "[('Iris-versicolor', 2), ('Iris-virginica', 2), ('Iris-setosa', 0)]\n",
            "And the flower is: Iris-versicolor\n",
            "the neighbors are: [50, 52, 102, 120]\n",
            "[(68, 0.0), (97, 0.0), (126, 0.0), (148, 0.0), (56, 0.09999999999999964)]\n",
            "[(0, 1.1000000000000005), (1, 1.2999999999999998), (2, 1.5), (3, 1.6000000000000005), (4, 1.2000000000000002)]\n",
            "{'Iris-setosa': 0, 'Iris-versicolor': 2, 'Iris-virginica': 2}\n",
            "[('Iris-versicolor', 2), ('Iris-virginica', 2), ('Iris-setosa', 0)]\n",
            "And the flower is: Iris-versicolor\n",
            "the neighbors are: [68, 97, 126, 148]\n",
            "[(58, 0.0), (75, 0.0), (54, 0.09999999999999964), (104, 0.09999999999999964), (110, 0.09999999999999964)]\n",
            "[(0, 1.5), (1, 1.6999999999999993), (2, 1.8999999999999995), (3, 2.0), (4, 1.5999999999999996)]\n",
            "{'Iris-setosa': 0, 'Iris-versicolor': 3, 'Iris-virginica': 1}\n",
            "[('Iris-versicolor', 3), ('Iris-virginica', 1), ('Iris-setosa', 0)]\n",
            "And the flower is: Iris-versicolor\n",
            "the neighbors are: [58, 75, 54, 104]\n"
          ],
          "name": "stdout"
        }
      ]
    }
  ]
}