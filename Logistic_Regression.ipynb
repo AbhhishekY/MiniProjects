{
  "nbformat": 4,
  "nbformat_minor": 0,
  "metadata": {
    "colab": {
      "name": "Logistic_Regression.ipynb",
      "provenance": []
    },
    "kernelspec": {
      "name": "python3",
      "display_name": "Python 3"
    }
  },
  "cells": [
    {
      "cell_type": "code",
      "metadata": {
        "id": "MvrxzmbTGl63"
      },
      "source": [
        "import pandas as pd \n",
        "import numpy as np\n",
        "from pandas import read_excel \n",
        "from sklearn.linear_model import LogisticRegression\n",
        "from sklearn.model_selection import train_test_split"
      ],
      "execution_count": null,
      "outputs": []
    },
    {
      "cell_type": "code",
      "metadata": {
        "id": "QVjRJPuuHLxU",
        "outputId": "25d3c9ef-9cae-4fe1-d4db-7d16240dbaf8",
        "colab": {
          "base_uri": "https://localhost:8080/",
          "height": 255
        }
      },
      "source": [
        "df = pd.read_excel(\"/content/BreastCancer_Prognostic_v1.xlsx\")\n",
        "print(df.head)"
      ],
      "execution_count": null,
      "outputs": [
        {
          "output_type": "stream",
          "text": [
            "<bound method NDFrame.head of          ID Outcome  ...  Tumor_Size  Lymph_Node_Status\n",
            "0    119513       N  ...         5.0                  5\n",
            "1      8423       N  ...         3.0                  2\n",
            "2    842517       N  ...         2.5                  0\n",
            "3    843483       N  ...         2.0                  0\n",
            "4    843584       R  ...         3.5                  0\n",
            "..      ...     ...  ...         ...                ...\n",
            "193  942640       N  ...         6.0                  2\n",
            "194  943471       N  ...         1.5                  0\n",
            "195   94547       N  ...         3.7                  0\n",
            "196  947204       R  ...         3.0                  ?\n",
            "197  947489       N  ...         3.5                  0\n",
            "\n",
            "[198 rows x 35 columns]>\n"
          ],
          "name": "stdout"
        }
      ]
    },
    {
      "cell_type": "code",
      "metadata": {
        "id": "tzXs43NVcqMg",
        "outputId": "1081e66d-fdde-428b-977d-bad65a111e93",
        "colab": {
          "base_uri": "https://localhost:8080/",
          "height": 510
        }
      },
      "source": [
        "df.Outcome[df.Outcome == 'N'] = 0\n",
        "df.Outcome[df.Outcome == 'R'] = 1\n",
        "print(df.head)\n",
        "df.Lymph_Node_Status[df.Lymph_Node_Status == '?'] = 1"
      ],
      "execution_count": null,
      "outputs": [
        {
          "output_type": "stream",
          "text": [
            "<bound method NDFrame.head of          ID Outcome  ...  Tumor_Size  Lymph_Node_Status\n",
            "0    119513       0  ...         5.0                  5\n",
            "1      8423       0  ...         3.0                  2\n",
            "2    842517       0  ...         2.5                  0\n",
            "3    843483       0  ...         2.0                  0\n",
            "4    843584       1  ...         3.5                  0\n",
            "..      ...     ...  ...         ...                ...\n",
            "193  942640       0  ...         6.0                  2\n",
            "194  943471       0  ...         1.5                  0\n",
            "195   94547       0  ...         3.7                  0\n",
            "196  947204       1  ...         3.0                  ?\n",
            "197  947489       0  ...         3.5                  0\n",
            "\n",
            "[198 rows x 35 columns]>\n"
          ],
          "name": "stdout"
        },
        {
          "output_type": "stream",
          "text": [
            "/usr/local/lib/python3.6/dist-packages/ipykernel_launcher.py:1: SettingWithCopyWarning: \n",
            "A value is trying to be set on a copy of a slice from a DataFrame\n",
            "\n",
            "See the caveats in the documentation: https://pandas.pydata.org/pandas-docs/stable/user_guide/indexing.html#returning-a-view-versus-a-copy\n",
            "  \"\"\"Entry point for launching an IPython kernel.\n",
            "/usr/local/lib/python3.6/dist-packages/ipykernel_launcher.py:2: SettingWithCopyWarning: \n",
            "A value is trying to be set on a copy of a slice from a DataFrame\n",
            "\n",
            "See the caveats in the documentation: https://pandas.pydata.org/pandas-docs/stable/user_guide/indexing.html#returning-a-view-versus-a-copy\n",
            "  \n",
            "/usr/local/lib/python3.6/dist-packages/ipykernel_launcher.py:4: SettingWithCopyWarning: \n",
            "A value is trying to be set on a copy of a slice from a DataFrame\n",
            "\n",
            "See the caveats in the documentation: https://pandas.pydata.org/pandas-docs/stable/user_guide/indexing.html#returning-a-view-versus-a-copy\n",
            "  after removing the cwd from sys.path.\n"
          ],
          "name": "stderr"
        }
      ]
    },
    {
      "cell_type": "code",
      "metadata": {
        "id": "qwTIZZawd9tO",
        "outputId": "dff83206-e71a-4bb1-d86a-b1b344d7f743",
        "colab": {
          "base_uri": "https://localhost:8080/",
          "height": 221
        }
      },
      "source": [
        "x = df.iloc[:,2:]\n",
        "y = df['Outcome']\n",
        "#print(x.head)\n",
        "print(y.head)"
      ],
      "execution_count": null,
      "outputs": [
        {
          "output_type": "stream",
          "text": [
            "<bound method NDFrame.head of 0      0\n",
            "1      0\n",
            "2      0\n",
            "3      0\n",
            "4      1\n",
            "      ..\n",
            "193    0\n",
            "194    0\n",
            "195    0\n",
            "196    1\n",
            "197    0\n",
            "Name: Outcome, Length: 198, dtype: object>\n"
          ],
          "name": "stdout"
        }
      ]
    },
    {
      "cell_type": "code",
      "metadata": {
        "id": "f60P2Hz-l-EO",
        "outputId": "abca7230-07d4-444e-8c80-f90555f4f885",
        "colab": {
          "base_uri": "https://localhost:8080/",
          "height": 629
        }
      },
      "source": [
        "print(df.isnull().sum())"
      ],
      "execution_count": null,
      "outputs": [
        {
          "output_type": "stream",
          "text": [
            "ID                           0\n",
            "Outcome                      0\n",
            "Time                         0\n",
            "radius_mean                  0\n",
            "texture_mean                 0\n",
            "perimeter_mean               0\n",
            "area_mean                    0\n",
            "smoothness_mean              0\n",
            "compactness_mean             0\n",
            "concavity_mean               0\n",
            "concave_points_mean          0\n",
            "symmetry_mean                0\n",
            "fractal_dimension_mean       0\n",
            "radius_std_dev               0\n",
            "texture_std_dev              0\n",
            "perimeter_std_dev            0\n",
            "area_std_dev                 0\n",
            "smoothness_std_dev           0\n",
            "compactness_std_dev          0\n",
            "concavity_std_dev            0\n",
            "concave_points_std_dev       0\n",
            "symmetry_std_dev             0\n",
            "fractal_dimension_std_dev    0\n",
            "Worst_radius                 0\n",
            "Worst_texture                0\n",
            "Worst_perimeter              0\n",
            "Worst_area                   0\n",
            "Worst_smoothness             0\n",
            "Worst_compactness            0\n",
            "Worst_concavity              0\n",
            "Worst_concave_points         0\n",
            "Worst_symmetry               0\n",
            "Worst_fractal_dimension      0\n",
            "Tumor_Size                   0\n",
            "Lymph_Node_Status            0\n",
            "dtype: int64\n"
          ],
          "name": "stdout"
        }
      ]
    },
    {
      "cell_type": "code",
      "metadata": {
        "id": "dNFyDMNqkSNp",
        "outputId": "55907aa1-eb2a-4b90-d570-82eabb66ea1c",
        "colab": {
          "base_uri": "https://localhost:8080/",
          "height": 238
        }
      },
      "source": [
        "missing_vales = ['?']\n",
        "print(df['Lymph_Node_Status'].isnull())\n",
        "print(df['Lymph_Node_Status'].isnull().sum())"
      ],
      "execution_count": null,
      "outputs": [
        {
          "output_type": "stream",
          "text": [
            "0      False\n",
            "1      False\n",
            "2      False\n",
            "3      False\n",
            "4      False\n",
            "       ...  \n",
            "193    False\n",
            "194    False\n",
            "195    False\n",
            "196    False\n",
            "197    False\n",
            "Name: Lymph_Node_Status, Length: 198, dtype: bool\n",
            "0\n"
          ],
          "name": "stdout"
        }
      ]
    },
    {
      "cell_type": "code",
      "metadata": {
        "id": "Lroq7ZsOjlUs"
      },
      "source": [
        "df['Lymph_Node_Status'].fillna(method='ffill', inplace=True)"
      ],
      "execution_count": null,
      "outputs": []
    },
    {
      "cell_type": "code",
      "metadata": {
        "id": "T_zPjNSvh1KO",
        "outputId": "e8a5d0c7-473b-435b-f295-10d4ed08cc7e",
        "colab": {
          "base_uri": "https://localhost:8080/",
          "height": 238
        }
      },
      "source": [
        "y=y.astype('int')\n",
        "X_train, X_test, y_train, y_test = train_test_split(x, y, test_size=0.3, random_state=110)\n",
        "logmodel = LogisticRegression()\n",
        "logmodel.fit(X_train, y_train)"
      ],
      "execution_count": null,
      "outputs": [
        {
          "output_type": "stream",
          "text": [
            "/usr/local/lib/python3.6/dist-packages/sklearn/linear_model/_logistic.py:940: ConvergenceWarning: lbfgs failed to converge (status=1):\n",
            "STOP: TOTAL NO. of ITERATIONS REACHED LIMIT.\n",
            "\n",
            "Increase the number of iterations (max_iter) or scale the data as shown in:\n",
            "    https://scikit-learn.org/stable/modules/preprocessing.html\n",
            "Please also refer to the documentation for alternative solver options:\n",
            "    https://scikit-learn.org/stable/modules/linear_model.html#logistic-regression\n",
            "  extra_warning_msg=_LOGISTIC_SOLVER_CONVERGENCE_MSG)\n"
          ],
          "name": "stderr"
        },
        {
          "output_type": "execute_result",
          "data": {
            "text/plain": [
              "LogisticRegression(C=1.0, class_weight=None, dual=False, fit_intercept=True,\n",
              "                   intercept_scaling=1, l1_ratio=None, max_iter=100,\n",
              "                   multi_class='auto', n_jobs=None, penalty='l2',\n",
              "                   random_state=None, solver='lbfgs', tol=0.0001, verbose=0,\n",
              "                   warm_start=False)"
            ]
          },
          "metadata": {
            "tags": []
          },
          "execution_count": 180
        }
      ]
    },
    {
      "cell_type": "code",
      "metadata": {
        "id": "vn1S7zYsnPIG",
        "outputId": "1ca413b9-83bf-468b-8b6e-2017ddf2b3ad",
        "colab": {
          "base_uri": "https://localhost:8080/",
          "height": 34
        }
      },
      "source": [
        "score = logmodel.score(X_test,y_test)\n",
        "print(score)"
      ],
      "execution_count": null,
      "outputs": [
        {
          "output_type": "stream",
          "text": [
            "0.85\n"
          ],
          "name": "stdout"
        }
      ]
    },
    {
      "cell_type": "code",
      "metadata": {
        "id": "QmHrHIp1pndA"
      },
      "source": [
        "df.to_excel(r'/content/output.xlsx', index = False)"
      ],
      "execution_count": null,
      "outputs": []
    }
  ]
}