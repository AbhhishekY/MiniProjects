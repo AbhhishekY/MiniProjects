{
  "nbformat": 4,
  "nbformat_minor": 0,
  "metadata": {
    "kernelspec": {
      "display_name": "Python 3",
      "language": "python",
      "name": "python3"
    },
    "language_info": {
      "codemirror_mode": {
        "name": "ipython",
        "version": 3
      },
      "file_extension": ".py",
      "mimetype": "text/x-python",
      "name": "python",
      "nbconvert_exporter": "python",
      "pygments_lexer": "ipython3",
      "version": "3.7.4"
    },
    "colab": {
      "name": "SVM-lb9-q1.ipynb",
      "provenance": [],
      "toc_visible": true
    }
  },
  "cells": [
    {
      "cell_type": "code",
      "metadata": {
        "id": "6KQA8wuxjNDl"
      },
      "source": [
        "import pandas as pd\n",
        "import numpy as np\n",
        "import matplotlib.pyplot as plt\n",
        "from sklearn.utils import shuffle\n",
        "from sklearn.model_selection import train_test_split"
      ],
      "execution_count": null,
      "outputs": []
    },
    {
      "cell_type": "markdown",
      "metadata": {
        "id": "cJelsnWRjND4"
      },
      "source": [
        "### Reading Data"
      ]
    },
    {
      "cell_type": "code",
      "metadata": {
        "id": "fT4fSO8BjND_"
      },
      "source": [
        "df = pd.read_excel('/content/data.xlsx')\n",
        "y = df.iloc[:,-1]\n",
        "x = df.iloc[:,[0,1]]\n",
        "#print(df.head())\n",
        "#print(x.head())"
      ],
      "execution_count": null,
      "outputs": []
    },
    {
      "cell_type": "markdown",
      "metadata": {
        "id": "K7RHipoijNEP"
      },
      "source": [
        "### Normalising data "
      ]
    },
    {
      "cell_type": "code",
      "metadata": {
        "id": "bb9QKAFYjNES"
      },
      "source": [
        "x = (x - x.mean())/ (x.max() - x.min())\n",
        "x = pd.DataFrame(x)\n",
        "x.insert(0, 'x0', 1, True)\n",
        "#x.head()"
      ],
      "execution_count": null,
      "outputs": []
    },
    {
      "cell_type": "markdown",
      "metadata": {
        "id": "xw3t6LTKjNEm"
      },
      "source": [
        "### DATA visualization"
      ]
    },
    {
      "cell_type": "code",
      "metadata": {
        "id": "vYtARC0PjNEo",
        "outputId": "aaa9bdd4-0572-4153-cf4b-0e29bd4687ac",
        "colab": {
          "base_uri": "https://localhost:8080/",
          "height": 265
        }
      },
      "source": [
        "pur_data= df.loc[df['label'] == 1]\n",
        "pur_x = pur_data['x']\n",
        "pur_y = pur_data['y']\n",
        "\n",
        "\n",
        "n_pur_data= df.loc[df['label'] == -1]\n",
        "n_pur_x = n_pur_data['x']\n",
        "n_pur_y = n_pur_data['y']\n",
        "\n",
        "plt.subplot(111)\n",
        "plt.plot(pur_x,pur_y,'bo')\n",
        "plt.plot(n_pur_x,n_pur_y,'ro')\n",
        "plt.show()"
      ],
      "execution_count": null,
      "outputs": [
        {
          "output_type": "display_data",
          "data": {
            "image/png": "[encoded data removed]",
            "text/plain": [
              "<Figure size 432x288 with 1 Axes>"
            ]
          },
          "metadata": {
            "tags": [],
            "needs_background": "light"
          }
        }
      ]
    },
    {
      "cell_type": "markdown",
      "metadata": {
        "id": "a-HBflP7jNE_"
      },
      "source": [
        "### AS we can see the data is linearly seperable we go for SVM without kernel"
      ]
    },
    {
      "cell_type": "markdown",
      "metadata": {
        "id": "ojA5w5SFjNFH"
      },
      "source": [
        "## splitting data set"
      ]
    },
    {
      "cell_type": "code",
      "metadata": {
        "id": "obWJt_byjNFI",
        "outputId": "d328a196-d8e7-4a2b-c4fc-fd5dc289d1ac",
        "colab": {
          "base_uri": "https://localhost:8080/",
          "height": 221
        }
      },
      "source": [
        "x_train, x_test, y_train, y_test = train_test_split(x, y, train_size=0.65)\n",
        "print(x_train.head())\n",
        "print(y_train.head())\n",
        "x_train = np.array(x_train)\n",
        "y_train = np.array(y_train)\n",
        "x_test = np.array(x_test)\n",
        "y_test = np.array(y_test)"
      ],
      "execution_count": null,
      "outputs": [
        {
          "output_type": "stream",
          "text": [
            "     x0         x         y\n",
            "196   1 -0.158167 -0.114181\n",
            "256   1  0.166355  0.295773\n",
            "205   1 -0.446047 -0.252775\n",
            "114   1 -0.431308 -0.040635\n",
            "156   1 -0.351012 -0.120561\n",
            "196    1\n",
            "256   -1\n",
            "205    1\n",
            "114    1\n",
            "156    1\n",
            "Name: label, dtype: int64\n"
          ],
          "name": "stdout"
        }
      ]
    },
    {
      "cell_type": "code",
      "metadata": {
        "id": "bhA5o74bjNFV"
      },
      "source": [
        "def svm(x_train, y_train, x_test, y_test, epochs, alpha):\n",
        "    m, n = x_train.shape\n",
        "    w = np.zeros(n)\n",
        "    costs = []\n",
        "    \n",
        "    for i in range(epochs):\n",
        "        y_pred = np.dot(x_train, w)\n",
        "        cost = 0\n",
        "        prod = y_train * y_pred\n",
        "        for j in range(prod.shape[0]):\n",
        "            val = prod[j]\n",
        "            if(val >= 1):\n",
        "            \n",
        "                w = w - alpha * (2 * 1/epochs * w)\n",
        "            else:\n",
        "                cost = cost + 1 - val \n",
        "                w = w + alpha * (x_train[j].T * y_train[j]  - 2 * 1/epochs * w)  \n",
        "                \n",
        "            costs.append(cost)\n",
        "    return w, costs"
      ],
      "execution_count": null,
      "outputs": []
    },
    {
      "cell_type": "code",
      "metadata": {
        "id": "rO6BkaGHjNFg"
      },
      "source": [
        "w, costs= svm(x_train, y_train, x_test, y_test, 500, 5e-4)"
      ],
      "execution_count": null,
      "outputs": []
    },
    {
      "cell_type": "code",
      "metadata": {
        "id": "3qRqMcebjNFq"
      },
      "source": [
        "def pred(X):\n",
        "  y = (np.dot(w, X))\n",
        "  return y.T"
      ],
      "execution_count": null,
      "outputs": []
    },
    {
      "cell_type": "code",
      "metadata": {
        "id": "7Lt6TT6QjNF1"
      },
      "source": [
        "y_pred = np.dot(x_test, w)\n",
        "predictions = []\n",
        "for val in y_pred:\n",
        "    if(val >= 1):\n",
        "        predictions.append(1)\n",
        "    else:\n",
        "        predictions.append(-1)\n",
        "predictions = np.array(predictions)"
      ],
      "execution_count": null,
      "outputs": []
    },
    {
      "cell_type": "code",
      "metadata": {
        "id": "qJWEssx7jNF6",
        "outputId": "14895c3a-6f05-42de-f050-ce06b5cc63f2",
        "colab": {
          "base_uri": "https://localhost:8080/",
          "height": 34
        }
      },
      "source": [
        "from sklearn.metrics import accuracy_score\n",
        "print(accuracy_score(y_test,predictions))"
      ],
      "execution_count": null,
      "outputs": [
        {
          "output_type": "stream",
          "text": [
            "0.926829268292683\n"
          ],
          "name": "stdout"
        }
      ]
    },
    {
      "cell_type": "code",
      "metadata": {
        "id": "cBInac0IjNGL",
        "outputId": "cd86eb3f-822c-44c3-859c-9269a53ef09d",
        "colab": {
          "base_uri": "https://localhost:8080/",
          "height": 51
        }
      },
      "source": [
        "from sklearn.metrics import confusion_matrix\n",
        "cm = confusion_matrix(predictions, y_test)\n",
        "cm"
      ],
      "execution_count": null,
      "outputs": [
        {
          "output_type": "execute_result",
          "data": {
            "text/plain": [
              "array([[54,  9],\n",
              "       [ 0, 60]])"
            ]
          },
          "metadata": {
            "tags": []
          },
          "execution_count": 11
        }
      ]
    },
    {
      "cell_type": "code",
      "metadata": {
        "id": "32Z09W3JjNGb",
        "outputId": "e32c9cff-a7fa-440a-daff-fdd177c61286",
        "colab": {
          "base_uri": "https://localhost:8080/",
          "height": 85
        }
      },
      "source": [
        "tp=cm[0][0]\n",
        "fn=cm[1][0]\n",
        "fp=cm[0][1]\n",
        "tn=cm[1][1]\n",
        "\n",
        "accuracy = (tp+tn)/np.sum(cm)\n",
        "precision=tp/(tp+tn)\n",
        "recall=tp/(tp+fn)\n",
        "f_score=2*recall*precision/(recall+precision)\n",
        "\n",
        "print(\"Accuracy : \",accuracy)\n",
        "print(\"Precision : \",precision)\n",
        "print(\"Recall : \",recall)\n",
        "print(\"F_score : \",f_score)"
      ],
      "execution_count": null,
      "outputs": [
        {
          "output_type": "stream",
          "text": [
            "Accuracy :  0.926829268292683\n",
            "Precision :  0.47368421052631576\n",
            "Recall :  1.0\n",
            "F_score :  0.6428571428571429\n"
          ],
          "name": "stdout"
        }
      ]
    },
    {
      "cell_type": "code",
      "metadata": {
        "id": "ahwM3nmkjNGq",
        "outputId": "04039165-c190-4b62-b881-6e53a2bed4d0",
        "colab": {
          "base_uri": "https://localhost:8080/",
          "height": 333
        }
      },
      "source": [
        "from matplotlib.colors import ListedColormap\n",
        "X_set, y_set = x_train, y_train\n",
        "\n",
        "X_grid_1 = np.arange(start = X_set[:, 1].min() - 1, stop = X_set[:, 1].max() + 1,\n",
        "step = 0.1)\n",
        "\n",
        "X_grid_2 = np.arange(start = X_set[:, 2].min() - 1, stop = X_set[:, 2].max() + 1,\n",
        "step = 0.1)\n",
        "\n",
        "X0 = np.ones((X_grid_1.shape[0], X_grid_1.shape[0]))\n",
        "\n",
        "X1, X2  = np.meshgrid(X_grid_1, X_grid_2)\n",
        "\n",
        "X3 = pred(np.array([X0.ravel(), X1.ravel(), X2.ravel()])).reshape(X1.shape)\n",
        "plt.contourf(X1, X2, X3, alpha = 0.50, cmap = ListedColormap((\"red\",\n",
        "\"blue\")))\n",
        "plt.xlim(X1.min(), X1.max())\n",
        "plt.ylim(X2.min(), X2.max())\n",
        "\n",
        "X_zero_0 = []\n",
        "X_one_0 = []\n",
        "X_zero_1 = []\n",
        "X_one_1 = []\n",
        "for i in range(len(y_set)):\n",
        "        if y_set[i] == -1 :\n",
        "            X_zero_0.append(X_set[i,1])\n",
        "            X_zero_1.append(X_set[i,2])\n",
        "        else:\n",
        "            X_one_0.append(X_set[i,1])\n",
        "            X_one_1.append(X_set[i,2])\n",
        "            \n",
        "plt.scatter(X_zero_0, X_zero_1, c = ListedColormap((\"red\", \"blue\"))(-1), label = -1,edgecolors = \"Black\")\n",
        "plt.scatter(X_one_0, X_one_1, c = ListedColormap((\"red\", \"blue\"))(1), label = 1,edgecolors = \"Black\")\n",
        "\n",
        "plt.xlabel(\"x\")\n",
        "plt.ylabel(\"y\")\n",
        "plt.legend()\n",
        "plt.savefig('out.png',bbox_inches='tight')\n",
        "plt.show()"
      ],
      "execution_count": null,
      "outputs": [
        {
          "output_type": "stream",
          "text": [
            "'c' argument looks like a single numeric RGB or RGBA sequence, which should be avoided as value-mapping will have precedence in case its length matches with 'x' & 'y'.  Please use a 2-D array with a single row if you really want to specify the same RGB or RGBA value for all points.\n",
            "'c' argument looks like a single numeric RGB or RGBA sequence, which should be avoided as value-mapping will have precedence in case its length matches with 'x' & 'y'.  Please use a 2-D array with a single row if you really want to specify the same RGB or RGBA value for all points.\n"
          ],
          "name": "stderr"
        },
        {
          "output_type": "display_data",
          "data": {
            "image/png": "[encoded data removed]",
            "text/plain": [
              "<Figure size 432x288 with 1 Axes>"
            ]
          },
          "metadata": {
            "tags": [],
            "needs_background": "light"
          }
        }
      ]
    },
    {
      "cell_type": "code",
      "metadata": {
        "id": "lvpEHd4HjNGy"
      },
      "source": [
        ""
      ],
      "execution_count": null,
      "outputs": []
    }
  ]
}