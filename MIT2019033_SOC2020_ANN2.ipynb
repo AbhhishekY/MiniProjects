{
  "nbformat": 4,
  "nbformat_minor": 0,
  "metadata": {
    "kernelspec": {
      "display_name": "Python 3",
      "language": "python",
      "name": "python3"
    },
    "language_info": {
      "codemirror_mode": {
        "name": "ipython",
        "version": 3
      },
      "file_extension": ".py",
      "mimetype": "text/x-python",
      "name": "python",
      "nbconvert_exporter": "python",
      "pygments_lexer": "ipython3",
      "version": "3.7.3"
    },
    "colab": {
      "name": "MIT2019033_SOC2020_ANN2",
      "provenance": []
    }
  },
  "cells": [
    {
      "cell_type": "code",
      "metadata": {
        "id": "NEFkKnnV7YgV"
      },
      "source": [
        "import numpy as np "
      ],
      "execution_count": null,
      "outputs": []
    },
    {
      "cell_type": "code",
      "metadata": {
        "id": "UdrZEaJA7Yge"
      },
      "source": [
        "def sigmoid (x):\n",
        "    return 1/(1 + np.exp(-x))\n",
        "\n",
        "def sigmoid_derivative(x):\n",
        "    return x * (1 - x)"
      ],
      "execution_count": null,
      "outputs": []
    },
    {
      "cell_type": "code",
      "metadata": {
        "id": "_jO-IWAW7Ygi",
        "outputId": "042b38a3-3893-4263-e204-f9ed81fe6ea9",
        "colab": {
          "base_uri": "https://localhost:8080/",
          "height": 153
        }
      },
      "source": [
        "inputs = np.array([[0,0],[0,1],[1,0],[1,1]])\n",
        "expected_output = np.array([[1],[0],[0],[1]])\n",
        "\n",
        "epochs = 10000\n",
        "lr = 0.2\n",
        "inputLayerNeurons, hiddenLayerNeurons, outputLayerNeurons = 2,2,1\n",
        "\n",
        "hidden_weights = np.random.uniform(size=(inputLayerNeurons,hiddenLayerNeurons))\n",
        "hidden_bias =np.random.uniform(size=(1,hiddenLayerNeurons))\n",
        "output_weights = np.random.uniform(size=(hiddenLayerNeurons,outputLayerNeurons))\n",
        "output_bias = np.random.uniform(size=(1,outputLayerNeurons))\n",
        "\n",
        "print(\"Initial hidden weights: \",end='')\n",
        "print(*hidden_weights)\n",
        "print(\"Initial hidden biases: \",end='')\n",
        "print(*hidden_bias)\n",
        "print(\"Initial output weights: \",end='')\n",
        "print(*output_weights)\n",
        "print(\"Initial output biases: \",end='')\n",
        "print(*output_bias)"
      ],
      "execution_count": null,
      "outputs": [
        {
          "output_type": "stream",
          "text": [
            "Initial hidden weights: [0.4471103  0.41116967] [0.53542454 0.38824534]\n",
            "Initial hidden biases: [0.19721432 0.30422996]\n",
            "Initial output weights: [0.63413973] [0.33793583]\n",
            "Initial output biases: [0.64792556]\n",
            "Initial hidden weights: [0.99537612 0.23321791] [0.87927424 0.34239574]\n",
            "Initial hidden biases: [0.00535095 0.46214438]\n",
            "Initial output weights: [0.07643928] [0.60040565]\n",
            "Initial output biases: [0.68268527]\n"
          ],
          "name": "stdout"
        }
      ]
    },
    {
      "cell_type": "code",
      "metadata": {
        "id": "cV_mWQdO7Ygr",
        "outputId": "7253f4cd-ce52-470b-a81a-e3ad56156bbf",
        "colab": {
          "base_uri": "https://localhost:8080/",
          "height": 221
        }
      },
      "source": [
        "\n",
        "for i in range(epochs):\n",
        "\t\n",
        "\thidden_layer_activation = np.dot(inputs,hidden_weights)\n",
        "\thidden_layer_activation += hidden_bias\n",
        "\thidden_layer_output = sigmoid(hidden_layer_activation)\n",
        "\n",
        "\toutput_layer_activation = np.dot(hidden_layer_output,output_weights)\n",
        "\toutput_layer_activation += output_bias\n",
        "\tpredicted_output = sigmoid(output_layer_activation)\n",
        "\n",
        "\terror = expected_output - predicted_output\n",
        "\td_predicted_output = error * sigmoid_derivative(predicted_output)\n",
        "\t\n",
        "\terror_hidden_layer = d_predicted_output.dot(output_weights.T)\n",
        "\td_hidden_layer = error_hidden_layer * sigmoid_derivative(hidden_layer_output)\n",
        "\n",
        "\toutput_weights += hidden_layer_output.T.dot(d_predicted_output) * lr\n",
        "\toutput_bias += np.sum(d_predicted_output,axis=0,keepdims=True) * lr\n",
        "\thidden_weights += inputs.T.dot(d_hidden_layer) * lr\n",
        "\thidden_bias += np.sum(d_hidden_layer,axis=0,keepdims=True) * lr\n",
        "\n",
        "print(\" final hidden weights: \",end='')\n",
        "print(*hidden_weights)\n",
        "print(\" final hidden bias: \",end='')\n",
        "print(*hidden_bias)\n",
        "print(\" final output weights: \",end='')\n",
        "print(*output_weights)\n",
        "print(\" final output bias: \",end='')\n",
        "print(*output_bias)\n",
        "\n",
        "print(\"\\nOutput from neural net: \",end='')\n",
        "print(*predicted_output)"
      ],
      "execution_count": null,
      "outputs": [
        {
          "output_type": "stream",
          "text": [
            " hidden weights: [4.15166296 6.07960979] [4.15320087 6.08624435]\n",
            " hidden bias: [-6.37330324 -2.63581884]\n",
            " output weights: [9.12840187] [-8.44844023]\n",
            " output bias: [3.85832543]\n",
            "\n",
            "Output from neural net: [0.96473169] [0.03118985] [0.03120304] [0.96718051]\n",
            " hidden weights: [6.18837422 4.18130056] [6.19967523 4.1838236 ]\n",
            " hidden bias: [-2.70042991 -6.42078588]\n",
            " output weights: [-8.59719545] [9.31907807]\n",
            " output bias: [3.91976253]\n",
            "\n",
            "Output from neural net: [0.96750585] [0.02857945] [0.02859982] [0.96998605]\n"
          ],
          "name": "stdout"
        }
      ]
    },
    {
      "cell_type": "code",
      "metadata": {
        "id": "i-a-ljuK7Ygw"
      },
      "source": [
        "def compute_output(inputs):\n",
        "    hidden_layer_activation = np.dot(inputs,hidden_weights)\n",
        "    hidden_layer_activation += hidden_bias\n",
        "    \n",
        "    hidden_layer_output = sigmoid(hidden_layer_activation)\n",
        "    output_layer_activation = np.dot(hidden_layer_output,output_weights)\n",
        "    output_layer_activation += output_bias\n",
        "    \n",
        "    predicted_output = sigmoid(output_layer_activation)\n",
        "    return predicted_output"
      ],
      "execution_count": null,
      "outputs": []
    },
    {
      "cell_type": "code",
      "metadata": {
        "id": "aWmP3f2k7Ygz",
        "outputId": "3a0b4b7c-fd8e-43b1-9d92-05dcfa27af47",
        "colab": {
          "base_uri": "https://localhost:8080/",
          "height": 153
        }
      },
      "source": [
        "\n",
        "inputs = np.array([[0,0],[0,1],[1,0],[1,1]])\n",
        "print(compute_output(inputs))"
      ],
      "execution_count": null,
      "outputs": [
        {
          "output_type": "stream",
          "text": [
            "[[0.96473432]\n",
            " [0.0311874 ]\n",
            " [0.03120059]\n",
            " [0.96718317]]\n",
            "[[0.96750792]\n",
            " [0.02857754]\n",
            " [0.02859791]\n",
            " [0.96998812]]\n"
          ],
          "name": "stdout"
        }
      ]
    },
    {
      "cell_type": "code",
      "metadata": {
        "id": "YKQY0-KU7Yg6"
      },
      "source": [
        ""
      ],
      "execution_count": null,
      "outputs": []
    },
    {
      "cell_type": "code",
      "metadata": {
        "id": "c-oWgWXf7YhA"
      },
      "source": [
        ""
      ],
      "execution_count": null,
      "outputs": []
    }
  ]
}