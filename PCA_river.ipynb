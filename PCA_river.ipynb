{
  "nbformat": 4,
  "nbformat_minor": 0,
  "metadata": {
    "colab": {
      "name": "PCA_river.ipynb",
      "provenance": []
    },
    "kernelspec": {
      "name": "python3",
      "display_name": "Python 3"
    }
  },
  "cells": [
    {
      "cell_type": "code",
      "metadata": {
        "id": "MZNE8nrXZb7W"
      },
      "source": [
        "import numpy as np\n",
        "import cv2\n",
        "from PIL import Image"
      ],
      "execution_count": null,
      "outputs": []
    },
    {
      "cell_type": "code",
      "metadata": {
        "id": "y6J0ic3AZgfA"
      },
      "source": [
        "red = np.array(Image.open('/content/1.gif')).flatten()\n",
        "green  = np.array(Image.open('/content/2.gif')).flatten()\n",
        "blue = np.array(Image.open('/content/3.gif')).flatten()\n",
        "infra = np.array(Image.open('/content/4.gif')).flatten()"
      ],
      "execution_count": null,
      "outputs": []
    },
    {
      "cell_type": "code",
      "metadata": {
        "id": "cL8eC0WXZk95"
      },
      "source": [
        "red = red - red.mean()\n",
        "green = green - green.mean()\n",
        "blue = blue - blue.mean()\n",
        "infra = infra - infra.mean()"
      ],
      "execution_count": null,
      "outputs": []
    },
    {
      "cell_type": "code",
      "metadata": {
        "id": "CbomFtE2ZpAn"
      },
      "source": [
        "cov = np.cov([red,green,blue,infra])\n",
        "_, vec = np.linalg.eig(cov)\n",
        "PC = [[],[],[],[]]\n",
        "\n",
        "for j in range(red.shape[0]):\n",
        "    for k in range(4):\n",
        "        PC[k].append(np.dot(vec[:,k], [red[j],green[j],blue[j],infra[j]]))\n"
      ],
      "execution_count": null,
      "outputs": []
    },
    {
      "cell_type": "code",
      "metadata": {
        "id": "QrfHrW1mZvzl"
      },
      "source": [
        "      \n",
        "new_r = np.array(PC[0]).reshape((512,512)).astype(np.uint8)\n",
        "new_g = np.array(PC[1]).reshape((512,512)).astype(np.uint8)\n",
        "new_b = np.array(PC[2]).reshape((512,512)).astype(np.uint8)\n",
        "new_i = np.array(PC[3]).reshape((512,512)).astype(np.uint8)"
      ],
      "execution_count": null,
      "outputs": []
    },
    {
      "cell_type": "code",
      "metadata": {
        "id": "iPPIzBOwZznN"
      },
      "source": [
        "img_r = Image.fromarray(new_r)\n",
        "img_g = Image.fromarray(new_g)\n",
        "img_b = Image.fromarray(new_b)\n",
        "img_i = Image.fromarray(new_i)"
      ],
      "execution_count": null,
      "outputs": []
    },
    {
      "cell_type": "code",
      "metadata": {
        "id": "Ju6pCG4BZVt3"
      },
      "source": [
        "img_r.save(\"PCA_1.png\")\n",
        "img_g.save(\"PCA_2.png\")\n",
        "img_b.save(\"PCA_3.png\")\n",
        "img_i.save(\"PCA_4.png\")"
      ],
      "execution_count": null,
      "outputs": []
    }
  ]
}