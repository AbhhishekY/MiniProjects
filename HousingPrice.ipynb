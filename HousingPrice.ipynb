{
  "nbformat": 4,
  "nbformat_minor": 0,
  "metadata": {
    "kernelspec": {
      "display_name": "Python 3",
      "language": "python",
      "name": "python3"
    },
    "language_info": {
      "codemirror_mode": {
        "name": "ipython",
        "version": 3
      },
      "file_extension": ".py",
      "mimetype": "text/x-python",
      "name": "python",
      "nbconvert_exporter": "python",
      "pygments_lexer": "ipython3",
      "version": "3.7.4"
    },
    "colab": {
      "name": "HousingPrice.ipynb",
      "provenance": []
    }
  },
  "cells": [
    {
      "cell_type": "code",
      "metadata": {
        "id": "ql3v0VxLNwo_"
      },
      "source": [
        "import numpy as np\n",
        "import pandas as pd\n",
        "import matplotlib.pyplot as plt"
      ],
      "execution_count": null,
      "outputs": []
    },
    {
      "cell_type": "code",
      "metadata": {
        "id": "WiXCYFFKNwpK",
        "outputId": "f8c4acc5-7eb1-4252-dcc8-7c057e934a0a",
        "colab": {
          "base_uri": "https://localhost:8080/",
          "height": 195
        }
      },
      "source": [
        "Data = pd.read_csv(\"/content/Housing Price data set.csv\",index_col = 0)\n",
        "Data.head()"
      ],
      "execution_count": null,
      "outputs": [
        {
          "output_type": "execute_result",
          "data": {
            "text/html": [
              "<div>\n",
              "<style scoped>\n",
              "    .dataframe tbody tr th:only-of-type {\n",
              "        vertical-align: middle;\n",
              "    }\n",
              "\n",
              "    .dataframe tbody tr th {\n",
              "        vertical-align: top;\n",
              "    }\n",
              "\n",
              "    .dataframe thead th {\n",
              "        text-align: right;\n",
              "    }\n",
              "</style>\n",
              "<table border=\"1\" class=\"dataframe\">\n",
              "  <thead>\n",
              "    <tr style=\"text-align: right;\">\n",
              "      <th></th>\n",
              "      <th>price</th>\n",
              "      <th>lotsize</th>\n",
              "      <th>bedrooms</th>\n",
              "      <th>bathrms</th>\n",
              "      <th>stories</th>\n",
              "      <th>driveway</th>\n",
              "      <th>recroom</th>\n",
              "      <th>fullbase</th>\n",
              "      <th>gashw</th>\n",
              "      <th>airco</th>\n",
              "      <th>garagepl</th>\n",
              "      <th>prefarea</th>\n",
              "    </tr>\n",
              "  </thead>\n",
              "  <tbody>\n",
              "    <tr>\n",
              "      <th>1</th>\n",
              "      <td>42000.0</td>\n",
              "      <td>5850</td>\n",
              "      <td>3</td>\n",
              "      <td>1</td>\n",
              "      <td>2</td>\n",
              "      <td>yes</td>\n",
              "      <td>no</td>\n",
              "      <td>yes</td>\n",
              "      <td>no</td>\n",
              "      <td>no</td>\n",
              "      <td>1</td>\n",
              "      <td>no</td>\n",
              "    </tr>\n",
              "    <tr>\n",
              "      <th>2</th>\n",
              "      <td>38500.0</td>\n",
              "      <td>4000</td>\n",
              "      <td>2</td>\n",
              "      <td>1</td>\n",
              "      <td>1</td>\n",
              "      <td>yes</td>\n",
              "      <td>no</td>\n",
              "      <td>no</td>\n",
              "      <td>no</td>\n",
              "      <td>no</td>\n",
              "      <td>0</td>\n",
              "      <td>no</td>\n",
              "    </tr>\n",
              "    <tr>\n",
              "      <th>3</th>\n",
              "      <td>49500.0</td>\n",
              "      <td>3060</td>\n",
              "      <td>3</td>\n",
              "      <td>1</td>\n",
              "      <td>1</td>\n",
              "      <td>yes</td>\n",
              "      <td>no</td>\n",
              "      <td>no</td>\n",
              "      <td>no</td>\n",
              "      <td>no</td>\n",
              "      <td>0</td>\n",
              "      <td>no</td>\n",
              "    </tr>\n",
              "    <tr>\n",
              "      <th>4</th>\n",
              "      <td>60500.0</td>\n",
              "      <td>6650</td>\n",
              "      <td>3</td>\n",
              "      <td>1</td>\n",
              "      <td>2</td>\n",
              "      <td>yes</td>\n",
              "      <td>yes</td>\n",
              "      <td>no</td>\n",
              "      <td>no</td>\n",
              "      <td>no</td>\n",
              "      <td>0</td>\n",
              "      <td>no</td>\n",
              "    </tr>\n",
              "    <tr>\n",
              "      <th>5</th>\n",
              "      <td>61000.0</td>\n",
              "      <td>6360</td>\n",
              "      <td>2</td>\n",
              "      <td>1</td>\n",
              "      <td>1</td>\n",
              "      <td>yes</td>\n",
              "      <td>no</td>\n",
              "      <td>no</td>\n",
              "      <td>no</td>\n",
              "      <td>no</td>\n",
              "      <td>0</td>\n",
              "      <td>no</td>\n",
              "    </tr>\n",
              "  </tbody>\n",
              "</table>\n",
              "</div>"
            ],
            "text/plain": [
              "     price  lotsize  bedrooms  bathrms  ...  gashw airco garagepl prefarea\n",
              "1  42000.0     5850         3        1  ...     no    no        1       no\n",
              "2  38500.0     4000         2        1  ...     no    no        0       no\n",
              "3  49500.0     3060         3        1  ...     no    no        0       no\n",
              "4  60500.0     6650         3        1  ...     no    no        0       no\n",
              "5  61000.0     6360         2        1  ...     no    no        0       no\n",
              "\n",
              "[5 rows x 12 columns]"
            ]
          },
          "metadata": {
            "tags": []
          },
          "execution_count": 651
        }
      ]
    },
    {
      "cell_type": "code",
      "metadata": {
        "id": "zkt6gTnNNwpS"
      },
      "source": [
        "Data['driveway'] = Data['driveway'].map({'yes': 1, 'no': 0})\n",
        "Data['recroom'] = Data['recroom'].map({'yes': 1, 'no': 0})\n",
        "Data['fullbase'] = Data['fullbase'].map({'yes': 1, 'no': 0})\n",
        "Data['gashw'] = Data['gashw'].map({'yes': 1, 'no': 0})\n",
        "Data['airco'] = Data['airco'].map({'yes': 1, 'no': 0})\n",
        "Data['prefarea'] = Data['prefarea'].map({'yes': 1, 'no': 0})"
      ],
      "execution_count": null,
      "outputs": []
    },
    {
      "cell_type": "code",
      "metadata": {
        "id": "pTFWDdj-Nwpa"
      },
      "source": [
        "Y = Data[\"price\"]\n",
        "Y_train = Y.iloc[:500]\n",
        "Y_test = Y.iloc[500:]\n",
        "Y_train = Y_train.to_numpy()"
      ],
      "execution_count": null,
      "outputs": []
    },
    {
      "cell_type": "code",
      "metadata": {
        "id": "d6LAmAlPNwph"
      },
      "source": [
        "X = Data.iloc[:,1:]\n",
        "#X.head()"
      ],
      "execution_count": null,
      "outputs": []
    },
    {
      "cell_type": "code",
      "metadata": {
        "id": "MsM7lqSjNwpp"
      },
      "source": [
        "X['x0'] = 1\n",
        "X= X[['x0','lotsize','bedrooms','bathrms','stories','driveway','recroom','fullbase','gashw','airco','prefarea']]"
      ],
      "execution_count": null,
      "outputs": []
    },
    {
      "cell_type": "code",
      "metadata": {
        "id": "05vmrhFKNwp5"
      },
      "source": [
        "X_train = X.iloc[:500,:]\n",
        "X_test = X.iloc[500:,:]\n",
        "X_train = X_train.to_numpy()\n"
      ],
      "execution_count": null,
      "outputs": []
    },
    {
      "cell_type": "code",
      "metadata": {
        "id": "vxIK87YENwp_"
      },
      "source": [
        "xxt = np.matmul(X_train.T,X_train)\n",
        "xxy = np.matmul(X_train.T,Y_train)\n",
        "xxi = np.linalg.inv(xxt)\n",
        "theta = np.matmul(xxi,xxy)"
      ],
      "execution_count": null,
      "outputs": []
    },
    {
      "cell_type": "code",
      "metadata": {
        "id": "Xnh9Ef0-Nwqa"
      },
      "source": [
        "X_test = X_test.to_numpy()\n",
        "Y_test = Y_test.to_numpy()"
      ],
      "execution_count": null,
      "outputs": []
    },
    {
      "cell_type": "code",
      "metadata": {
        "id": "uZbSmpE_Nwqg"
      },
      "source": [
        "y_predicted = np.matmul(theta,X_test.T)"
      ],
      "execution_count": null,
      "outputs": []
    },
    {
      "cell_type": "code",
      "metadata": {
        "id": "d8G_YnM_Nwqn"
      },
      "source": [
        "#print(len(Y_test))\n",
        "#print(len(y_predicted))"
      ],
      "execution_count": null,
      "outputs": []
    },
    {
      "cell_type": "code",
      "metadata": {
        "id": "Dtdkp2HRNwqx",
        "outputId": "874e9ade-53fb-48b4-970c-cd640e54542a",
        "colab": {
          "base_uri": "https://localhost:8080/",
          "height": 34
        }
      },
      "source": [
        "error = y_predicted - Y_test\n",
        "error.mean()"
      ],
      "execution_count": null,
      "outputs": [
        {
          "output_type": "execute_result",
          "data": {
            "text/plain": [
              "-2522.5332444578166"
            ]
          },
          "metadata": {
            "tags": []
          },
          "execution_count": 661
        }
      ]
    },
    {
      "cell_type": "markdown",
      "metadata": {
        "id": "BRTOUPrtNwq5"
      },
      "source": [
        "## Regularization"
      ]
    },
    {
      "cell_type": "code",
      "metadata": {
        "id": "apkEqO-FNwq7"
      },
      "source": [
        "I = np.identity(11)\n",
        "I[0][0] = 0\n",
        "lmda = 2\n"
      ],
      "execution_count": null,
      "outputs": []
    },
    {
      "cell_type": "code",
      "metadata": {
        "id": "n6Bcn-BUNwrI"
      },
      "source": [
        "xxt = xxt + lmda*I"
      ],
      "execution_count": null,
      "outputs": []
    },
    {
      "cell_type": "code",
      "metadata": {
        "id": "v6R7NiXVdJQW"
      },
      "source": [
        ""
      ],
      "execution_count": null,
      "outputs": []
    },
    {
      "cell_type": "code",
      "metadata": {
        "id": "bXXvsvpYNwrO",
        "outputId": "37c542f1-2e84-443b-ddde-00f8b886a095",
        "colab": {
          "base_uri": "https://localhost:8080/",
          "height": 67
        }
      },
      "source": [
        "xxi = np.linalg.inv(xxt)\n",
        "new_theta = np.matmul(xxi,xxy)\n",
        "new_theta"
      ],
      "execution_count": null,
      "outputs": [
        {
          "output_type": "execute_result",
          "data": {
            "text/plain": [
              "array([-6.97284502e+03,  4.15307684e+00,  2.57478776e+03,  1.49663191e+04,\n",
              "        5.84497307e+03,  7.51220332e+03,  3.94201272e+03,  6.00610127e+03,\n",
              "        1.36287001e+04,  1.26056241e+04,  9.27438878e+03])"
            ]
          },
          "metadata": {
            "tags": []
          },
          "execution_count": 664
        }
      ]
    },
    {
      "cell_type": "code",
      "metadata": {
        "id": "6iIDTSGOdRv1"
      },
      "source": [
        ""
      ],
      "execution_count": null,
      "outputs": []
    },
    {
      "cell_type": "code",
      "metadata": {
        "id": "Ty72jym0NwrU",
        "outputId": "187b3e28-9240-41b0-a349-a5811db33f5c",
        "colab": {
          "base_uri": "https://localhost:8080/",
          "height": 34
        }
      },
      "source": [
        "new_y_predicted = np.matmul(new_theta,X_test.T)\n",
        "new_error = new_y_predicted - Y_test\n",
        "new_error\n",
        "new_error.mean()"
      ],
      "execution_count": null,
      "outputs": [
        {
          "output_type": "execute_result",
          "data": {
            "text/plain": [
              "-2557.053863041645"
            ]
          },
          "metadata": {
            "tags": []
          },
          "execution_count": 665
        }
      ]
    },
    {
      "cell_type": "markdown",
      "metadata": {
        "id": "jYvIzcUeNwrZ"
      },
      "source": [
        "## Gradient Descedent "
      ]
    },
    {
      "cell_type": "code",
      "metadata": {
        "id": "tULmHGK7Nwrc"
      },
      "source": [
        "X = Data.iloc[:,1:3]\n",
        "Y = Data[\"price\"]\n",
        "X = (X - X.mean())/X.std()\n",
        "Y = (Y - Y.mean())/Y.std()\n",
        "#print(X.head())\n",
        "#print(Y.head())"
      ],
      "execution_count": null,
      "outputs": []
    },
    {
      "cell_type": "code",
      "metadata": {
        "id": "DzrZtOl3Nwrn"
      },
      "source": [
        "def computeCost(X,y,theta):\n",
        "    m = len(y)\n",
        "    y_pr = X.dot(theta)\n",
        "    cost = (1/2*m)*np.sum(np.square(y-y_pr))\n",
        "    return cost"
      ],
      "execution_count": null,
      "outputs": []
    },
    {
      "cell_type": "code",
      "metadata": {
        "id": "sT8u79aGNwrt"
      },
      "source": [
        "#gradient descent\n",
        "cl = []\n",
        "\n",
        "def gradientDescent(X,y,theta,iters,alpha):\n",
        "    m = len(y)\n",
        "    for it in range(iters):\n",
        "        y_pred = np.dot(X,theta)\n",
        "        theta = theta - (1/m)*alpha*(X.T.dot((y_pred-y)))\n",
        "        cost = computeCost(X,y,theta)\n",
        "        cl.append(cost)\n",
        "    return theta,cost\n",
        "\n",
        "theta = np.array([0,0,0])\n",
        "X_b = np.c_[np.ones((len(X),1)),X]\n",
        "theta,cost = gradientDescent(X_b,Y,theta,100,0.01)"
      ],
      "execution_count": null,
      "outputs": []
    },
    {
      "cell_type": "code",
      "metadata": {
        "id": "I24wHqp6Nwrx",
        "outputId": "b25481bb-ebfc-4589-9e40-764b690aa542",
        "colab": {
          "base_uri": "https://localhost:8080/",
          "height": 329
        }
      },
      "source": [
        "print(theta)\n",
        "print(cost)\n",
        "plt.plot(np.arange(100), cl, 'r')  \n",
        "plt.xlabel('Iterations')  \n",
        "plt.ylabel('Cost') \n",
        "plt.title('Error vs. Training Epoch') \n",
        "plt.show()\n"
      ],
      "execution_count": null,
      "outputs": [
        {
          "output_type": "stream",
          "text": [
            "[-1.33731040e-16  3.25602005e-01  2.11257967e-01]\n",
            "99357.87531851219\n"
          ],
          "name": "stdout"
        },
        {
          "output_type": "display_data",
          "data": {
            "image/png": "[encoded data removed]",
            "text/plain": [
              "<Figure size 432x288 with 1 Axes>"
            ]
          },
          "metadata": {
            "tags": []
          }
        }
      ]
    },
    {
      "cell_type": "markdown",
      "metadata": {
        "id": "37Q-8QSnNwr5"
      },
      "source": [
        "## Gradient Descent with regularization"
      ]
    },
    {
      "cell_type": "code",
      "metadata": {
        "id": "t8P9kVgsNwr7"
      },
      "source": [
        "def computeCost(X,y,theta,lmd):\n",
        "    m = len(y)\n",
        "    y_pr = X.dot(theta)\n",
        "    cost = (1/2*m)*np.sum(np.square(y-y_pr)) + (lmd/2*m)*np.sum(np.square(theta))\n",
        "    return cost\n",
        "\n",
        "#gradient descent\n",
        "cl1 = []\n",
        "t = []\n",
        "def gradientDescent(X,y,theta,iters,alpha,lmd):\n",
        "    m = len(y)\n",
        "    for it in range(iters):\n",
        "        y_pred = np.dot(X,theta)\n",
        "        theta = theta - (1/m)*alpha*((X.T.dot((y_pred-y))) + (lmd/m)*(theta))\n",
        "        cost = computeCost(X,y,theta,lmd)\n",
        "        #t.append(theta)\n",
        "        cl1.append(cost)\n",
        "    return theta,cost\n",
        "\n",
        "theta = np.array([0,0,0])\n",
        "X_b = np.c_[np.ones((len(X),1)),X]\n",
        "theta,cost = gradientDescent(X_b,Y,theta,100,.01,5)\n"
      ],
      "execution_count": null,
      "outputs": []
    },
    {
      "cell_type": "code",
      "metadata": {
        "id": "0DK0AafEQ1QD",
        "outputId": "c9bb20f9-7bd4-4aa6-fd47-18dadc0ace61",
        "colab": {
          "base_uri": "https://localhost:8080/",
          "height": 50
        }
      },
      "source": [
        "print(theta)\n",
        "print(cost)"
      ],
      "execution_count": null,
      "outputs": [
        {
          "output_type": "stream",
          "text": [
            "[-1.33884260e-16  3.25599769e-01  2.11256553e-01]\n",
            "99563.66812937029\n"
          ],
          "name": "stdout"
        }
      ]
    },
    {
      "cell_type": "code",
      "metadata": {
        "id": "P5tZzfwdNwsF",
        "outputId": "4dca164c-79d3-4f73-9f0c-9d797310626f",
        "colab": {
          "base_uri": "https://localhost:8080/",
          "height": 295
        }
      },
      "source": [
        "#fig, ax = plt.subplots()  \n",
        "plt.plot(np.arange(100), cl1, 'b')  \n",
        "plt.xlabel('Iterations')  \n",
        "plt.ylabel('Cost') \n",
        "plt.title('Error vs. Training Epoch') \n",
        "plt.show()"
      ],
      "execution_count": null,
      "outputs": [
        {
          "output_type": "display_data",
          "data": {
            "image/png": "[encoded data removed]",
            "text/plain": [
              "<Figure size 432x288 with 1 Axes>"
            ]
          },
          "metadata": {
            "tags": []
          }
        }
      ]
    }
  ]
}