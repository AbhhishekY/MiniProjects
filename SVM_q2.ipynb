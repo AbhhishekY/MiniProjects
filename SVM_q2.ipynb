{
  "nbformat": 4,
  "nbformat_minor": 0,
  "metadata": {
    "kernelspec": {
      "display_name": "Python 3",
      "language": "python",
      "name": "python3"
    },
    "language_info": {
      "codemirror_mode": {
        "name": "ipython",
        "version": 3
      },
      "file_extension": ".py",
      "mimetype": "text/x-python",
      "name": "python",
      "nbconvert_exporter": "python",
      "pygments_lexer": "ipython3",
      "version": "3.7.4"
    },
    "colab": {
      "name": "SVM_q2.ipynb",
      "provenance": []
    }
  },
  "cells": [
    {
      "cell_type": "code",
      "metadata": {
        "id": "h-QjSSK1h-le"
      },
      "source": [
        "import pandas as pd\n",
        "import numpy as np\n",
        "import matplotlib.pyplot as plt\n",
        "from sklearn.utils import shuffle\n",
        "from sklearn.model_selection import train_test_split"
      ],
      "execution_count": null,
      "outputs": []
    },
    {
      "cell_type": "code",
      "metadata": {
        "id": "Te0DcCFdh-lm"
      },
      "source": [
        "df = pd.read_csv('/content/ionosphere.data', header = None)\n",
        "#df.head()"
      ],
      "execution_count": null,
      "outputs": []
    },
    {
      "cell_type": "code",
      "metadata": {
        "id": "6BaU5C90h-lt"
      },
      "source": [
        "y = df.iloc[:,-1].replace(to_replace=['g', 'b'], value=[-1, 1])\n",
        "x = df.iloc[:,0:-1]\n",
        "#print(df.head())\n",
        "#print(x.head())\n",
        "#print(y.head())"
      ],
      "execution_count": null,
      "outputs": []
    },
    {
      "cell_type": "code",
      "metadata": {
        "id": "6Lqc0IbVh-ly",
        "outputId": "94c76f08-b39a-457b-8029-b53a8445aa2d",
        "colab": {
          "base_uri": "https://localhost:8080/",
          "height": 224
        }
      },
      "source": [
        "x = (x - x.mean())/ (x.max() - x.min())\n",
        "x = pd.DataFrame(x)\n",
        "x.insert(0, 'x0', 1, True)\n",
        "x.head()"
      ],
      "execution_count": null,
      "outputs": [
        {
          "output_type": "execute_result",
          "data": {
            "text/html": [
              "<div>\n",
              "<style scoped>\n",
              "    .dataframe tbody tr th:only-of-type {\n",
              "        vertical-align: middle;\n",
              "    }\n",
              "\n",
              "    .dataframe tbody tr th {\n",
              "        vertical-align: top;\n",
              "    }\n",
              "\n",
              "    .dataframe thead th {\n",
              "        text-align: right;\n",
              "    }\n",
              "</style>\n",
              "<table border=\"1\" class=\"dataframe\">\n",
              "  <thead>\n",
              "    <tr style=\"text-align: right;\">\n",
              "      <th></th>\n",
              "      <th>x0</th>\n",
              "      <th>0</th>\n",
              "      <th>1</th>\n",
              "      <th>2</th>\n",
              "      <th>3</th>\n",
              "      <th>4</th>\n",
              "      <th>5</th>\n",
              "      <th>6</th>\n",
              "      <th>7</th>\n",
              "      <th>8</th>\n",
              "      <th>9</th>\n",
              "      <th>10</th>\n",
              "      <th>11</th>\n",
              "      <th>12</th>\n",
              "      <th>13</th>\n",
              "      <th>14</th>\n",
              "      <th>15</th>\n",
              "      <th>16</th>\n",
              "      <th>17</th>\n",
              "      <th>18</th>\n",
              "      <th>19</th>\n",
              "      <th>20</th>\n",
              "      <th>21</th>\n",
              "      <th>22</th>\n",
              "      <th>23</th>\n",
              "      <th>24</th>\n",
              "      <th>25</th>\n",
              "      <th>26</th>\n",
              "      <th>27</th>\n",
              "      <th>28</th>\n",
              "      <th>29</th>\n",
              "      <th>30</th>\n",
              "      <th>31</th>\n",
              "      <th>32</th>\n",
              "      <th>33</th>\n",
              "    </tr>\n",
              "  </thead>\n",
              "  <tbody>\n",
              "    <tr>\n",
              "      <th>0</th>\n",
              "      <td>1</td>\n",
              "      <td>0.108262</td>\n",
              "      <td>NaN</td>\n",
              "      <td>0.177024</td>\n",
              "      <td>-0.051631</td>\n",
              "      <td>0.125681</td>\n",
              "      <td>-0.046415</td>\n",
              "      <td>0.141942</td>\n",
              "      <td>-0.248220</td>\n",
              "      <td>0.244076</td>\n",
              "      <td>-0.071873</td>\n",
              "      <td>0.188124</td>\n",
              "      <td>-0.166295</td>\n",
              "      <td>0.098374</td>\n",
              "      <td>-0.271432</td>\n",
              "      <td>0.130600</td>\n",
              "      <td>-0.226681</td>\n",
              "      <td>0.230805</td>\n",
              "      <td>-0.190902</td>\n",
              "      <td>0.111365</td>\n",
              "      <td>-0.148948</td>\n",
              "      <td>0.116507</td>\n",
              "      <td>-0.152518</td>\n",
              "      <td>0.003492</td>\n",
              "      <td>-0.208082</td>\n",
              "      <td>0.085988</td>\n",
              "      <td>-0.220262</td>\n",
              "      <td>-0.065430</td>\n",
              "      <td>-0.196071</td>\n",
              "      <td>-0.082893</td>\n",
              "      <td>-0.156496</td>\n",
              "      <td>0.035078</td>\n",
              "      <td>-0.270538</td>\n",
              "      <td>-0.081477</td>\n",
              "      <td>-0.233740</td>\n",
              "    </tr>\n",
              "    <tr>\n",
              "      <th>1</th>\n",
              "      <td>1</td>\n",
              "      <td>0.108262</td>\n",
              "      <td>NaN</td>\n",
              "      <td>0.179329</td>\n",
              "      <td>-0.116331</td>\n",
              "      <td>0.164641</td>\n",
              "      <td>-0.238725</td>\n",
              "      <td>-0.329388</td>\n",
              "      <td>-0.527665</td>\n",
              "      <td>0.244076</td>\n",
              "      <td>-0.113418</td>\n",
              "      <td>0.016279</td>\n",
              "      <td>-0.416235</td>\n",
              "      <td>-0.028241</td>\n",
              "      <td>-0.395242</td>\n",
              "      <td>-0.430505</td>\n",
              "      <td>-0.523141</td>\n",
              "      <td>-0.163480</td>\n",
              "      <td>-0.309377</td>\n",
              "      <td>-0.014150</td>\n",
              "      <td>-0.487988</td>\n",
              "      <td>-0.234103</td>\n",
              "      <td>-0.230648</td>\n",
              "      <td>-0.271518</td>\n",
              "      <td>-0.149967</td>\n",
              "      <td>-0.299727</td>\n",
              "      <td>-0.097252</td>\n",
              "      <td>-0.373160</td>\n",
              "      <td>-0.057236</td>\n",
              "      <td>-0.284423</td>\n",
              "      <td>-0.044011</td>\n",
              "      <td>-0.259387</td>\n",
              "      <td>-0.029543</td>\n",
              "      <td>-0.243372</td>\n",
              "      <td>-0.019475</td>\n",
              "    </tr>\n",
              "    <tr>\n",
              "      <th>2</th>\n",
              "      <td>1</td>\n",
              "      <td>0.108262</td>\n",
              "      <td>NaN</td>\n",
              "      <td>0.179329</td>\n",
              "      <td>-0.039011</td>\n",
              "      <td>0.199466</td>\n",
              "      <td>-0.055520</td>\n",
              "      <td>0.224952</td>\n",
              "      <td>-0.119990</td>\n",
              "      <td>0.188901</td>\n",
              "      <td>-0.084683</td>\n",
              "      <td>0.127319</td>\n",
              "      <td>-0.050790</td>\n",
              "      <td>0.226814</td>\n",
              "      <td>-0.042572</td>\n",
              "      <td>0.100875</td>\n",
              "      <td>-0.034071</td>\n",
              "      <td>0.227900</td>\n",
              "      <td>-0.066412</td>\n",
              "      <td>0.197980</td>\n",
              "      <td>-0.030688</td>\n",
              "      <td>0.186087</td>\n",
              "      <td>-0.141658</td>\n",
              "      <td>0.035687</td>\n",
              "      <td>-0.031607</td>\n",
              "      <td>0.089573</td>\n",
              "      <td>-0.165507</td>\n",
              "      <td>0.024100</td>\n",
              "      <td>-0.075956</td>\n",
              "      <td>0.026277</td>\n",
              "      <td>-0.072871</td>\n",
              "      <td>0.125923</td>\n",
              "      <td>-0.119003</td>\n",
              "      <td>0.105543</td>\n",
              "      <td>-0.198430</td>\n",
              "    </tr>\n",
              "    <tr>\n",
              "      <th>3</th>\n",
              "      <td>1</td>\n",
              "      <td>0.108262</td>\n",
              "      <td>NaN</td>\n",
              "      <td>0.179329</td>\n",
              "      <td>-0.247991</td>\n",
              "      <td>0.199466</td>\n",
              "      <td>0.442055</td>\n",
              "      <td>0.081032</td>\n",
              "      <td>-0.559680</td>\n",
              "      <td>-0.255924</td>\n",
              "      <td>-0.090673</td>\n",
              "      <td>-0.238091</td>\n",
              "      <td>-0.077520</td>\n",
              "      <td>-0.200401</td>\n",
              "      <td>-0.046707</td>\n",
              "      <td>-0.672080</td>\n",
              "      <td>0.037014</td>\n",
              "      <td>0.079495</td>\n",
              "      <td>-0.194842</td>\n",
              "      <td>-0.679695</td>\n",
              "      <td>-0.260323</td>\n",
              "      <td>-0.518223</td>\n",
              "      <td>0.495852</td>\n",
              "      <td>-0.181238</td>\n",
              "      <td>0.028703</td>\n",
              "      <td>0.301933</td>\n",
              "      <td>0.489068</td>\n",
              "      <td>-0.012755</td>\n",
              "      <td>0.534769</td>\n",
              "      <td>0.310777</td>\n",
              "      <td>-0.086541</td>\n",
              "      <td>-0.047847</td>\n",
              "      <td>0.501897</td>\n",
              "      <td>-0.336592</td>\n",
              "      <td>0.492760</td>\n",
              "    </tr>\n",
              "    <tr>\n",
              "      <th>4</th>\n",
              "      <td>1</td>\n",
              "      <td>0.108262</td>\n",
              "      <td>NaN</td>\n",
              "      <td>0.179329</td>\n",
              "      <td>-0.034191</td>\n",
              "      <td>0.170166</td>\n",
              "      <td>-0.025290</td>\n",
              "      <td>0.185482</td>\n",
              "      <td>-0.175955</td>\n",
              "      <td>0.129836</td>\n",
              "      <td>-0.172668</td>\n",
              "      <td>0.025899</td>\n",
              "      <td>-0.178895</td>\n",
              "      <td>0.081644</td>\n",
              "      <td>-0.050267</td>\n",
              "      <td>-0.000105</td>\n",
              "      <td>-0.172851</td>\n",
              "      <td>0.073725</td>\n",
              "      <td>-0.107092</td>\n",
              "      <td>0.045840</td>\n",
              "      <td>-0.077053</td>\n",
              "      <td>-0.138438</td>\n",
              "      <td>-0.182023</td>\n",
              "      <td>-0.169693</td>\n",
              "      <td>-0.235692</td>\n",
              "      <td>-0.181637</td>\n",
              "      <td>-0.290197</td>\n",
              "      <td>-0.204370</td>\n",
              "      <td>-0.231261</td>\n",
              "      <td>-0.177068</td>\n",
              "      <td>-0.297031</td>\n",
              "      <td>-0.204792</td>\n",
              "      <td>-0.295968</td>\n",
              "      <td>-0.197722</td>\n",
              "      <td>-0.335725</td>\n",
              "    </tr>\n",
              "  </tbody>\n",
              "</table>\n",
              "</div>"
            ],
            "text/plain": [
              "   x0         0   1         2  ...        30        31        32        33\n",
              "0   1  0.108262 NaN  0.177024  ...  0.035078 -0.270538 -0.081477 -0.233740\n",
              "1   1  0.108262 NaN  0.179329  ... -0.259387 -0.029543 -0.243372 -0.019475\n",
              "2   1  0.108262 NaN  0.179329  ...  0.125923 -0.119003  0.105543 -0.198430\n",
              "3   1  0.108262 NaN  0.179329  ... -0.047847  0.501897 -0.336592  0.492760\n",
              "4   1  0.108262 NaN  0.179329  ... -0.204792 -0.295968 -0.197722 -0.335725\n",
              "\n",
              "[5 rows x 35 columns]"
            ]
          },
          "metadata": {
            "tags": []
          },
          "execution_count": 4
        }
      ]
    },
    {
      "cell_type": "code",
      "metadata": {
        "id": "FzYNocpUh-l2",
        "outputId": "7d47414d-44f0-4861-abf1-0ce9c4b3cf6b",
        "colab": {
          "base_uri": "https://localhost:8080/",
          "height": 255
        }
      },
      "source": [
        "x_train, x_test, y_train, y_test = train_test_split(x, y, train_size=0.65)\n",
        "print(x_train.head())\n",
        "print(y_train.head())\n",
        "x_train = np.array(x_train)\n",
        "y_train = np.array(y_train)\n",
        "x_test = np.array(x_test)\n",
        "y_test = np.array(y_test)"
      ],
      "execution_count": null,
      "outputs": [
        {
          "output_type": "stream",
          "text": [
            "     x0         0   1         2  ...        30        31        32        33\n",
            "296   1  0.108262 NaN  0.119909  ... -0.328817 -0.331603 -0.271242 -0.385225\n",
            "82    1  0.108262 NaN  0.140714  ... -0.162582  0.387257 -0.194797  0.340305\n",
            "86    1  0.108262 NaN  0.017064  ...  0.255818  0.020767  0.191358 -0.003465\n",
            "14    1  0.108262 NaN  0.179329  ...  0.323743  0.164357  0.325318  0.226320\n",
            "252   1  0.108262 NaN -0.320671  ... -0.176257  0.001897 -0.174682 -0.007240\n",
            "\n",
            "[5 rows x 35 columns]\n",
            "296   -1\n",
            "82    -1\n",
            "86    -1\n",
            "14    -1\n",
            "252    1\n",
            "Name: 34, dtype: int64\n"
          ],
          "name": "stdout"
        }
      ]
    },
    {
      "cell_type": "code",
      "metadata": {
        "id": "Solz3A3ph-l9"
      },
      "source": [
        "def svm(x_train, y_train, x_test, y_test, epochs, alpha):\n",
        "    m, n = x_train.shape\n",
        "    w = np.zeros(n)\n",
        "    costs = []\n",
        "    \n",
        "    for i in range(epochs):\n",
        "        y_pred = np.dot(x_train, w)\n",
        "        cost = 0\n",
        "        prod = y_train * y_pred\n",
        "        for j in range(prod.shape[0]):\n",
        "            val = prod[j]\n",
        "            if(val >= 1):\n",
        "            \n",
        "                w = w - alpha * (2 * 1/epochs * w)\n",
        "            else:\n",
        "                cost = cost + 1 - val \n",
        "                w = w + alpha * (x_train[j].T * y_train[j]  - 2 * 1/epochs * w)  \n",
        "            \n",
        "            costs.append(cost)\n",
        "    return w, costs"
      ],
      "execution_count": null,
      "outputs": []
    },
    {
      "cell_type": "code",
      "metadata": {
        "id": "UCfqU4Zch-mB"
      },
      "source": [
        "w, costs= svm(x_train, y_train, x_test, y_test, 500, 5e-4)"
      ],
      "execution_count": null,
      "outputs": []
    },
    {
      "cell_type": "code",
      "metadata": {
        "id": "MLo1mB2-h-mI"
      },
      "source": [
        "def pred(X):\n",
        "    y = (np.dot(w, X))\n",
        "    return y.T"
      ],
      "execution_count": null,
      "outputs": []
    },
    {
      "cell_type": "code",
      "metadata": {
        "id": "ATzUlD3yh-mN"
      },
      "source": [
        "y_pred = np.dot(x_test, w)\n",
        "predictions = []\n",
        "for val in y_pred:\n",
        "    if(val >= 1):\n",
        "        predictions.append(1)\n",
        "    else:\n",
        "        predictions.append(-1)\n",
        "predictions = np.array(predictions)"
      ],
      "execution_count": null,
      "outputs": []
    },
    {
      "cell_type": "code",
      "metadata": {
        "id": "7TqPR6mSh-mR",
        "outputId": "c4c0b2b3-8a41-4f3e-d359-5fb409764700",
        "colab": {
          "base_uri": "https://localhost:8080/",
          "height": 34
        }
      },
      "source": [
        "from sklearn.metrics import accuracy_score\n",
        "print(accuracy_score(y_test,predictions))"
      ],
      "execution_count": null,
      "outputs": [
        {
          "output_type": "stream",
          "text": [
            "0.6585365853658537\n"
          ],
          "name": "stdout"
        }
      ]
    },
    {
      "cell_type": "code",
      "metadata": {
        "id": "75F7JN3lh-mV",
        "outputId": "30f096ce-2a94-466b-e724-cc74117d37e8",
        "colab": {
          "base_uri": "https://localhost:8080/",
          "height": 51
        }
      },
      "source": [
        "from sklearn.metrics import confusion_matrix\n",
        "cm = confusion_matrix(predictions, y_test)\n",
        "cm"
      ],
      "execution_count": null,
      "outputs": [
        {
          "output_type": "execute_result",
          "data": {
            "text/plain": [
              "array([[81, 42],\n",
              "       [ 0,  0]])"
            ]
          },
          "metadata": {
            "tags": []
          },
          "execution_count": 11
        }
      ]
    },
    {
      "cell_type": "code",
      "metadata": {
        "id": "08adFyosh-mb",
        "outputId": "cdd76a56-e06b-4f43-a912-11dc5900205d",
        "colab": {
          "base_uri": "https://localhost:8080/",
          "height": 85
        }
      },
      "source": [
        "tp=cm[0][0]\n",
        "fn=cm[1][0]\n",
        "fp=cm[0][1]\n",
        "tn=cm[1][1]\n",
        "\n",
        "accuracy = (tp+tn)/np.sum(cm)\n",
        "precision=tp/(tp+tn)\n",
        "recall=tp/(tp+fn)\n",
        "f_score=2*recall*precision/(recall+precision)\n",
        "\n",
        "print(\"Accuracy : \",accuracy)\n",
        "print(\"Precision : \",precision)\n",
        "print(\"Recall : \",recall)\n",
        "print(\"F_score : \",f_score)"
      ],
      "execution_count": null,
      "outputs": [
        {
          "output_type": "stream",
          "text": [
            "Accuracy :  0.6585365853658537\n",
            "Precision :  1.0\n",
            "Recall :  1.0\n",
            "F_score :  1.0\n"
          ],
          "name": "stdout"
        }
      ]
    },
    {
      "cell_type": "markdown",
      "metadata": {
        "id": "_Ivnsl0Dh-mh"
      },
      "source": [
        "## as our data is linearly inseperable we will use kernel trick for better accuracy"
      ]
    },
    {
      "cell_type": "code",
      "metadata": {
        "id": "uraIEhUsh-mi",
        "outputId": "bef8a13e-ddcf-45f1-d0f9-c10a26422e59",
        "colab": {
          "base_uri": "https://localhost:8080/",
          "height": 391
        }
      },
      "source": [
        "y = df.iloc[:,-1].replace(to_replace=['g', 'b'], value=[-1, 1])\n",
        "x = df.iloc[:,0:-1]\n",
        "print(df.head())\n",
        "print(x.head())\n",
        "print(y.head())"
      ],
      "execution_count": null,
      "outputs": [
        {
          "output_type": "stream",
          "text": [
            "   0   1        2        3        4   ...       30       31       32       33  34\n",
            "0   1   0  0.99539 -0.05889  0.85243  ...  0.42267 -0.54487  0.18641 -0.45300   g\n",
            "1   1   0  1.00000 -0.18829  0.93035  ... -0.16626 -0.06288 -0.13738 -0.02447   b\n",
            "2   1   0  1.00000 -0.03365  1.00000  ...  0.60436 -0.24180  0.56045 -0.38238   g\n",
            "3   1   0  1.00000 -0.45161  1.00000  ...  0.25682  1.00000 -0.32382  1.00000   b\n",
            "4   1   0  1.00000 -0.02401  0.94140  ... -0.05707 -0.59573 -0.04608 -0.65697   g\n",
            "\n",
            "[5 rows x 35 columns]\n",
            "   0   1        2        3   ...       30       31       32       33\n",
            "0   1   0  0.99539 -0.05889  ...  0.42267 -0.54487  0.18641 -0.45300\n",
            "1   1   0  1.00000 -0.18829  ... -0.16626 -0.06288 -0.13738 -0.02447\n",
            "2   1   0  1.00000 -0.03365  ...  0.60436 -0.24180  0.56045 -0.38238\n",
            "3   1   0  1.00000 -0.45161  ...  0.25682  1.00000 -0.32382  1.00000\n",
            "4   1   0  1.00000 -0.02401  ... -0.05707 -0.59573 -0.04608 -0.65697\n",
            "\n",
            "[5 rows x 34 columns]\n",
            "0   -1\n",
            "1    1\n",
            "2   -1\n",
            "3    1\n",
            "4   -1\n",
            "Name: 34, dtype: int64\n"
          ],
          "name": "stdout"
        }
      ]
    },
    {
      "cell_type": "code",
      "metadata": {
        "id": "cL1D4cDgh-mn",
        "outputId": "242d3731-6d33-4d1e-b2dc-8948d2c0465b",
        "colab": {
          "base_uri": "https://localhost:8080/",
          "height": 255
        }
      },
      "source": [
        "x_train, x_test, y_train, y_test = train_test_split(x, y, train_size=0.70)\n",
        "\n",
        "print(x_train.head())\n",
        "\n",
        "print(y_train.head())\n",
        "\n",
        "x_train = np.array(x_train)\n",
        "\n",
        "y_train = np.array(y_train)\n",
        "\n",
        "x_test = np.array(x_test)\n",
        "\n",
        "y_test = np.array(y_test)"
      ],
      "execution_count": null,
      "outputs": [
        {
          "output_type": "stream",
          "text": [
            "     0   1        2        3   ...       30       31       32       33\n",
            "332   1   0  0.87578  0.03727  ...  0.80757  0.02308  0.80088  0.02441\n",
            "78    1   0  1.00000  0.24168  ... -0.17370  1.00000 -0.81383  1.00000\n",
            "22    1   0  0.96071  0.07088  ...  0.51310 -0.00015  0.52099 -0.00182\n",
            "119   1   0  0.86889 -0.07111  ...  1.00000 -0.15609  1.00000 -0.44222\n",
            "345   1   0  0.66667 -0.01366  ...  0.55328  0.24590  0.13934  0.48087\n",
            "\n",
            "[5 rows x 34 columns]\n",
            "332   -1\n",
            "78    -1\n",
            "22    -1\n",
            "119   -1\n",
            "345   -1\n",
            "Name: 34, dtype: int64\n"
          ],
          "name": "stdout"
        }
      ]
    },
    {
      "cell_type": "code",
      "metadata": {
        "id": "WKK4h3ioh-my",
        "outputId": "045d4baa-0603-4c7b-c138-0388ac2abf96",
        "colab": {
          "base_uri": "https://localhost:8080/",
          "height": 204
        }
      },
      "source": [
        "from sklearn.svm import SVC\n",
        "svclassifier = SVC(kernel='linear')\n",
        "svclassifier.fit(x_train, y_train)\n",
        "\n",
        "y_pred =[]\n",
        "y_pred = svclassifier.predict(x_test)\n",
        "\n",
        "from sklearn.metrics import classification_report, confusion_matrix\n",
        "print(confusion_matrix(y_test,y_pred))\n",
        "print(classification_report(y_test,y_pred))"
      ],
      "execution_count": null,
      "outputs": [
        {
          "output_type": "stream",
          "text": [
            "[[65  1]\n",
            " [ 8 32]]\n",
            "              precision    recall  f1-score   support\n",
            "\n",
            "          -1       0.89      0.98      0.94        66\n",
            "           1       0.97      0.80      0.88        40\n",
            "\n",
            "    accuracy                           0.92       106\n",
            "   macro avg       0.93      0.89      0.91       106\n",
            "weighted avg       0.92      0.92      0.91       106\n",
            "\n"
          ],
          "name": "stdout"
        }
      ]
    },
    {
      "cell_type": "code",
      "metadata": {
        "id": "6Y2VcnqVh-m8",
        "outputId": "8c751d83-27a2-434f-be4c-da9938b3b952",
        "colab": {
          "base_uri": "https://localhost:8080/",
          "height": 204
        }
      },
      "source": [
        "from sklearn.svm import SVC\n",
        "svclassifier = SVC(kernel='sigmoid')\n",
        "svclassifier.fit(x_train, y_train)\n",
        "\n",
        "y_pred = []\n",
        "y_pred = svclassifier.predict(x_test)\n",
        "\n",
        "from sklearn.metrics import classification_report, confusion_matrix\n",
        "print(confusion_matrix(y_test,y_pred))\n",
        "print(classification_report(y_test,y_pred))"
      ],
      "execution_count": null,
      "outputs": [
        {
          "output_type": "stream",
          "text": [
            "[[60  6]\n",
            " [14 26]]\n",
            "              precision    recall  f1-score   support\n",
            "\n",
            "          -1       0.81      0.91      0.86        66\n",
            "           1       0.81      0.65      0.72        40\n",
            "\n",
            "    accuracy                           0.81       106\n",
            "   macro avg       0.81      0.78      0.79       106\n",
            "weighted avg       0.81      0.81      0.81       106\n",
            "\n"
          ],
          "name": "stdout"
        }
      ]
    },
    {
      "cell_type": "code",
      "metadata": {
        "id": "S9qFhA7lh-nG",
        "outputId": "e7bc5d99-a8df-4f2d-c4ab-519eccbec822",
        "colab": {
          "base_uri": "https://localhost:8080/",
          "height": 204
        }
      },
      "source": [
        "from sklearn.svm import SVC\n",
        "svclassifier = SVC(kernel='rbf')\n",
        "svclassifier.fit(x_train, y_train)\n",
        "\n",
        "y_pred = []\n",
        "y_pred = svclassifier.predict(x_test)\n",
        "\n",
        "from sklearn.metrics import classification_report, confusion_matrix\n",
        "print(confusion_matrix(y_test,y_pred))\n",
        "print(classification_report(y_test,y_pred))"
      ],
      "execution_count": null,
      "outputs": [
        {
          "output_type": "stream",
          "text": [
            "[[66  0]\n",
            " [ 4 36]]\n",
            "              precision    recall  f1-score   support\n",
            "\n",
            "          -1       0.94      1.00      0.97        66\n",
            "           1       1.00      0.90      0.95        40\n",
            "\n",
            "    accuracy                           0.96       106\n",
            "   macro avg       0.97      0.95      0.96       106\n",
            "weighted avg       0.96      0.96      0.96       106\n",
            "\n"
          ],
          "name": "stdout"
        }
      ]
    }
  ]
}