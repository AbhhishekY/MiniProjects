{
  "nbformat": 4,
  "nbformat_minor": 0,
  "metadata": {
    "kernelspec": {
      "display_name": "Python 3",
      "language": "python",
      "name": "python3"
    },
    "language_info": {
      "codemirror_mode": {
        "name": "ipython",
        "version": 3
      },
      "file_extension": ".py",
      "mimetype": "text/x-python",
      "name": "python",
      "nbconvert_exporter": "python",
      "pygments_lexer": "ipython3",
      "version": "3.7.3"
    },
    "colab": {
      "name": "MIT2019033_SOC2020_LDA.ipynb",
      "provenance": []
    }
  },
  "cells": [
    {
      "cell_type": "code",
      "metadata": {
        "id": "VaPfNTq5FeQj"
      },
      "source": [
        "import numpy as np\n",
        "import os\n",
        "import  matplotlib.image as mpimg\n",
        "from scipy import misc\n",
        "from PIL import Image\n",
        "import matplotlib.pyplot as plt"
      ],
      "execution_count": null,
      "outputs": []
    },
    {
      "cell_type": "code",
      "metadata": {
        "id": "5ptQ09GNFeQs"
      },
      "source": [
        "def img_to_vector(filename):\n",
        "    img  = Image.open(filename).resize((112, 92)) \n",
        "    img_vector = np.array(img).flatten()\n",
        "    sz = img_vector.shape[0]\n",
        "    return img_vector"
      ],
      "execution_count": null,
      "outputs": []
    },
    {
      "cell_type": "code",
      "metadata": {
        "id": "XWCbWSCbFeQy"
      },
      "source": [
        "def preprocess(dataset_dir = \"/home/Abhishek/Desktop/Soft computing/faces\"):\n",
        "    train_set = []\n",
        "    train_set_number = []\n",
        "    test_set = []\n",
        "    test_set_number = []\n",
        "    for i in range(40):\n",
        "        person_id = i+1\n",
        "        for j in range(10):\n",
        "            if j < 6 :\n",
        "                path = dataset_dir + '/s'+str(person_id)+'/'+str(j+1)+'.jpg'\n",
        "                img = img_to_vector(path).astype(np.int64) \n",
        "                train_set.append(img)\n",
        "                train_set_number.append(person_id)\n",
        "            else : \n",
        "                path = dataset_dir + '/s'+str(person_id)+'/'+str(j+1)+'.jpg'\n",
        "                img = img_to_vector(path).astype(np.int64)\n",
        "                test_set.append(img)\n",
        "                test_set_number.append(person_id)\n",
        "        \n",
        "    train_set = np.array(train_set)\n",
        "    train_set_number = np.array(train_set_number)\n",
        "    test_set = np.array(test_set)\n",
        "    test_set_number = np.array(test_set_number)\n",
        "    return train_set.T, train_set_number, test_set.T, test_set_number"
      ],
      "execution_count": null,
      "outputs": []
    },
    {
      "cell_type": "code",
      "metadata": {
        "id": "GwSQTwthFeQ1"
      },
      "source": [
        "train_set,train_set_number,test_set,test_set_number = preprocess()"
      ],
      "execution_count": null,
      "outputs": []
    },
    {
      "cell_type": "code",
      "metadata": {
        "id": "oGAGdlIFFeQ4",
        "outputId": "99004978-7689-439c-a146-b0c69a2ed93e"
      },
      "source": [
        "print(train_set)\n",
        "print(train_set.shape)"
      ],
      "execution_count": null,
      "outputs": [
        {
          "output_type": "stream",
          "text": [
            "[[ 48  60  39 ... 130 128 123]\n",
            " [ 48  60  39 ... 130 128 123]\n",
            " [ 49  60  44 ... 123 125 121]\n",
            " ...\n",
            " [ 46  36  30 ...  38  86  35]\n",
            " [ 47  36  29 ...  32  88  45]\n",
            " [ 47  31  27 ...  42  91  39]]\n",
            "(10304, 240)\n"
          ],
          "name": "stdout"
        }
      ]
    },
    {
      "cell_type": "code",
      "metadata": {
        "id": "FRHv23ASFeQ8",
        "outputId": "9d35ef7c-13c6-4f9e-b23c-29dd3c09cce1"
      },
      "source": [
        "print(train_set_number)\n",
        "print(train_set_number.shape)"
      ],
      "execution_count": null,
      "outputs": [
        {
          "output_type": "stream",
          "text": [
            "[ 1  1  1  1  1  1  2  2  2  2  2  2  3  3  3  3  3  3  4  4  4  4  4  4\n",
            "  5  5  5  5  5  5  6  6  6  6  6  6  7  7  7  7  7  7  8  8  8  8  8  8\n",
            "  9  9  9  9  9  9 10 10 10 10 10 10 11 11 11 11 11 11 12 12 12 12 12 12\n",
            " 13 13 13 13 13 13 14 14 14 14 14 14 15 15 15 15 15 15 16 16 16 16 16 16\n",
            " 17 17 17 17 17 17 18 18 18 18 18 18 19 19 19 19 19 19 20 20 20 20 20 20\n",
            " 21 21 21 21 21 21 22 22 22 22 22 22 23 23 23 23 23 23 24 24 24 24 24 24\n",
            " 25 25 25 25 25 25 26 26 26 26 26 26 27 27 27 27 27 27 28 28 28 28 28 28\n",
            " 29 29 29 29 29 29 30 30 30 30 30 30 31 31 31 31 31 31 32 32 32 32 32 32\n",
            " 33 33 33 33 33 33 34 34 34 34 34 34 35 35 35 35 35 35 36 36 36 36 36 36\n",
            " 37 37 37 37 37 37 38 38 38 38 38 38 39 39 39 39 39 39 40 40 40 40 40 40]\n",
            "(240,)\n"
          ],
          "name": "stdout"
        }
      ]
    },
    {
      "cell_type": "code",
      "metadata": {
        "id": "gZyQlPkmFeRB",
        "outputId": "4a8f0cfb-ac71-4f61-d734-79fac718da4b"
      },
      "source": [
        "print(test_set)\n",
        "print(test_set.shape)"
      ],
      "execution_count": null,
      "outputs": [
        {
          "output_type": "stream",
          "text": [
            "[[ 41  44  42 ... 125 119 125]\n",
            " [ 41  44  42 ... 125 119 125]\n",
            " [ 47  43  41 ... 119 120 124]\n",
            " ...\n",
            " [ 37  44  44 ...  40  93  32]\n",
            " [ 39  36  42 ...  39  90  35]\n",
            " [ 33  32  39 ...  35  92  32]]\n",
            "(10304, 160)\n"
          ],
          "name": "stdout"
        }
      ]
    },
    {
      "cell_type": "code",
      "metadata": {
        "id": "461UUgpzFeRF",
        "outputId": "867278c6-40f0-4089-e63c-331d4c9cf2a3"
      },
      "source": [
        "print(test_set_number)\n",
        "print(test_set_number.shape)"
      ],
      "execution_count": null,
      "outputs": [
        {
          "output_type": "stream",
          "text": [
            "[ 1  1  1  1  2  2  2  2  3  3  3  3  4  4  4  4  5  5  5  5  6  6  6  6\n",
            "  7  7  7  7  8  8  8  8  9  9  9  9 10 10 10 10 11 11 11 11 12 12 12 12\n",
            " 13 13 13 13 14 14 14 14 15 15 15 15 16 16 16 16 17 17 17 17 18 18 18 18\n",
            " 19 19 19 19 20 20 20 20 21 21 21 21 22 22 22 22 23 23 23 23 24 24 24 24\n",
            " 25 25 25 25 26 26 26 26 27 27 27 27 28 28 28 28 29 29 29 29 30 30 30 30\n",
            " 31 31 31 31 32 32 32 32 33 33 33 33 34 34 34 34 35 35 35 35 36 36 36 36\n",
            " 37 37 37 37 38 38 38 38 39 39 39 39 40 40 40 40]\n",
            "(160,)\n"
          ],
          "name": "stdout"
        }
      ]
    },
    {
      "cell_type": "code",
      "metadata": {
        "id": "RLie0xkRFeRL"
      },
      "source": [
        "def find_mean(arr):\n",
        "    M = np.mean(arr, axis = 1)\n",
        "    return M"
      ],
      "execution_count": null,
      "outputs": []
    },
    {
      "cell_type": "code",
      "metadata": {
        "id": "R-yKJ8eVFeRP",
        "outputId": "c0d124c2-ffd3-44b3-efe9-cdab60746b2b"
      },
      "source": [
        "M = find_mean(train_set)\n",
        "print(M)"
      ],
      "execution_count": null,
      "outputs": [
        {
          "output_type": "stream",
          "text": [
            "[84.82916667 84.82916667 84.82916667 ... 71.36666667 70.98333333\n",
            " 71.25833333]\n"
          ],
          "name": "stdout"
        }
      ]
    },
    {
      "cell_type": "code",
      "metadata": {
        "id": "D-UqS2x2FeRT"
      },
      "source": [
        "def mean_normalization(arr):\n",
        "    M = find_mean(arr)\n",
        "    x_range = arr.shape[0]\n",
        "    y_range = arr.shape[1]\n",
        "    for i in range(x_range):\n",
        "        for j in range(y_range):\n",
        "            arr[i][j] -= M[i]\n",
        "    return arr "
      ],
      "execution_count": null,
      "outputs": []
    },
    {
      "cell_type": "code",
      "metadata": {
        "id": "JO_wnANCFeRW",
        "outputId": "d04a97a2-02f2-4fe4-9ad4-aef2cec404eb"
      },
      "source": [
        "A = mean_normalization(train_set)\n",
        "A = A\n",
        "print(A)"
      ],
      "execution_count": null,
      "outputs": [
        {
          "output_type": "stream",
          "text": [
            "[[-36 -24 -45 ...  45  43  38]\n",
            " [-36 -24 -45 ...  45  43  38]\n",
            " [-35 -24 -40 ...  38  40  36]\n",
            " ...\n",
            " [-25 -35 -41 ... -33  14 -36]\n",
            " [-23 -34 -41 ... -38  17 -25]\n",
            " [-24 -40 -44 ... -29  19 -32]]\n"
          ],
          "name": "stdout"
        }
      ]
    },
    {
      "cell_type": "code",
      "metadata": {
        "id": "oYJ3qLioFeRb",
        "outputId": "26972218-acb3-452c-9396-177be12fe21b"
      },
      "source": [
        "print(A.shape)"
      ],
      "execution_count": null,
      "outputs": [
        {
          "output_type": "stream",
          "text": [
            "(10304, 240)\n"
          ],
          "name": "stdout"
        }
      ]
    },
    {
      "cell_type": "code",
      "metadata": {
        "id": "g95hgzUvFeRh",
        "outputId": "7c0f61b8-c7d9-49db-98ad-79a1a08291e6"
      },
      "source": [
        "L = np.dot(A.T, A)\n",
        "print(L.shape)\n",
        "print(L)"
      ],
      "execution_count": null,
      "outputs": [
        {
          "output_type": "stream",
          "text": [
            "(240, 240)\n",
            "[[14138215  6515331  9440618 ... -2067375  1860167   323956]\n",
            " [ 6515331 25842748 10578511 ...  3354289  3287386  3280402]\n",
            " [ 9440618 10578511 19326264 ...  1590281  2590912  2832988]\n",
            " ...\n",
            " [-2067375  3354289  1590281 ... 13889491  3270886  4768320]\n",
            " [ 1860167  3287386  2590912 ...  3270886 10443756  3900750]\n",
            " [  323956  3280402  2832988 ...  4768320  3900750 12427889]]\n"
          ],
          "name": "stdout"
        }
      ]
    },
    {
      "cell_type": "code",
      "metadata": {
        "id": "GWlEGxX2FeRk",
        "outputId": "fe79da86-9853-4cfa-f4b1-0adebc033db3"
      },
      "source": [
        "eigenvalues, eigenvectors = np.linalg.eig(L)\n",
        "print(\"eigenvalues shape : \", eigenvalues.shape)\n",
        "print(\"eigenvalues : \", eigenvalues)\n",
        "print(\"eigenvectors shape : \", eigenvectors.shape)\n",
        "print(\"eigenvectors : \", eigenvectors)"
      ],
      "execution_count": null,
      "outputs": [
        {
          "output_type": "stream",
          "text": [
            "eigenvalues shape :  (240,)\n",
            "eigenvalues :  [6.95968873e+08 4.87058906e+08 2.73928440e+08 2.08194838e+08\n",
            " 1.91082827e+08 1.25980285e+08 1.00480476e+08 9.45152745e+07\n",
            " 7.38933965e+07 7.07004624e+07 5.89995842e+07 5.11042294e+07\n",
            " 4.38628424e+07 4.34130164e+07 3.89540164e+07 3.77925967e+07\n",
            " 3.62968084e+07 3.32231132e+07 3.20385733e+07 2.83935136e+07\n",
            " 2.76394518e+07 2.53170866e+07 2.37959117e+07 2.20956368e+07\n",
            " 2.17589853e+07 2.04297537e+07 2.02961604e+07 1.95020444e+07\n",
            " 1.88536797e+07 1.77550975e+07 1.73076957e+07 1.63995599e+07\n",
            " 1.60236256e+07 1.55658373e+07 1.54560047e+07 1.48426469e+07\n",
            " 1.37821406e+07 1.33848362e+07 1.32198534e+07 1.27661796e+07\n",
            " 1.23507519e+07 1.22196475e+07 1.18924320e+07 1.15385019e+07\n",
            " 1.11289130e+07 1.08710279e+07 1.04758472e+07 9.96438719e+06\n",
            " 9.85058123e+06 9.61997204e+06 9.41188500e+06 9.36627859e+06\n",
            " 9.02370035e+06 8.84972407e+06 8.58983676e+06 8.43890256e+06\n",
            " 8.15341563e+06 8.06442729e+06 7.74318573e+06 7.58327863e+06\n",
            " 7.55250463e+06 7.41907586e+06 7.17991368e+06 7.03891996e+06\n",
            " 6.75317572e+06 6.73530048e+06 6.61374233e+06 6.39092046e+06\n",
            " 5.99412171e+06 6.28506386e+06 6.26037288e+06 6.23488259e+06\n",
            " 5.89906625e+06 5.85843847e+06 5.80388940e+06 5.73726083e+06\n",
            " 5.61902280e+06 5.54201048e+06 5.47966442e+06 5.35629384e+06\n",
            " 5.29980326e+06 5.18498077e+06 5.12875772e+06 5.04028555e+06\n",
            " 4.98742791e+06 4.91519566e+06 4.80349270e+06 4.78663852e+06\n",
            " 4.62131478e+06 4.65379929e+06 4.71583575e+06 1.95117070e+05\n",
            " 4.47900400e+06 4.45611408e+06 4.39529049e+06 4.36272369e+06\n",
            " 4.27942287e+06 4.20634712e+06 4.17332129e+06 4.10348522e+06\n",
            " 4.06079455e+06 4.01646988e+06 3.94176576e+06 3.90245424e+06\n",
            " 3.86679646e+06 5.01545535e+05 5.32752476e+05 5.95784466e+05\n",
            " 3.81807463e+06 3.73993737e+06 3.70192362e+06 3.69577245e+06\n",
            " 3.63522154e+06 3.61343506e+06 3.53310529e+06 3.51029888e+06\n",
            " 3.46057764e+06 3.36313406e+06 3.40353258e+06 3.38503989e+06\n",
            " 6.51527374e+05 6.87952208e+05 7.27001594e+05 7.42945634e+05\n",
            " 7.96289930e+05 3.31405583e+06 3.27886330e+06 3.22394511e+06\n",
            " 3.18916980e+06 3.14135961e+06 3.15622739e+06 3.08581093e+06\n",
            " 3.05412204e+06 3.04089347e+06 8.08423934e+05 8.40955868e+05\n",
            " 8.49362414e+05 8.68775875e+05 8.91930557e+05 9.04385261e+05\n",
            " 9.31561276e+05 3.00251428e+06 2.96866256e+06 2.94135468e+06\n",
            " 2.91237670e+06 2.87985855e+06 2.81898697e+06 2.81442162e+06\n",
            " 2.78623841e+06 2.76013433e+06 2.73681816e+06 2.65915911e+06\n",
            " 2.70042015e+06 2.67697668e+06 9.64834291e+05 9.88305085e+05\n",
            " 2.63776040e+06 2.61624019e+06 2.57471918e+06 2.51470768e+06\n",
            " 2.49655325e+06 2.46334577e+06 1.01830950e+06 1.03564511e+06\n",
            " 1.04845092e+06 1.06671297e+06 1.08062768e+06 2.45267467e+06\n",
            " 2.43132761e+06 2.39623674e+06 2.43661798e+06 2.35028823e+06\n",
            " 2.22825650e+06 2.25793845e+06 2.32081691e+06 2.29321184e+06\n",
            " 2.30710838e+06 2.30105486e+06 1.09936637e+06 1.12876848e+06\n",
            " 1.20469707e+06 1.14707699e+06 1.14916960e+06 1.18719604e+06\n",
            " 1.18023886e+06 1.16093904e+06 1.16623691e+06 2.19208500e+06\n",
            " 2.18553948e+06 1.22105981e+06 1.23432667e+06 1.24651042e+06\n",
            " 2.12783050e+06 2.15391834e+06 2.09195954e+06 2.05824576e+06\n",
            " 1.28831704e+06 1.30350067e+06 1.30998065e+06 1.33239350e+06\n",
            " 1.35059325e+06 2.03529245e+06 2.01814452e+06 1.96109407e+06\n",
            " 1.99323213e+06 1.69240524e+06 1.91177825e+06 1.86244526e+06\n",
            " 1.87235376e+06 1.98750008e+06 1.27672235e+06 1.93514432e+06\n",
            " 1.74829770e+06 1.67949050e+06 1.88957771e+06 1.79371355e+06\n",
            " 1.76656585e+06 1.36999279e+06 1.64768869e+06 1.42207741e+06\n",
            " 1.37323397e+06 1.44102588e+06 1.45752441e+06 1.53369250e+06\n",
            " 1.48590114e+06 1.52103198e+06 1.50775539e+06 1.47754822e+06\n",
            " 1.58643033e+06 1.59628963e+06 1.94151171e+06 1.39888922e+06\n",
            " 1.80958967e+06 1.56088997e+06 1.77069901e+06 1.43063509e+06\n",
            " 1.81851572e+06 1.62755695e+06 1.62204315e+06 1.60284777e+06]\n",
            "eigenvectors shape :  (240, 240)\n",
            "eigenvectors :  [[-0.05129918 -0.05695852  0.11199305 ...  0.0273238  -0.02327083\n",
            "  -0.00386638]\n",
            " [-0.10995806 -0.04984522 -0.02069834 ...  0.04223789 -0.05789349\n",
            "   0.02163948]\n",
            " [-0.0973638  -0.03276929  0.05444529 ... -0.06830267 -0.07969277\n",
            "  -0.00444701]\n",
            " ...\n",
            " [-0.0184662  -0.01300533 -0.13819331 ... -0.00690804 -0.00286833\n",
            "   0.02807347]\n",
            " [-0.03549921 -0.08266248 -0.05337999 ...  0.02764777  0.03183908\n",
            "  -0.0600678 ]\n",
            " [-0.01589242 -0.0577843  -0.09799964 ...  0.09800541  0.02605138\n",
            "  -0.05531844]]\n"
          ],
          "name": "stdout"
        }
      ]
    },
    {
      "cell_type": "code",
      "metadata": {
        "id": "KjuJHCg8FeRo",
        "outputId": "da72abfc-9803-4050-b6b8-6ae688f29623"
      },
      "source": [
        "U = []\n",
        "sz = L.shape[0]\n",
        "for i in range(sz):\n",
        "    U.append(np.dot(A,eigenvectors[:,i]))\n",
        "\n",
        "U = np.array(U)\n",
        "U = U.T\n",
        "print(U.shape)\n",
        "print(U)"
      ],
      "execution_count": null,
      "outputs": [
        {
          "output_type": "stream",
          "text": [
            "(10304, 240)\n",
            "[[ 107.36107408 -324.65948848 -322.92099856 ...   -4.84683181\n",
            "     7.73683409   -5.74773245]\n",
            " [ 107.36107408 -324.65948848 -322.92099856 ...   -4.84683181\n",
            "     7.73683409   -5.74773245]\n",
            " [ 106.9362837  -327.55853219 -322.33678109 ...   -3.17191828\n",
            "    12.20103856   -8.03736982]\n",
            " ...\n",
            " [ 156.51790565  211.79398684 -186.06759496 ...  -25.51923804\n",
            "     3.06072344  -12.4666604 ]\n",
            " [ 157.05808021  204.21515252 -202.80332625 ...  -23.85186024\n",
            "    14.61984345    8.97158879]\n",
            " [ 151.89863949  179.31370562 -208.55534691 ...  -28.54484279\n",
            "    16.84016349   -3.23985459]]\n"
          ],
          "name": "stdout"
        }
      ]
    },
    {
      "cell_type": "code",
      "metadata": {
        "id": "kfdh8L6sFeRr",
        "outputId": "a28b8664-1263-4640-b025-796cc70467a9"
      },
      "source": [
        "weight_vector = np.dot(U.T, A)\n",
        "print(weight_vector.shape)\n",
        "print(weight_vector)"
      ],
      "execution_count": null,
      "outputs": [
        {
          "output_type": "stream",
          "text": [
            "(240, 240)\n",
            "[[-3.57026341e+07 -7.65273900e+07 -6.77621720e+07 ... -1.28518977e+07\n",
            "  -2.47063430e+07 -1.10606267e+07]\n",
            " [-2.77421537e+07 -2.42775587e+07 -1.59605755e+07 ... -6.33435973e+06\n",
            "  -4.02614961e+07 -2.81443573e+07]\n",
            " [ 3.06780828e+07 -5.66986370e+06  1.49141122e+07 ... -3.78550772e+07\n",
            "  -1.46222962e+07 -2.68448891e+07]\n",
            " ...\n",
            " [ 4.44710345e+04  6.87445784e+04 -1.11166493e+05 ... -1.12432243e+04\n",
            "   4.49983250e+04  1.59509393e+05]\n",
            " [-3.77462979e+04 -9.39057389e+04 -1.29265113e+05 ... -4.65256163e+03\n",
            "   5.16443628e+04  4.22564683e+04]\n",
            " [-6.19722078e+03  3.46847953e+04 -7.12788347e+03 ...  4.49975047e+04\n",
            "  -9.62795394e+04 -8.86670351e+04]]\n"
          ],
          "name": "stdout"
        }
      ]
    },
    {
      "cell_type": "code",
      "metadata": {
        "id": "HzT3KgKNFeRy",
        "outputId": "7f9ef456-9df3-418c-9c90-f9f41c497d4b"
      },
      "source": [
        "overall_mean = np.mean(weight_vector, axis = 1)\n",
        "overall_mean = overall_mean.reshape(overall_mean.shape[0],1)\n",
        "print(overall_mean.shape)"
      ],
      "execution_count": null,
      "outputs": [
        {
          "output_type": "stream",
          "text": [
            "(240, 1)\n"
          ],
          "name": "stdout"
        }
      ]
    },
    {
      "cell_type": "code",
      "metadata": {
        "id": "8ypfoopYFeR2"
      },
      "source": [
        "SW = np.zeros([240,240])\n",
        "for i in range(40):\n",
        "    ind = i * 6\n",
        "    V = weight_vector[:,ind:ind+6]\n",
        "    mean_local = np.mean(V, axis = 1)\n",
        "    mean_local = mean_local.reshape(mean_local.shape[0],1)\n",
        "    mean = np.repeat(mean_local, 6,axis = 1)\n",
        "    diff = V - mean\n",
        "    variance = np.dot(diff, diff.T)\n",
        "    SW = SW + variance"
      ],
      "execution_count": null,
      "outputs": []
    },
    {
      "cell_type": "code",
      "metadata": {
        "id": "o_suCyLEFeR5",
        "outputId": "81f17a1f-05ed-458c-9b4f-c791e0706f5a"
      },
      "source": [
        "SB = np.zeros([240,240])\n",
        "print(variance.shape)\n",
        "for i in range(40):\n",
        "    j = i+6\n",
        "    V = weight_vector[:,i:j]\n",
        "    mean_local = np.mean(V, axis = 1)\n",
        "    mean_local = mean_local.reshape(mean_local.shape[0],1)\n",
        "    diff = mean_local - overall_mean\n",
        "    sigma = np.dot(diff, mean_local.T)\n",
        "    SB = SB  + sigma"
      ],
      "execution_count": null,
      "outputs": [
        {
          "output_type": "stream",
          "text": [
            "(240, 240)\n"
          ],
          "name": "stdout"
        }
      ]
    },
    {
      "cell_type": "code",
      "metadata": {
        "id": "WvcOydOMFeR9",
        "outputId": "f05a6b0d-81d2-431c-ca8c-48b863d653d6"
      },
      "source": [
        "J = np.dot(np.linalg.pinv(SW), SB)\n",
        "print(J.shape)"
      ],
      "execution_count": null,
      "outputs": [
        {
          "output_type": "stream",
          "text": [
            "(240, 240)\n"
          ],
          "name": "stdout"
        }
      ]
    },
    {
      "cell_type": "code",
      "metadata": {
        "id": "FStzXyToFeR_",
        "outputId": "934c86db-7c8d-4bd7-cc84-294fe962aecc"
      },
      "source": [
        "eigenval, eigenvec = np.linalg.eig(J)\n",
        "fisher_faces = np.dot(eigenvec.T, weight_vector)\n",
        "print(fisher_faces.shape)"
      ],
      "execution_count": null,
      "outputs": [
        {
          "output_type": "stream",
          "text": [
            "(240, 240)\n"
          ],
          "name": "stdout"
        }
      ]
    },
    {
      "cell_type": "markdown",
      "metadata": {
        "id": "Tc1smPLSFeSD"
      },
      "source": [
        "# Testing\n"
      ]
    },
    {
      "cell_type": "code",
      "metadata": {
        "id": "62idraJzFeSE",
        "outputId": "70bcefe7-abee-4d9c-8094-a0a46176e059"
      },
      "source": [
        "x_range = test_set.shape[0]\n",
        "y_range = test_set.shape[1]\n",
        "print(M)\n",
        "print(test_set)\n",
        "for i in range(x_range):\n",
        "    for j in range(y_range):\n",
        "        test_set[i][j] -= M[i]\n",
        "print(test_set.shape)\n",
        "print(test_set)"
      ],
      "execution_count": null,
      "outputs": [
        {
          "output_type": "stream",
          "text": [
            "[84.82916667 84.82916667 84.82916667 ... 71.36666667 70.98333333\n",
            " 71.25833333]\n",
            "[[ 41  44  42 ... 125 119 125]\n",
            " [ 41  44  42 ... 125 119 125]\n",
            " [ 47  43  41 ... 119 120 124]\n",
            " ...\n",
            " [ 37  44  44 ...  40  93  32]\n",
            " [ 39  36  42 ...  39  90  35]\n",
            " [ 33  32  39 ...  35  92  32]]\n",
            "(10304, 160)\n",
            "[[-43 -40 -42 ...  40  34  40]\n",
            " [-43 -40 -42 ...  40  34  40]\n",
            " [-37 -41 -43 ...  34  35  39]\n",
            " ...\n",
            " [-34 -27 -27 ... -31  21 -39]\n",
            " [-31 -34 -28 ... -31  19 -35]\n",
            " [-38 -39 -32 ... -36  20 -39]]\n"
          ],
          "name": "stdout"
        }
      ]
    },
    {
      "cell_type": "code",
      "metadata": {
        "id": "ZUEXjL1SFeSG",
        "outputId": "c3e1803e-69e1-4047-b124-2edc9e67b96a"
      },
      "source": [
        "weight_vector_test = np.dot(U.T, test_set)\n",
        "print(weight_vector_test.shape)\n",
        "print(weight_vector_test)"
      ],
      "execution_count": null,
      "outputs": [
        {
          "output_type": "stream",
          "text": [
            "(240, 160)\n",
            "[[-5.84235270e+07 -6.98262822e+07 -6.69859631e+07 ... -1.56717498e+07\n",
            "  -3.06895091e+07 -9.88783795e+06]\n",
            " [-2.03676688e+07 -1.44840975e+07 -2.93871957e+07 ... -2.70429673e+07\n",
            "  -3.20439800e+07 -1.48825896e+07]\n",
            " [ 2.06941178e+07  2.10793613e+07  1.23532452e+07 ... -2.56061602e+07\n",
            "  -1.01073327e+07 -3.58169846e+07]\n",
            " ...\n",
            " [-1.69347510e+04 -7.75741379e+04 -6.03774466e+04 ...  1.42327733e+05\n",
            "  -1.20430459e+05  2.06675366e+05]\n",
            " [-5.49623319e+04 -2.57225302e+04 -8.22383856e+04 ... -5.35726173e+04\n",
            "   5.85360195e+03  9.58496498e+04]\n",
            " [ 3.59779058e+04  6.66562223e+04  2.15996853e+05 ...  4.25854284e+02\n",
            "  -4.17520541e+04  7.14431706e+04]]\n"
          ],
          "name": "stdout"
        }
      ]
    },
    {
      "cell_type": "code",
      "metadata": {
        "id": "tc_lfWNTFeSJ",
        "outputId": "8911d634-bc12-45c8-cb7e-5b1a7906a2d2"
      },
      "source": [
        "projected_fisher_faces = np.dot(eigenvec.T, weight_vector_test)\n",
        "print(projected_fisher_faces.shape)"
      ],
      "execution_count": null,
      "outputs": [
        {
          "output_type": "stream",
          "text": [
            "(240, 160)\n"
          ],
          "name": "stdout"
        }
      ]
    },
    {
      "cell_type": "code",
      "metadata": {
        "id": "71DWGPkIFeSM",
        "outputId": "119d8a0e-b2a2-41e4-fb79-81bd4c2f7320"
      },
      "source": [
        "validation = []\n",
        "count = 0\n",
        "for i in range(160) : \n",
        "    ith_wv = projected_fisher_faces[:,i]\n",
        "    ans = 0\n",
        "    index = 0\n",
        "    for j in range(240):\n",
        "        jth_wv = fisher_faces[:,j]\n",
        "        diff = ith_wv - jth_wv\n",
        "        diff = np.absolute(diff)\n",
        "        sm = np.sum(diff)\n",
        "        if ans == 0 :\n",
        "            ans = sm\n",
        "            index = j\n",
        "        else :\n",
        "            if sm < ans:\n",
        "                ans = sm\n",
        "                index = j\n",
        "    print(train_set_number[index])\n",
        "    if train_set_number[index] == test_set_number[i]:\n",
        "        count = count + 1\n",
        "        validation.append(1)\n",
        "    else:\n",
        "        validation.append(0)"
      ],
      "execution_count": null,
      "outputs": [
        {
          "output_type": "stream",
          "text": [
            "1\n",
            "1\n",
            "1\n",
            "1\n",
            "2\n",
            "2\n",
            "2\n",
            "2\n",
            "3\n",
            "3\n",
            "3\n",
            "3\n",
            "4\n",
            "4\n",
            "4\n",
            "4\n",
            "5\n",
            "5\n",
            "5\n",
            "5\n",
            "6\n",
            "6\n",
            "6\n",
            "6\n",
            "7\n",
            "7\n",
            "7\n",
            "7\n",
            "8\n",
            "8\n",
            "8\n",
            "8\n",
            "9\n",
            "9\n",
            "9\n",
            "9\n",
            "10\n",
            "10\n",
            "23\n",
            "8\n",
            "4\n",
            "38\n",
            "3\n",
            "11\n",
            "12\n",
            "12\n",
            "3\n",
            "12\n",
            "5\n",
            "5\n",
            "13\n",
            "13\n",
            "4\n",
            "4\n",
            "14\n",
            "4\n",
            "15\n",
            "15\n",
            "15\n",
            "15\n",
            "1\n",
            "1\n",
            "1\n",
            "16\n",
            "17\n",
            "17\n",
            "17\n",
            "17\n",
            "18\n",
            "18\n",
            "18\n",
            "18\n",
            "19\n",
            "5\n",
            "8\n",
            "19\n",
            "20\n",
            "29\n",
            "40\n",
            "20\n",
            "21\n",
            "21\n",
            "21\n",
            "21\n",
            "22\n",
            "22\n",
            "22\n",
            "22\n",
            "23\n",
            "23\n",
            "23\n",
            "23\n",
            "24\n",
            "24\n",
            "24\n",
            "24\n",
            "25\n",
            "25\n",
            "25\n",
            "25\n",
            "3\n",
            "26\n",
            "26\n",
            "26\n",
            "4\n",
            "27\n",
            "27\n",
            "27\n",
            "28\n",
            "3\n",
            "4\n",
            "8\n",
            "29\n",
            "29\n",
            "29\n",
            "29\n",
            "30\n",
            "30\n",
            "30\n",
            "30\n",
            "25\n",
            "31\n",
            "31\n",
            "31\n",
            "3\n",
            "5\n",
            "32\n",
            "32\n",
            "33\n",
            "38\n",
            "33\n",
            "33\n",
            "34\n",
            "34\n",
            "34\n",
            "34\n",
            "35\n",
            "35\n",
            "35\n",
            "35\n",
            "36\n",
            "36\n",
            "5\n",
            "3\n",
            "3\n",
            "8\n",
            "37\n",
            "37\n",
            "38\n",
            "38\n",
            "38\n",
            "38\n",
            "30\n",
            "39\n",
            "39\n",
            "30\n",
            "40\n",
            "40\n",
            "13\n",
            "5\n"
          ],
          "name": "stdout"
        }
      ]
    },
    {
      "cell_type": "code",
      "metadata": {
        "id": "Vune7sYCFeSP",
        "outputId": "f10f0c15-5ba9-4ef5-f201-3ce18500d486"
      },
      "source": [
        "print(validation)"
      ],
      "execution_count": null,
      "outputs": [
        {
          "output_type": "stream",
          "text": [
            "[1, 1, 1, 1, 1, 1, 1, 1, 1, 1, 1, 1, 1, 1, 1, 1, 1, 1, 1, 1, 1, 1, 1, 1, 1, 1, 1, 1, 1, 1, 1, 1, 1, 1, 1, 1, 1, 1, 0, 0, 0, 0, 0, 1, 1, 1, 0, 1, 0, 0, 1, 1, 0, 0, 1, 0, 1, 1, 1, 1, 0, 0, 0, 1, 1, 1, 1, 1, 1, 1, 1, 1, 1, 0, 0, 1, 1, 0, 0, 1, 1, 1, 1, 1, 1, 1, 1, 1, 1, 1, 1, 1, 1, 1, 1, 1, 1, 1, 1, 1, 0, 1, 1, 1, 0, 1, 1, 1, 1, 0, 0, 0, 1, 1, 1, 1, 1, 1, 1, 1, 0, 1, 1, 1, 0, 0, 1, 1, 1, 0, 1, 1, 1, 1, 1, 1, 1, 1, 1, 1, 1, 1, 0, 0, 0, 0, 1, 1, 1, 1, 1, 1, 0, 1, 1, 0, 1, 1, 0, 0]\n"
          ],
          "name": "stdout"
        }
      ]
    },
    {
      "cell_type": "code",
      "metadata": {
        "id": "baeuKOBEFeSU",
        "outputId": "5df6d9da-a87a-4c9a-e5e4-01c19991f02d"
      },
      "source": [
        "print(\"accuracy = \", (count*100)/160, \"%\")"
      ],
      "execution_count": null,
      "outputs": [
        {
          "output_type": "stream",
          "text": [
            "accuracy =  78.125 %\n"
          ],
          "name": "stdout"
        }
      ]
    },
    {
      "cell_type": "code",
      "metadata": {
        "id": "oM1wqIgmFeSW"
      },
      "source": [
        ""
      ],
      "execution_count": null,
      "outputs": []
    }
  ]
}