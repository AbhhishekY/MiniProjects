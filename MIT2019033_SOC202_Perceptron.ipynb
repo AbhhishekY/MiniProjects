{
  "nbformat": 4,
  "nbformat_minor": 0,
  "metadata": {
    "colab": {
      "name": "MIT2019033_SOC202_Perceptron.ipynb",
      "provenance": []
    },
    "kernelspec": {
      "name": "python3",
      "display_name": "Python 3"
    }
  },
  "cells": [
    {
      "cell_type": "code",
      "metadata": {
        "id": "9jIR53uizAHt"
      },
      "source": [
        "import numpy as np\n",
        "import matplotlib.pyplot as plt\n"
      ],
      "execution_count": null,
      "outputs": []
    },
    {
      "cell_type": "code",
      "metadata": {
        "id": "IoNHn_zzzJgz"
      },
      "source": [
        "def get_AND():\n",
        "    X = np.array([[0,0,1],[0,1,1],[1,0,1],[1,1,1]])\n",
        "    y = np.array([0,0,0,1])\n",
        "    return X,y\n",
        "\n",
        "def get_NAND():\n",
        "    X = np.array([[0,0,1],[0,1,1],[1,0,1],[1,1,1]])\n",
        "    y = np.array([1,1,1,0])\n",
        "    return X,y\n",
        "\n",
        "def get_OR():\n",
        "    X = np.array([[0,0,1],[0,1,1],[1,0,1],[1,1,1]])\n",
        "    y = np.array([0,1,1,1])\n",
        "    return X,y\n",
        "\n",
        "def get_NOR():\n",
        "    X = np.array([[0,0,1],[0,1,1],[1,0,1],[1,1,1]])\n",
        "    y = np.array([1,0,0,0])\n",
        "    return X,y"
      ],
      "execution_count": null,
      "outputs": []
    },
    {
      "cell_type": "code",
      "metadata": {
        "id": "NQ8UxFPgzO5l"
      },
      "source": [
        "def activation(x):\n",
        "    return 1 if x > 0 else 0\n",
        "\n",
        "def train(X,y, lr = 0.3):\n",
        "    W = np.random.rand(3)\n",
        "    changed = True\n",
        "    epoch = 1\n",
        "    while changed:\n",
        "        changed = False\n",
        "        for i in range(X.shape[0]):\n",
        "            h = np.dot(W, X[i])\n",
        "            pred = activation(h)\n",
        "            error = y[i] - pred\n",
        "            if error != 0:\n",
        "                changed = True\n",
        "            W += lr*error*X[i]\n",
        "        epoch+=1\n",
        "    print(epoch)\n",
        "    return W\n",
        "\n",
        "def predict(X, W):\n",
        "    h = np.dot(W, X)\n",
        "    return activation(h)"
      ],
      "execution_count": null,
      "outputs": []
    },
    {
      "cell_type": "code",
      "metadata": {
        "id": "H3KJLjAuzVzd"
      },
      "source": [
        "print(\"AND GATE\")\n",
        "X, y = get_AND()\n",
        "W = train(X,y,0.1)\n",
        "yp = []\n",
        "\n",
        "plt.subplot(111)\n",
        "for i in range(4):\n",
        "  yi = (-W[2] - W[0] * i) / W[1]\n",
        "  yp.append(yi)\n",
        "  plt.plot(X[i][0], X[i][1], 'ro')\n",
        "\n",
        "\n",
        "plt.plot(yp)\n",
        "plt.show()\n",
        "print(\"\\n\")"
      ],
      "execution_count": null,
      "outputs": []
    },
    {
      "cell_type": "code",
      "metadata": {
        "id": "iZ1Sre551bAj"
      },
      "source": [
        "print(\"OR GATE\")\n",
        "X, y = get_OR()\n",
        "W = train(X,y,0.1)\n",
        "yp = []\n",
        "\n",
        "plt.subplot(111)\n",
        "for i in range(4):\n",
        "  yi = (-W[2] - W[0] * i) / W[1]\n",
        "  yp.append(yi)\n",
        "  plt.plot(X[i][0], X[i][1], 'ro')\n",
        "\n",
        "\n",
        "plt.plot(yp)\n",
        "plt.show()\n",
        "print(\"\\n\")   "
      ],
      "execution_count": null,
      "outputs": []
    },
    {
      "cell_type": "code",
      "metadata": {
        "id": "vmBQkpIu0ov_"
      },
      "source": [
        "print(\"NAND GATE\")\n",
        "X, y = get_NAND()\n",
        "W = train(X,y,0.1)\n",
        "yp = []\n",
        "\n",
        "plt.subplot(111)\n",
        "for i in range(4):\n",
        "  yi = (-W[2] - W[0] * i) / W[1]\n",
        "  yp.append(yi)\n",
        "  plt.plot(X[i][0], X[i][1], 'ro')\n",
        "\n",
        "\n",
        "plt.plot(yp)\n",
        "plt.show()\n",
        "print(\"\\n\")    \n"
      ],
      "execution_count": null,
      "outputs": []
    },
    {
      "cell_type": "code",
      "metadata": {
        "id": "Gq-RKw392LS_"
      },
      "source": [
        "print(\"NOR GATE\")\n",
        "X, y = get_NOR()\n",
        "W = train(X,y,0.01)\n",
        "yp = []\n",
        "\n",
        "plt.subplot(111)\n",
        "for i in range(0, 4):\n",
        "  yi = (-W[2] - W[0] * i) / W[1]\n",
        "  yp.append(yi)\n",
        "  plt.plot(X[i][0], X[i][1], 'ro')\n",
        "\n",
        "\n",
        "plt.plot(yp)\n",
        "plt.show()\n",
        "print(\"\\n\")"
      ],
      "execution_count": null,
      "outputs": []
    }
  ]
}