{
  "nbformat": 4,
  "nbformat_minor": 0,
  "metadata": {
    "kernelspec": {
      "display_name": "Python 3",
      "language": "python",
      "name": "python3"
    },
    "language_info": {
      "codemirror_mode": {
        "name": "ipython",
        "version": 3
      },
      "file_extension": ".py",
      "mimetype": "text/x-python",
      "name": "python",
      "nbconvert_exporter": "python",
      "pygments_lexer": "ipython3",
      "version": "3.7.3"
    },
    "colab": {
      "name": "MIT2019033_Number_recognition.ipynb",
      "provenance": []
    }
  },
  "cells": [
    {
      "cell_type": "markdown",
      "metadata": {
        "id": "6OsdeSwN_VHU"
      },
      "source": [
        "# Training a model on Number recognition with MNIST dataset"
      ]
    },
    {
      "cell_type": "markdown",
      "metadata": {
        "id": "ljJIfWfj_VHb"
      },
      "source": [
        "### This training includes different cases which includes \n"
      ]
    },
    {
      "cell_type": "markdown",
      "metadata": {
        "id": "JHLV0kqd_VHf"
      },
      "source": [
        "### Ranging number of neurons in hidden layer"
      ]
    },
    {
      "cell_type": "markdown",
      "metadata": {
        "id": "ikg3_09F_VHj"
      },
      "source": [
        "*italicized text*### Different epochs"
      ]
    },
    {
      "cell_type": "markdown",
      "metadata": {
        "id": "wvB9M_bH_VHn"
      },
      "source": [
        "### Different activationfunctions such ReLU, softmax, sigmoid, tanh"
      ]
    },
    {
      "cell_type": "markdown",
      "metadata": {
        "id": "w8ZuHW5E_VHs"
      },
      "source": [
        "### Different optimizers such as Adam, SGD, Adamax"
      ]
    },
    {
      "cell_type": "code",
      "metadata": {
        "id": "LwNsNb1h_VHv"
      },
      "source": [
        ""
      ],
      "execution_count": null,
      "outputs": []
    },
    {
      "cell_type": "code",
      "metadata": {
        "id": "CqWhSsOK_VH6",
        "outputId": "3345842f-e2e8-42d6-95d5-3ce4d05b78f0",
        "colab": {
          "base_uri": "https://localhost:8080/",
          "height": 51
        }
      },
      "source": [
        "import tensorflow as tf\n",
        "from tensorflow import keras\n",
        "\n",
        "(x_train, y_train),(x_test, y_test) = keras.datasets.mnist.load_data()"
      ],
      "execution_count": null,
      "outputs": [
        {
          "output_type": "stream",
          "text": [
            "Downloading data from https://storage.googleapis.com/tensorflow/tf-keras-datasets/mnist.npz\n",
            "11493376/11490434 [==============================] - 0s 0us/step\n"
          ],
          "name": "stdout"
        }
      ]
    },
    {
      "cell_type": "code",
      "metadata": {
        "id": "9KHILWaM_VIF",
        "outputId": "064b66eb-4e72-44bf-9c78-650dc61a2252",
        "colab": {
          "base_uri": "https://localhost:8080/",
          "height": 88
        }
      },
      "source": [
        "model = keras.Sequential([\n",
        "    keras.layers.Flatten(input_shape=(28, 28)),\n",
        "    keras.layers.Dense(128, activation=tf.nn.relu),\n",
        "    keras.layers.Dense(10, activation=tf.nn.softmax)\n",
        "    ])"
      ],
      "execution_count": null,
      "outputs": [
        {
          "output_type": "stream",
          "text": [
            "WARNING:tensorflow:From /usr/local/lib/python3.6/dist-packages/tensorflow_core/python/ops/resource_variable_ops.py:1630: calling BaseResourceVariable.__init__ (from tensorflow.python.ops.resource_variable_ops) with constraint is deprecated and will be removed in a future version.\n",
            "Instructions for updating:\n",
            "If using Keras pass *_constraint arguments to layers.\n"
          ],
          "name": "stdout"
        }
      ]
    },
    {
      "cell_type": "code",
      "metadata": {
        "id": "1rptVG09_VIO"
      },
      "source": [
        "model.compile(optimizer=tf.train.AdamOptimizer(),\n",
        "             loss='sparse_categorical_crossentropy',\n",
        "             metrics=['accuracy']\n",
        "             )"
      ],
      "execution_count": null,
      "outputs": []
    },
    {
      "cell_type": "code",
      "metadata": {
        "scrolled": true,
        "id": "yyhLSlpZ_VIX",
        "outputId": "1074042f-d34b-4057-9be0-dab7775898f7",
        "colab": {
          "base_uri": "https://localhost:8080/",
          "height": 289
        }
      },
      "source": [
        "model.fit(x_train, y_train, epochs=7)"
      ],
      "execution_count": null,
      "outputs": [
        {
          "output_type": "stream",
          "text": [
            "Train on 60000 samples\n",
            "Epoch 1/7\n",
            "60000/60000 [==============================] - 4s 69us/sample - loss: 2.7375 - acc: 0.8632\n",
            "Epoch 2/7\n",
            "60000/60000 [==============================] - 4s 62us/sample - loss: 0.3666 - acc: 0.9129\n",
            "Epoch 3/7\n",
            "60000/60000 [==============================] - 4s 62us/sample - loss: 0.2837 - acc: 0.9279\n",
            "Epoch 4/7\n",
            "60000/60000 [==============================] - 4s 63us/sample - loss: 0.2476 - acc: 0.9378\n",
            "Epoch 5/7\n",
            "60000/60000 [==============================] - 4s 64us/sample - loss: 0.2283 - acc: 0.9426\n",
            "Epoch 6/7\n",
            "60000/60000 [==============================] - 4s 62us/sample - loss: 0.2141 - acc: 0.9461\n",
            "Epoch 7/7\n",
            "60000/60000 [==============================] - 4s 62us/sample - loss: 0.2149 - acc: 0.9474\n"
          ],
          "name": "stdout"
        },
        {
          "output_type": "execute_result",
          "data": {
            "text/plain": [
              "<tensorflow.python.keras.callbacks.History at 0x7f4963f40b00>"
            ]
          },
          "metadata": {
            "tags": []
          },
          "execution_count": 4
        }
      ]
    },
    {
      "cell_type": "code",
      "metadata": {
        "id": "yOqqx5ij_VIl",
        "outputId": "c7b2fe22-f7f8-4d81-b0dd-6cba9d38bbac",
        "colab": {
          "base_uri": "https://localhost:8080/",
          "height": 35
        }
      },
      "source": [
        "test_loss, test_acc = model.evaluate(x_test, y_test)"
      ],
      "execution_count": null,
      "outputs": [
        {
          "output_type": "stream",
          "text": [
            "10000/10000 [==============================] - 0s 41us/sample - loss: 0.3188 - acc: 0.9446\n"
          ],
          "name": "stdout"
        }
      ]
    },
    {
      "cell_type": "code",
      "metadata": {
        "id": "VydJYq5E_VI0",
        "outputId": "b7782d07-5149-4e38-ce5f-726ce6e910ca",
        "colab": {
          "base_uri": "https://localhost:8080/",
          "height": 35
        }
      },
      "source": [
        "print(\"test accuracy : \", test_acc)"
      ],
      "execution_count": null,
      "outputs": [
        {
          "output_type": "stream",
          "text": [
            "test accuracy :  0.9446\n"
          ],
          "name": "stdout"
        }
      ]
    },
    {
      "cell_type": "code",
      "metadata": {
        "id": "bsz_utNS_VI8"
      },
      "source": [
        "predictions = model.predict(x_test)"
      ],
      "execution_count": null,
      "outputs": []
    },
    {
      "cell_type": "markdown",
      "metadata": {
        "id": "2HdRmrh8_VJG"
      },
      "source": [
        "## In the first test with 128 nueron in hiddenlayer and with 5 epochs we got 94.00 accuracy"
      ]
    },
    {
      "cell_type": "code",
      "metadata": {
        "id": "T3pXE-9g_VJK"
      },
      "source": [
        ""
      ],
      "execution_count": null,
      "outputs": []
    },
    {
      "cell_type": "markdown",
      "metadata": {
        "id": "ir_YRNI7_VJY"
      },
      "source": [
        "### 2nd test"
      ]
    },
    {
      "cell_type": "markdown",
      "metadata": {
        "id": "AGYrf8OI_VJa"
      },
      "source": [
        "### testing the model with the same paramets and epochs = 8"
      ]
    },
    {
      "cell_type": "code",
      "metadata": {
        "id": "IrOA9MEW_VJc",
        "outputId": "92d5885f-6bac-48ed-ee6c-b8864e9faf7f",
        "colab": {
          "base_uri": "https://localhost:8080/",
          "height": 274
        }
      },
      "source": [
        "model = keras.Sequential([\n",
        "    keras.layers.Flatten(input_shape=(28, 28)),\n",
        "    keras.layers.Dense(128, activation=tf.nn.relu),\n",
        "    keras.layers.Dense(10, activation=tf.nn.softmax)\n",
        "    ])\n",
        "\n",
        "model.compile(optimizer=tf.train.AdamOptimizer(),\n",
        "             loss='sparse_categorical_crossentropy',\n",
        "             metrics=['accuracy']\n",
        "             )\n",
        "\n",
        "model.fit(x_train, y_train, epochs=6)\n",
        "test_loss, test_acc = model.evaluate(x_test, y_test)"
      ],
      "execution_count": null,
      "outputs": [
        {
          "output_type": "stream",
          "text": [
            "Train on 60000 samples\n",
            "Epoch 1/6\n",
            "60000/60000 [==============================] - 4s 74us/sample - loss: 2.1735 - acc: 0.8558\n",
            "Epoch 2/6\n",
            "60000/60000 [==============================] - 4s 73us/sample - loss: 0.3649 - acc: 0.9110\n",
            "Epoch 3/6\n",
            "60000/60000 [==============================] - 5s 76us/sample - loss: 0.2726 - acc: 0.9284\n",
            "Epoch 4/6\n",
            "60000/60000 [==============================] - 5s 77us/sample - loss: 0.2531 - acc: 0.9348\n",
            "Epoch 5/6\n",
            "60000/60000 [==============================] - 5s 77us/sample - loss: 0.2251 - acc: 0.9424\n",
            "Epoch 6/6\n",
            "60000/60000 [==============================] - 4s 75us/sample - loss: 0.2133 - acc: 0.9443\n",
            "10000/10000 [==============================] - 0s 38us/sample - loss: 0.2395 - acc: 0.9411\n"
          ],
          "name": "stdout"
        }
      ]
    },
    {
      "cell_type": "code",
      "metadata": {
        "id": "pIu8zywF_VJm",
        "outputId": "cd64eabd-f1ee-447b-b3a9-a5a7f3511d3e",
        "colab": {
          "base_uri": "https://localhost:8080/",
          "height": 34
        }
      },
      "source": [
        "print(\"test accuracy : \", test_acc)\n",
        "predictions = model.predict(x_test)"
      ],
      "execution_count": null,
      "outputs": [
        {
          "output_type": "stream",
          "text": [
            "test accuracy :  0.9487\n"
          ],
          "name": "stdout"
        }
      ]
    },
    {
      "cell_type": "markdown",
      "metadata": {
        "id": "KYnxY--7_VJw"
      },
      "source": [
        "### with increase in epochs there is a slight increase in the accuracy"
      ]
    },
    {
      "cell_type": "markdown",
      "metadata": {
        "id": "v9KDuI-J_VJ0"
      },
      "source": [
        "### 3rd Test -> testing with half of the nuerons i.e 64"
      ]
    },
    {
      "cell_type": "code",
      "metadata": {
        "id": "gTiKhyBp_VJ3"
      },
      "source": [
        ""
      ],
      "execution_count": null,
      "outputs": []
    },
    {
      "cell_type": "code",
      "metadata": {
        "id": "MMZh-jPm_VJ8",
        "outputId": "8dbde52e-413b-443e-fd7f-2aa309ad12d9",
        "colab": {
          "base_uri": "https://localhost:8080/",
          "height": 311
        }
      },
      "source": [
        "model = keras.Sequential([\n",
        "    keras.layers.Flatten(input_shape=(28, 28)),\n",
        "    keras.layers.Dense(64, activation=tf.nn.relu),\n",
        "    keras.layers.Dense(10, activation=tf.nn.softmax)\n",
        "    ])\n",
        "\n",
        "model.compile(optimizer=tf.train.AdamOptimizer(),\n",
        "             loss='sparse_categorical_crossentropy',\n",
        "             metrics=['accuracy']\n",
        "             )\n",
        "\n",
        "model.fit(x_train, y_train, epochs=7)\n",
        "test_loss, test_acc = model.evaluate(x_test, y_test)"
      ],
      "execution_count": null,
      "outputs": [
        {
          "output_type": "stream",
          "text": [
            "Train on 60000 samples\n",
            "Epoch 1/7\n",
            "60000/60000 [==============================] - 4s 69us/sample - loss: 1.8168 - acc: 0.7765\n",
            "Epoch 2/7\n",
            "60000/60000 [==============================] - 4s 68us/sample - loss: 0.4313 - acc: 0.8859\n",
            "Epoch 3/7\n",
            "60000/60000 [==============================] - 4s 67us/sample - loss: 0.3018 - acc: 0.9208\n",
            "Epoch 4/7\n",
            "60000/60000 [==============================] - 4s 68us/sample - loss: 0.2700 - acc: 0.9294\n",
            "Epoch 5/7\n",
            "60000/60000 [==============================] - 4s 66us/sample - loss: 0.2512 - acc: 0.9334\n",
            "Epoch 6/7\n",
            "60000/60000 [==============================] - 4s 66us/sample - loss: 0.2401 - acc: 0.9370\n",
            "Epoch 7/7\n",
            "60000/60000 [==============================] - 4s 69us/sample - loss: 0.2300 - acc: 0.9409\n",
            "10000/10000 [==============================] - 0s 36us/sample - loss: 0.2769 - acc: 0.9353\n"
          ],
          "name": "stdout"
        }
      ]
    },
    {
      "cell_type": "code",
      "metadata": {
        "id": "Kb6FTd8G_VKC",
        "outputId": "19f26d72-f4de-42c6-ad42-fe3eeb76b9c1",
        "colab": {
          "base_uri": "https://localhost:8080/",
          "height": 34
        }
      },
      "source": [
        "predictions = model.predict(x_test)\n",
        "print(\"test accuracy : \", test_acc)"
      ],
      "execution_count": null,
      "outputs": [
        {
          "output_type": "stream",
          "text": [
            "test accuracy :  0.931\n"
          ],
          "name": "stdout"
        }
      ]
    },
    {
      "cell_type": "markdown",
      "metadata": {
        "id": "4-We8Uv__VKL"
      },
      "source": [
        "### With decrease in the neurons there is a decrease in the accuracy from 0.9487 to 0.931"
      ]
    },
    {
      "cell_type": "markdown",
      "metadata": {
        "id": "NPgdPXA8_VKN"
      },
      "source": [
        "### 4th test -> testing with the double the neurons in the hidden layer i.e 180"
      ]
    },
    {
      "cell_type": "code",
      "metadata": {
        "id": "EbuKyvoa_VKO",
        "outputId": "2ab3a05b-8452-42cc-f454-18ae576ca6d7",
        "colab": {
          "base_uri": "https://localhost:8080/",
          "height": 237
        }
      },
      "source": [
        "model = keras.Sequential([\n",
        "    keras.layers.Flatten(input_shape=(28, 28)),\n",
        "    keras.layers.Dense(64, activation=tf.nn.relu),\n",
        "    keras.layers.Dense(10, activation=tf.nn.softmax)\n",
        "    ])\n",
        "\n",
        "model.compile(optimizer=tf.train.AdamOptimizer(),\n",
        "             loss='sparse_categorical_crossentropy',\n",
        "             metrics=['accuracy']\n",
        "             )\n",
        "\n",
        "model.fit(x_train, y_train, epochs=5)\n",
        "test_loss, test_acc = model.evaluate(x_test, y_test)\n"
      ],
      "execution_count": null,
      "outputs": [
        {
          "output_type": "stream",
          "text": [
            "Train on 60000 samples\n",
            "Epoch 1/5\n",
            "60000/60000 [==============================] - 4s 69us/sample - loss: 2.2684 - acc: 0.7820\n",
            "Epoch 2/5\n",
            "60000/60000 [==============================] - 4s 71us/sample - loss: 0.4911 - acc: 0.8788\n",
            "Epoch 3/5\n",
            "60000/60000 [==============================] - 4s 67us/sample - loss: 0.3520 - acc: 0.9099\n",
            "Epoch 4/5\n",
            "60000/60000 [==============================] - 4s 68us/sample - loss: 0.3019 - acc: 0.9226\n",
            "Epoch 5/5\n",
            "60000/60000 [==============================] - 4s 68us/sample - loss: 0.2690 - acc: 0.9294\n",
            "10000/10000 [==============================] - 0s 37us/sample - loss: 0.2736 - acc: 0.9266\n"
          ],
          "name": "stdout"
        }
      ]
    },
    {
      "cell_type": "code",
      "metadata": {
        "id": "5PaIQxq3_VKb",
        "outputId": "bea04cf6-bcfc-442a-a547-570f9226f1d8",
        "colab": {
          "base_uri": "https://localhost:8080/",
          "height": 34
        }
      },
      "source": [
        "predictions = model.predict(x_test)\n",
        "print(\"test accuracy : \", test_acc)"
      ],
      "execution_count": null,
      "outputs": [
        {
          "output_type": "stream",
          "text": [
            "test accuracy :  0.9355\n"
          ],
          "name": "stdout"
        }
      ]
    },
    {
      "cell_type": "markdown",
      "metadata": {
        "id": "tsdBj4qnCGRl"
      },
      "source": [
        ""
      ]
    },
    {
      "cell_type": "markdown",
      "metadata": {
        "id": "Z3HY1sVk_VKn"
      },
      "source": [
        "### With increase in the no of neurons there is slight increase in the accuracy"
      ]
    },
    {
      "cell_type": "markdown",
      "metadata": {
        "id": "iDH1sjij_VKo"
      },
      "source": [
        "### 5th test -> increase in the no of epochs with 180 neuron"
      ]
    },
    {
      "cell_type": "code",
      "metadata": {
        "id": "FE9Z1SJ6_VKs",
        "outputId": "f9fb30f7-23ea-4185-d375-8cd0b57b8f1c",
        "colab": {
          "base_uri": "https://localhost:8080/",
          "height": 384
        }
      },
      "source": [
        "model = keras.Sequential([\n",
        "    keras.layers.Flatten(input_shape=(28, 28)),\n",
        "    keras.layers.Dense(180, activation=tf.nn.relu),\n",
        "    keras.layers.Dense(10, activation=tf.nn.softmax)\n",
        "    ])\n",
        "\n",
        "model.compile(optimizer=tf.train.AdamOptimizer(),\n",
        "             loss='sparse_categorical_crossentropy',\n",
        "             metrics=['accuracy']\n",
        "             )\n",
        "\n",
        "model.fit(x_train, y_train, epochs=9)\n",
        "test_loss, test_acc = model.evaluate(x_test, y_test)\n",
        "predictions = model.predict(x_test)"
      ],
      "execution_count": null,
      "outputs": [
        {
          "output_type": "stream",
          "text": [
            "Train on 60000 samples\n",
            "Epoch 1/9\n",
            "60000/60000 [==============================] - 5s 91us/sample - loss: 2.8810 - acc: 0.8794\n",
            "Epoch 2/9\n",
            "60000/60000 [==============================] - 6s 92us/sample - loss: 0.3494 - acc: 0.9216\n",
            "Epoch 3/9\n",
            "60000/60000 [==============================] - 5s 86us/sample - loss: 0.2722 - acc: 0.9349\n",
            "Epoch 4/9\n",
            "60000/60000 [==============================] - 5s 83us/sample - loss: 0.2449 - acc: 0.9419\n",
            "Epoch 5/9\n",
            "60000/60000 [==============================] - 5s 84us/sample - loss: 0.2169 - acc: 0.9464\n",
            "Epoch 6/9\n",
            "60000/60000 [==============================] - 5s 85us/sample - loss: 0.2117 - acc: 0.9493\n",
            "Epoch 7/9\n",
            "60000/60000 [==============================] - 5s 86us/sample - loss: 0.1964 - acc: 0.9530\n",
            "Epoch 8/9\n",
            "60000/60000 [==============================] - 5s 85us/sample - loss: 0.1840 - acc: 0.9567\n",
            "Epoch 9/9\n",
            "60000/60000 [==============================] - 5s 84us/sample - loss: 0.1803 - acc: 0.9574\n",
            "10000/10000 [==============================] - 0s 48us/sample - loss: 0.3171 - acc: 0.9449\n"
          ],
          "name": "stdout"
        }
      ]
    },
    {
      "cell_type": "code",
      "metadata": {
        "id": "a1SyryZH_VK1",
        "outputId": "cbe41d0f-4784-4277-f4d6-02da5ca7fec2",
        "colab": {
          "base_uri": "https://localhost:8080/",
          "height": 34
        }
      },
      "source": [
        "print(\"test accuracy : \", test_acc)"
      ],
      "execution_count": null,
      "outputs": [
        {
          "output_type": "stream",
          "text": [
            "test accuracy :  0.9468\n"
          ],
          "name": "stdout"
        }
      ]
    },
    {
      "cell_type": "code",
      "metadata": {
        "id": "OpACSHBq_VK_"
      },
      "source": [
        ""
      ],
      "execution_count": null,
      "outputs": []
    },
    {
      "cell_type": "markdown",
      "metadata": {
        "id": "UWHoOXuq_VLS"
      },
      "source": [
        "### 6th test -> using the Sigmoid actiovation function in the layer"
      ]
    },
    {
      "cell_type": "code",
      "metadata": {
        "id": "PWOhxWTE_VLU",
        "outputId": "fce22307-876f-4224-86a7-9d742a56d073",
        "colab": {
          "base_uri": "https://localhost:8080/",
          "height": 201
        }
      },
      "source": [
        "model = keras.Sequential([\n",
        "    keras.layers.Flatten(input_shape=(28, 28)),\n",
        "    keras.layers.Dense(128, activation=tf.nn.sigmoid),\n",
        "    keras.layers.Dense(10, activation=tf.nn.softmax)\n",
        "    ])\n",
        "\n",
        "model.compile(optimizer=tf.train.AdamOptimizer(),\n",
        "             loss='sparse_categorical_crossentropy',\n",
        "             metrics=['accuracy']\n",
        "             )\n",
        "\n",
        "model.fit(x_train, y_train, epochs=4)\n",
        "test_loss, test_acc = model.evaluate(x_test, y_test)\n",
        "predictions = model.predict(x_test)\n"
      ],
      "execution_count": null,
      "outputs": [
        {
          "output_type": "stream",
          "text": [
            "Train on 60000 samples\n",
            "Epoch 1/4\n",
            "60000/60000 [==============================] - 5s 81us/sample - loss: 0.5284 - acc: 0.8560\n",
            "Epoch 2/4\n",
            "60000/60000 [==============================] - 5s 81us/sample - loss: 0.3500 - acc: 0.8981\n",
            "Epoch 3/4\n",
            "60000/60000 [==============================] - 5s 78us/sample - loss: 0.3200 - acc: 0.9054\n",
            "Epoch 4/4\n",
            "60000/60000 [==============================] - 5s 75us/sample - loss: 0.3081 - acc: 0.9071\n",
            "10000/10000 [==============================] - 0s 43us/sample - loss: 0.2851 - acc: 0.9131\n"
          ],
          "name": "stdout"
        }
      ]
    },
    {
      "cell_type": "code",
      "metadata": {
        "id": "GChmATgu_VLf",
        "outputId": "29185aa8-8445-4c02-f5ee-547af58350cd",
        "colab": {
          "base_uri": "https://localhost:8080/",
          "height": 34
        }
      },
      "source": [
        "print(\"test accuracy : \", test_acc)"
      ],
      "execution_count": null,
      "outputs": [
        {
          "output_type": "stream",
          "text": [
            "test accuracy :  0.9211\n"
          ],
          "name": "stdout"
        }
      ]
    },
    {
      "cell_type": "markdown",
      "metadata": {
        "id": "Ei5mTPP9_VLm"
      },
      "source": [
        "### There is a decrease in the accuracy with sigmoid activation function when compared with ReLU activation functin"
      ]
    },
    {
      "cell_type": "markdown",
      "metadata": {
        "id": "0XxwEfrq_VLo"
      },
      "source": [
        "### 7th test -> using the tanh activation functuion"
      ]
    },
    {
      "cell_type": "code",
      "metadata": {
        "id": "z0WID7dK_VLr"
      },
      "source": [
        "model = keras.Sequential([\n",
        "    keras.layers.Flatten(input_shape=(28, 28)),\n",
        "    keras.layers.Dense(128, activation=tf.nn.tanh),\n",
        "    keras.layers.Dense(10, activation=tf.nn.softmax)\n",
        "    ])\n",
        "\n",
        "model.compile(optimizer=tf.trainAdamOptimizer(),\n",
        "             loss='sparse_categorical_crossentropy',\n",
        "             metrics=['accuracy']\n",
        "             )\n",
        "\n",
        "model.fit(x_train, y_train, epochs=3)\n",
        "test_loss, test_acc = model.evaluate(x_test, y_test)\n",
        "predictions = model.predict(x_test)\n"
      ],
      "execution_count": null,
      "outputs": []
    },
    {
      "cell_type": "code",
      "metadata": {
        "id": "2eWTuEY5_VLw",
        "outputId": "9f6c2f23-2ac8-4fd9-c084-5c091ae87467",
        "colab": {
          "base_uri": "https://localhost:8080/",
          "height": 35
        }
      },
      "source": [
        "print(\"test accuracy : \", test_acc)"
      ],
      "execution_count": null,
      "outputs": [
        {
          "output_type": "stream",
          "text": [
            "test accuracy :  0.9131\n"
          ],
          "name": "stdout"
        }
      ]
    },
    {
      "cell_type": "markdown",
      "metadata": {
        "id": "RdVlMYZr_VL6"
      },
      "source": [
        "### With Tanh activation function there is an observable decrease in the accuracy "
      ]
    },
    {
      "cell_type": "markdown",
      "metadata": {
        "id": "9wX7IHAA_VL-"
      },
      "source": [
        "### 8th test -> using the softmax function in the hidden layer"
      ]
    },
    {
      "cell_type": "code",
      "metadata": {
        "id": "gaQe8mK7_VMB",
        "outputId": "bedf3e66-dba0-47f2-ff6d-0f776dde4588",
        "colab": {
          "base_uri": "https://localhost:8080/",
          "height": 127
        }
      },
      "source": [
        "model = keras.Sequential([\n",
        "    keras.layers.Flatten(input_shape=(28, 28)),\n",
        "    keras.layers.Dense(128, activation=tf.nn.softmax),\n",
        "    keras.layers.Dense(10, activation=tf.nn.softmax)\n",
        "    ])\n",
        "\n",
        "model.compile(optimizer=tf.train.AdamOptimizer(),\n",
        "             loss='sparse_categorical_crossentropy',\n",
        "             metrics=['accuracy']\n",
        "             )\n",
        "\n",
        "model.fit(x_train, y_train, epochs=2)\n",
        "test_loss, test_acc = model.evaluate(x_test, y_test)\n",
        "predictions = model.predict(x_test)"
      ],
      "execution_count": null,
      "outputs": [
        {
          "output_type": "stream",
          "text": [
            "Train on 60000 samples\n",
            "Epoch 1/2\n",
            "60000/60000 [==============================] - 6s 100us/sample - loss: 1.6700 - acc: 0.4854\n",
            "Epoch 2/2\n",
            "60000/60000 [==============================] - 5s 85us/sample - loss: 1.1855 - acc: 0.5438\n",
            "10000/10000 [==============================] - 0s 44us/sample - loss: 1.1384 - acc: 0.5293\n"
          ],
          "name": "stdout"
        }
      ]
    },
    {
      "cell_type": "code",
      "metadata": {
        "id": "bYdn28m-_VMH",
        "outputId": "ff52c2e3-8586-4602-f294-2c3d91a716f9",
        "colab": {
          "base_uri": "https://localhost:8080/",
          "height": 34
        }
      },
      "source": [
        "print(\"test accuracy : \", test_acc)"
      ],
      "execution_count": null,
      "outputs": [
        {
          "output_type": "stream",
          "text": [
            "test accuracy :  0.5424\n"
          ],
          "name": "stdout"
        }
      ]
    },
    {
      "cell_type": "markdown",
      "metadata": {
        "id": "QmBBpdVB_VMN"
      },
      "source": [
        "### Softmax function in hidden caused a significant decrease in the accuracy"
      ]
    },
    {
      "cell_type": "markdown",
      "metadata": {
        "id": "WAwtrpcs_VMS"
      },
      "source": [
        "### 9th test -> using Stochastic gradient descent(SGD) optimizer"
      ]
    },
    {
      "cell_type": "code",
      "metadata": {
        "id": "djVDdmse_VMU",
        "outputId": "6917875f-5d05-4ea1-d61f-26386a9a28a1",
        "colab": {
          "base_uri": "https://localhost:8080/",
          "height": 421
        }
      },
      "source": [
        "model = keras.Sequential([\n",
        "    keras.layers.Flatten(input_shape=(28, 28)),\n",
        "    keras.layers.Dense(128, activation=tf.nn.relu),\n",
        "    keras.layers.Dense(10, activation=tf.nn.softmax)\n",
        "    ])\n",
        "\n",
        "model.compile(optimizer=tf.train.AdamOptimizer(),\n",
        "             loss='sparse_categorical_crossentropy',\n",
        "             metrics=['accuracy']\n",
        "             )\n",
        "\n",
        "model.fit(x_train, y_train, epochs=10)\n",
        "test_loss, test_acc = model.evaluate(x_test, y_test)\n",
        "predictions = model.predict(x_test)"
      ],
      "execution_count": null,
      "outputs": [
        {
          "output_type": "stream",
          "text": [
            "Train on 60000 samples\n",
            "Epoch 1/10\n",
            "60000/60000 [==============================] - 5s 90us/sample - loss: 2.5754 - acc: 0.8662\n",
            "Epoch 2/10\n",
            "60000/60000 [==============================] - 5s 79us/sample - loss: 0.3525 - acc: 0.9145\n",
            "Epoch 3/10\n",
            "60000/60000 [==============================] - 5s 77us/sample - loss: 0.2659 - acc: 0.9316\n",
            "Epoch 4/10\n",
            "60000/60000 [==============================] - 5s 77us/sample - loss: 0.2416 - acc: 0.9387\n",
            "Epoch 5/10\n",
            "60000/60000 [==============================] - 5s 79us/sample - loss: 0.2155 - acc: 0.9453\n",
            "Epoch 6/10\n",
            "60000/60000 [==============================] - 5s 81us/sample - loss: 0.2120 - acc: 0.9481\n",
            "Epoch 7/10\n",
            "60000/60000 [==============================] - 5s 78us/sample - loss: 0.1941 - acc: 0.9514\n",
            "Epoch 8/10\n",
            "60000/60000 [==============================] - 5s 79us/sample - loss: 0.1860 - acc: 0.9540\n",
            "Epoch 9/10\n",
            "60000/60000 [==============================] - 5s 76us/sample - loss: 0.1902 - acc: 0.9534\n",
            "Epoch 10/10\n",
            "60000/60000 [==============================] - 5s 77us/sample - loss: 0.1780 - acc: 0.9571\n",
            "10000/10000 [==============================] - 0s 43us/sample - loss: 0.2527 - acc: 0.9507\n"
          ],
          "name": "stdout"
        }
      ]
    },
    {
      "cell_type": "code",
      "metadata": {
        "id": "iJ9snNQ4_VMZ",
        "outputId": "a8cb084f-6be8-402f-f353-89f53ff06bd2",
        "colab": {
          "base_uri": "https://localhost:8080/",
          "height": 34
        }
      },
      "source": [
        "print(\"test accuracy : \", test_acc)"
      ],
      "execution_count": null,
      "outputs": [
        {
          "output_type": "stream",
          "text": [
            "test accuracy :  0.9449\n"
          ],
          "name": "stdout"
        }
      ]
    },
    {
      "cell_type": "markdown",
      "metadata": {
        "id": "75NOaFrZ_VMd"
      },
      "source": [
        "### SGD optimizer has the lowest accuracy when compared with Adam's optimizer"
      ]
    },
    {
      "cell_type": "markdown",
      "metadata": {
        "id": "3fIm3d_1_VMi"
      },
      "source": [
        "### 10th test -> using Adamax optimizer"
      ]
    },
    {
      "cell_type": "code",
      "metadata": {
        "id": "Kj4Nvw_z_VMn",
        "outputId": "423f6816-ad4c-4df4-eae9-12d954ac5fdb",
        "colab": {
          "base_uri": "https://localhost:8080/",
          "height": 34
        }
      },
      "source": [
        "print(\"test accuracy : \", test_acc)"
      ],
      "execution_count": null,
      "outputs": [
        {
          "output_type": "stream",
          "text": [
            "test accuracy :  0.9536\n"
          ],
          "name": "stdout"
        }
      ]
    },
    {
      "cell_type": "code",
      "metadata": {
        "id": "RbPES2jkOJKb"
      },
      "source": [
        ""
      ],
      "execution_count": null,
      "outputs": []
    },
    {
      "cell_type": "code",
      "metadata": {
        "id": "zOsk1LYa_VMi",
        "outputId": "c1c55eab-2ee3-464e-a088-1954bea17fea",
        "colab": {
          "base_uri": "https://localhost:8080/",
          "height": 663
        }
      },
      "source": [
        "model = keras.Sequential([\n",
        "    keras.layers.Flatten(input_shape=(28, 28)),\n",
        "    keras.layers.Dense(128, activation=tf.nn.relu),\n",
        "    keras.layers.Dense(10, activation=tf.nn.softmax)\n",
        "    ])\n",
        "\n",
        "model.compile(optimizer=tf.train.AdamOptimizer(),\n",
        "             loss='sparse_categorical_crossentropy',\n",
        "             metrics=['accuracy']\n",
        "             )\n",
        "\n",
        "model.fit(x_train, y_train, epochs=18)\n",
        "test_loss, test_acc = model.evaluate(x_test, y_test)\n",
        "predictions = model.predict(x_test)"
      ],
      "execution_count": null,
      "outputs": [
        {
          "output_type": "stream",
          "text": [
            "Train on 60000 samples\n",
            "Epoch 1/18\n",
            "60000/60000 [==============================] - 4s 65us/sample - loss: 2.8045 - acc: 0.8484\n",
            "Epoch 2/18\n",
            "60000/60000 [==============================] - 4s 64us/sample - loss: 0.3886 - acc: 0.9062\n",
            "Epoch 3/18\n",
            "60000/60000 [==============================] - 4s 64us/sample - loss: 0.2782 - acc: 0.9277\n",
            "Epoch 4/18\n",
            "60000/60000 [==============================] - 4s 64us/sample - loss: 0.2490 - acc: 0.9364\n",
            "Epoch 5/18\n",
            "60000/60000 [==============================] - 4s 63us/sample - loss: 0.2242 - acc: 0.9433\n",
            "Epoch 6/18\n",
            "60000/60000 [==============================] - 4s 63us/sample - loss: 0.2128 - acc: 0.9467\n",
            "Epoch 7/18\n",
            "60000/60000 [==============================] - 4s 65us/sample - loss: 0.2053 - acc: 0.9497\n",
            "Epoch 8/18\n",
            "60000/60000 [==============================] - 4s 64us/sample - loss: 0.1953 - acc: 0.9521\n",
            "Epoch 9/18\n",
            "60000/60000 [==============================] - 4s 63us/sample - loss: 0.1862 - acc: 0.9539\n",
            "Epoch 10/18\n",
            "60000/60000 [==============================] - 4s 64us/sample - loss: 0.1832 - acc: 0.9567\n",
            "Epoch 11/18\n",
            "60000/60000 [==============================] - 4s 64us/sample - loss: 0.1754 - acc: 0.9579\n",
            "Epoch 12/18\n",
            "60000/60000 [==============================] - 4s 64us/sample - loss: 0.1731 - acc: 0.9591\n",
            "Epoch 13/18\n",
            "60000/60000 [==============================] - 4s 64us/sample - loss: 0.1648 - acc: 0.9613\n",
            "Epoch 14/18\n",
            "60000/60000 [==============================] - 4s 64us/sample - loss: 0.1662 - acc: 0.9612\n",
            "Epoch 15/18\n",
            "60000/60000 [==============================] - 4s 64us/sample - loss: 0.1662 - acc: 0.9612\n",
            "Epoch 16/18\n",
            "60000/60000 [==============================] - 4s 65us/sample - loss: 0.1546 - acc: 0.9628\n",
            "Epoch 17/18\n",
            "60000/60000 [==============================] - 4s 65us/sample - loss: 0.1695 - acc: 0.9605\n",
            "Epoch 18/18\n",
            "60000/60000 [==============================] - 4s 64us/sample - loss: 0.1532 - acc: 0.9635\n",
            "10000/10000 [==============================] - 0s 35us/sample - loss: 0.2970 - acc: 0.9536\n"
          ],
          "name": "stdout"
        }
      ]
    },
    {
      "cell_type": "markdown",
      "metadata": {
        "id": "1AeW7lhb_VMs"
      },
      "source": [
        "### With Adamax optimizer these is a slight increase in the accuracy"
      ]
    },
    {
      "cell_type": "code",
      "metadata": {
        "id": "hcblbJsROLMg",
        "outputId": "243eddda-688c-40d0-de49-18af542bd1fd",
        "colab": {
          "base_uri": "https://localhost:8080/",
          "height": 714
        }
      },
      "source": [
        "model = keras.Sequential([\n",
        "    keras.layers.Flatten(input_shape=(28, 28)),\n",
        "    keras.layers.Dense(128, activation=tf.nn.relu),\n",
        "    keras.layers.Dense(10, activation=tf.nn.sigmoid)\n",
        "    ])\n",
        "\n",
        "model.compile(optimizer=tf.train.AdamOptimizer(),\n",
        "             loss='sparse_categorical_crossentropy',\n",
        "             metrics=['accuracy']\n",
        "             )\n",
        "\n",
        "model.fit(x_train, y_train, epochs=18)\n",
        "test_loss, test_acc = model.evaluate(x_test, y_test)\n",
        "predictions = model.predict(x_test)"
      ],
      "execution_count": null,
      "outputs": [
        {
          "output_type": "stream",
          "text": [
            "WARNING:tensorflow:From /usr/local/lib/python3.6/dist-packages/tensorflow_core/python/ops/math_grad.py:1424: where (from tensorflow.python.ops.array_ops) is deprecated and will be removed in a future version.\n",
            "Instructions for updating:\n",
            "Use tf.where in 2.0, which has the same broadcast rule as np.where\n",
            "Train on 60000 samples\n",
            "Epoch 1/18\n",
            "60000/60000 [==============================] - 4s 67us/sample - loss: 2.2072 - acc: 0.2126\n",
            "Epoch 2/18\n",
            "60000/60000 [==============================] - 4s 65us/sample - loss: 1.9936 - acc: 0.2871\n",
            "Epoch 3/18\n",
            "60000/60000 [==============================] - 4s 64us/sample - loss: 1.9411 - acc: 0.2930\n",
            "Epoch 4/18\n",
            "60000/60000 [==============================] - 4s 66us/sample - loss: 1.9172 - acc: 0.3357\n",
            "Epoch 5/18\n",
            "60000/60000 [==============================] - 4s 66us/sample - loss: 1.9589 - acc: 0.3661\n",
            "Epoch 6/18\n",
            "60000/60000 [==============================] - 4s 65us/sample - loss: 1.9738 - acc: 0.3738\n",
            "Epoch 7/18\n",
            "60000/60000 [==============================] - 4s 65us/sample - loss: 1.9225 - acc: 0.3489\n",
            "Epoch 8/18\n",
            "60000/60000 [==============================] - 4s 64us/sample - loss: 1.8759 - acc: 0.4112\n",
            "Epoch 9/18\n",
            "60000/60000 [==============================] - 4s 64us/sample - loss: 1.8942 - acc: 0.4685\n",
            "Epoch 10/18\n",
            "60000/60000 [==============================] - 4s 65us/sample - loss: 1.8202 - acc: 0.3821\n",
            "Epoch 11/18\n",
            "60000/60000 [==============================] - 4s 65us/sample - loss: 1.8348 - acc: 0.4260\n",
            "Epoch 12/18\n",
            "60000/60000 [==============================] - 4s 65us/sample - loss: 1.9347 - acc: 0.4136\n",
            "Epoch 13/18\n",
            "60000/60000 [==============================] - 4s 65us/sample - loss: 1.9830 - acc: 0.4821\n",
            "Epoch 14/18\n",
            "60000/60000 [==============================] - 4s 66us/sample - loss: 1.8923 - acc: 0.4486\n",
            "Epoch 15/18\n",
            "60000/60000 [==============================] - 4s 65us/sample - loss: 2.0115 - acc: 0.5041\n",
            "Epoch 16/18\n",
            "60000/60000 [==============================] - 4s 65us/sample - loss: 1.9306 - acc: 0.5244\n",
            "Epoch 17/18\n",
            "60000/60000 [==============================] - 4s 65us/sample - loss: 1.8871 - acc: 0.4739\n",
            "Epoch 18/18\n",
            "60000/60000 [==============================] - 4s 65us/sample - loss: 1.8333 - acc: 0.4626\n",
            "10000/10000 [==============================] - 0s 37us/sample - loss: 1.8521 - acc: 0.5286\n"
          ],
          "name": "stdout"
        }
      ]
    },
    {
      "cell_type": "code",
      "metadata": {
        "id": "Cw73KU_uOQ9o",
        "outputId": "682229fc-c97b-436a-d208-1e952e5ff0e9",
        "colab": {
          "base_uri": "https://localhost:8080/",
          "height": 34
        }
      },
      "source": [
        "print(\"test accuracy : \", test_acc)"
      ],
      "execution_count": null,
      "outputs": [
        {
          "output_type": "stream",
          "text": [
            "test accuracy :  0.5286\n"
          ],
          "name": "stdout"
        }
      ]
    },
    {
      "cell_type": "code",
      "metadata": {
        "id": "v3cocJ-POp6j",
        "outputId": "7008b98f-c40f-49d9-a1df-42d52f0432a4",
        "colab": {
          "base_uri": "https://localhost:8080/",
          "height": 663
        }
      },
      "source": [
        "model = keras.Sequential([\n",
        "    keras.layers.Flatten(input_shape=(28, 28)),\n",
        "    keras.layers.Dense(128, activation=tf.nn.relu),\n",
        "    keras.layers.Dense(128, activation=tf.nn.relu),\n",
        "    keras.layers.Dense(10, activation=tf.nn.softmax)\n",
        "    ])\n",
        "\n",
        "model.compile(optimizer=tf.train.AdamOptimizer(),\n",
        "             loss='sparse_categorical_crossentropy',\n",
        "             metrics=['accuracy']\n",
        "             )\n",
        "\n",
        "model.fit(x_train, y_train, epochs=18)\n",
        "test_loss, test_acc = model.evaluate(x_test, y_test)\n",
        "predictions = model.predict(x_test)"
      ],
      "execution_count": null,
      "outputs": [
        {
          "output_type": "stream",
          "text": [
            "Train on 60000 samples\n",
            "Epoch 1/18\n",
            "60000/60000 [==============================] - 4s 74us/sample - loss: 1.7267 - acc: 0.8758\n",
            "Epoch 2/18\n",
            "60000/60000 [==============================] - 4s 74us/sample - loss: 0.3636 - acc: 0.9285\n",
            "Epoch 3/18\n",
            "60000/60000 [==============================] - 4s 74us/sample - loss: 0.2347 - acc: 0.9429\n",
            "Epoch 4/18\n",
            "60000/60000 [==============================] - 4s 74us/sample - loss: 0.1697 - acc: 0.9543\n",
            "Epoch 5/18\n",
            "60000/60000 [==============================] - 4s 74us/sample - loss: 0.1419 - acc: 0.9603\n",
            "Epoch 6/18\n",
            "60000/60000 [==============================] - 4s 73us/sample - loss: 0.1306 - acc: 0.9638\n",
            "Epoch 7/18\n",
            "60000/60000 [==============================] - 4s 73us/sample - loss: 0.1150 - acc: 0.9678\n",
            "Epoch 8/18\n",
            "60000/60000 [==============================] - 5s 77us/sample - loss: 0.1135 - acc: 0.9686\n",
            "Epoch 9/18\n",
            "60000/60000 [==============================] - 5s 76us/sample - loss: 0.1012 - acc: 0.9722\n",
            "Epoch 10/18\n",
            "60000/60000 [==============================] - 4s 73us/sample - loss: 0.0982 - acc: 0.9737\n",
            "Epoch 11/18\n",
            "60000/60000 [==============================] - 4s 73us/sample - loss: 0.0909 - acc: 0.9759\n",
            "Epoch 12/18\n",
            "60000/60000 [==============================] - 4s 73us/sample - loss: 0.0775 - acc: 0.9783\n",
            "Epoch 13/18\n",
            "60000/60000 [==============================] - 4s 73us/sample - loss: 0.0812 - acc: 0.9788\n",
            "Epoch 14/18\n",
            "60000/60000 [==============================] - 5s 78us/sample - loss: 0.0755 - acc: 0.9794\n",
            "Epoch 15/18\n",
            "60000/60000 [==============================] - 5s 77us/sample - loss: 0.0719 - acc: 0.9815\n",
            "Epoch 16/18\n",
            "60000/60000 [==============================] - 4s 74us/sample - loss: 0.0723 - acc: 0.9819\n",
            "Epoch 17/18\n",
            "60000/60000 [==============================] - 4s 73us/sample - loss: 0.0720 - acc: 0.9818\n",
            "Epoch 18/18\n",
            "60000/60000 [==============================] - 5s 76us/sample - loss: 0.0697 - acc: 0.9833\n",
            "10000/10000 [==============================] - 0s 37us/sample - loss: 0.2247 - acc: 0.9626\n"
          ],
          "name": "stdout"
        }
      ]
    },
    {
      "cell_type": "code",
      "metadata": {
        "id": "QQ1IWW48O4Uq",
        "outputId": "88c8a53a-2b87-4834-e0fc-703efac9749f",
        "colab": {
          "base_uri": "https://localhost:8080/",
          "height": 34
        }
      },
      "source": [
        "print(\"test accuracy : \", test_acc)"
      ],
      "execution_count": null,
      "outputs": [
        {
          "output_type": "stream",
          "text": [
            "test accuracy :  0.9626\n"
          ],
          "name": "stdout"
        }
      ]
    },
    {
      "cell_type": "code",
      "metadata": {
        "id": "kS6xcRm_PNzq"
      },
      "source": [
        ""
      ],
      "execution_count": null,
      "outputs": []
    }
  ]
}