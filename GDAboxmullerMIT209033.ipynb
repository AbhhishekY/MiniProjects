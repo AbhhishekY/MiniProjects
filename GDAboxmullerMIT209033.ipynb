{
  "nbformat": 4,
  "nbformat_minor": 0,
  "metadata": {
    "colab": {
      "name": "GDAboxmullerMIT209033.ipynb",
      "provenance": []
    },
    "kernelspec": {
      "name": "python3",
      "display_name": "Python 3"
    }
  },
  "cells": [
    {
      "cell_type": "code",
      "metadata": {
        "id": "sYXU8Apn3MK6"
      },
      "source": [
        "import numpy as np\n",
        "import pandas as pd\n",
        "from sklearn.model_selection import train_test_split\n",
        "from sklearn.metrics import accuracy_score\n",
        "from sklearn.preprocessing import MinMaxScaler"
      ],
      "execution_count": null,
      "outputs": []
    },
    {
      "cell_type": "code",
      "metadata": {
        "id": "wXCcY_nf53PN"
      },
      "source": [
        "df = pd.read_csv(\"/content/microchip.csv\")"
      ],
      "execution_count": null,
      "outputs": []
    },
    {
      "cell_type": "code",
      "metadata": {
        "id": "r5iswSf13lLt"
      },
      "source": [
        "def BoxMullerTransformation(r1, r2):\n",
        "    z1 = np.sqrt(-2 * np.log(r1)) * np.cos(2 * np.pi * r2)\n",
        "    z2 = np.sqrt(-2 * np.log(r1)) * np.sin(2 * np.pi * r2)\n",
        "    return z1, z2"
      ],
      "execution_count": null,
      "outputs": []
    },
    {
      "cell_type": "code",
      "metadata": {
        "id": "2_pAu6u-3mBs"
      },
      "source": [
        "def GDA(x, inv, mu, d):  \n",
        "    res = 1 / ((2*np.pi)**(x.shape[0]/2) * d) * np.exp(-0.5 * np.dot(np.dot((x - mu), inv), (x - mu).T))\n",
        "    return res"
      ],
      "execution_count": null,
      "outputs": []
    },
    {
      "cell_type": "code",
      "metadata": {
        "id": "DHm01rR13qCb",
        "outputId": "25720dfe-f224-4649-fa8e-5ecc3a11bab9",
        "colab": {
          "base_uri": "https://localhost:8080/",
          "height": 357
        }
      },
      "source": [
        "\n",
        "X = df[[\"1\", \"2\"]]\n",
        "y = df[[\"class\"]]\n",
        "y = np.array(y)\n",
        "X[['1', '2']] = MinMaxScaler().fit_transform(X[['1', '2']])\n",
        "median = X['1'].median()\n",
        "X['1'].replace(0, median)\n",
        "median = X['2'].median()\n",
        "X['2'].replace(0, median)\n",
        "\n",
        "X = np.array(X)\n",
        "\n",
        "r1, r2 = BoxMullerTransformation(X[:,0], X[:,1])\n",
        "\n",
        "X_data = np.stack((r1, r2), axis=-1)\n",
        "\n",
        "X_train, X_test, y_train, y_test = train_test_split(X_data,y, test_size = 0.3, random_state = 1)\n",
        "\n",
        "y_mean = y.mean()\n",
        "X_1 = []\n",
        "X_0 = []"
      ],
      "execution_count": null,
      "outputs": [
        {
          "output_type": "stream",
          "text": [
            "/usr/local/lib/python3.6/dist-packages/ipykernel_launcher.py:5: SettingWithCopyWarning: \n",
            "A value is trying to be set on a copy of a slice from a DataFrame.\n",
            "Try using .loc[row_indexer,col_indexer] = value instead\n",
            "\n",
            "See the caveats in the documentation: https://pandas.pydata.org/pandas-docs/stable/user_guide/indexing.html#returning-a-view-versus-a-copy\n",
            "  \"\"\"\n",
            "/usr/local/lib/python3.6/dist-packages/pandas/core/frame.py:2969: SettingWithCopyWarning: \n",
            "A value is trying to be set on a copy of a slice from a DataFrame\n",
            "\n",
            "See the caveats in the documentation: https://pandas.pydata.org/pandas-docs/stable/user_guide/indexing.html#returning-a-view-versus-a-copy\n",
            "  self.loc._setitem_with_indexer((slice(None), indexer), value)\n",
            "/usr/local/lib/python3.6/dist-packages/pandas/core/frame.py:2935: SettingWithCopyWarning: \n",
            "A value is trying to be set on a copy of a slice from a DataFrame\n",
            "\n",
            "See the caveats in the documentation: https://pandas.pydata.org/pandas-docs/stable/user_guide/indexing.html#returning-a-view-versus-a-copy\n",
            "  self._setitem_array(key, value)\n",
            "/usr/local/lib/python3.6/dist-packages/ipykernel_launcher.py:2: RuntimeWarning: divide by zero encountered in log\n",
            "  \n",
            "/usr/local/lib/python3.6/dist-packages/ipykernel_launcher.py:3: RuntimeWarning: divide by zero encountered in log\n",
            "  This is separate from the ipykernel package so we can avoid doing imports until\n"
          ],
          "name": "stderr"
        }
      ]
    },
    {
      "cell_type": "code",
      "metadata": {
        "id": "zd_JiLCz5eGw"
      },
      "source": [
        "for i in range(X_train.shape[0]):\n",
        "    if y_train[i] == 1:\n",
        "        X_1.append(X_train[i])\n",
        "    else:\n",
        "        X_0.append(X_train[i])"
      ],
      "execution_count": null,
      "outputs": []
    },
    {
      "cell_type": "code",
      "metadata": {
        "id": "OH_ZNzwK5ihN"
      },
      "source": [
        "X_1 = np.vstack(X_1)\n",
        "X_0 = np.vstack(X_0)\n"
      ],
      "execution_count": null,
      "outputs": []
    },
    {
      "cell_type": "code",
      "metadata": {
        "id": "Ws1X-zTZ5ktS"
      },
      "source": [
        "\n",
        "def init(X_1, X_0):\n",
        "    mean_1 = X_1.mean(axis = 0)\n",
        "    mean_0 = X_0.mean(axis = 0)\n",
        "\n",
        "    X_1 = X_1 - mean_1\n",
        "    X_0 = X_0 - mean_0\n",
        "    sig = (np.dot(X_1.T, X_1) + np.dot(X_0.T, X_0))/X.shape[0]\n",
        "    s_inv = np.linalg.inv(sig)\n",
        "    det = np.sqrt(np.linalg.det(sig))\n",
        "    y_pred = []\n",
        "    for i in range(X_test.shape[0]):\n",
        "        prob_1 = GDA(X_test[i], s_inv, mean_1, det) * y_mean\n",
        "        prob_0 = GDA(X_test[i], s_inv, mean_0, det) * (1 - y_mean)\n",
        "    \n",
        "        if prob_1 > prob_0:\n",
        "            y_pred.append(1)\n",
        "        else:\n",
        "            y_pred.append(0)\n",
        "        \n",
        "    accuracy = accuracy_score(y_test, y_pred)\n",
        "    return accuracy"
      ],
      "execution_count": null,
      "outputs": []
    },
    {
      "cell_type": "code",
      "metadata": {
        "id": "RyEbaN6f5o2Z",
        "outputId": "c6456478-ebe2-4642-a29a-8892a3aac0d3",
        "colab": {
          "base_uri": "https://localhost:8080/",
          "height": 34
        }
      },
      "source": [
        "accuracy = init(X_1, X_0)\n",
        "print(accuracy)"
      ],
      "execution_count": null,
      "outputs": [
        {
          "output_type": "stream",
          "text": [
            "0.6944444444444444\n"
          ],
          "name": "stdout"
        }
      ]
    }
  ]
}