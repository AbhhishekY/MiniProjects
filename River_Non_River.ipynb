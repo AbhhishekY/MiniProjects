{
  "nbformat": 4,
  "nbformat_minor": 0,
  "metadata": {
    "kernelspec": {
      "name": "python3",
      "display_name": "Python 3"
    },
    "language_info": {
      "codemirror_mode": {
        "name": "ipython",
        "version": 3
      },
      "file_extension": ".py",
      "mimetype": "text/x-python",
      "name": "python",
      "nbconvert_exporter": "python",
      "pygments_lexer": "ipython3",
      "version": "3.7.1"
    },
    "colab": {
      "name": "River_Non River.ipynb",
      "provenance": [],
      "collapsed_sections": [],
      "toc_visible": true
    },
    "accelerator": "GPU"
  },
  "cells": [
    {
      "cell_type": "code",
      "metadata": {
        "id": "jV0MKl6KxSxF"
      },
      "source": [
        "import numpy as np\n",
        "import matplotlib.pyplot as plt\n",
        "import imageio\n",
        "from skimage.io import imshow,imread\n",
        "from PIL import Image\n"
      ],
      "execution_count": null,
      "outputs": []
    },
    {
      "cell_type": "code",
      "metadata": {
        "id": "q8LMbzgZxSxS",
        "outputId": "0affb759-a5c6-4629-f0d2-6bfda00f0d59",
        "colab": {
          "base_uri": "https://localhost:8080/",
          "height": 991
        }
      },
      "source": [
        "first=imageio.imread('/content/1.gif')\n",
        "print(first)\n",
        "print()\n",
        "fourth=imageio.imread('/content/4.gif')\n",
        "second=imageio.imread('/content/2.gif')\n",
        "third=imageio.imread('/content/3.gif')\n",
        "df1=np.loadtxt(\"/content/river.txt\",dtype=np.int64,delimiter=\",\")\n",
        "X=df1[:,0:1]\n",
        "Y=df1[:,1:2]\n",
        "print(X)\n",
        "df0=np.loadtxt(\"/content/Nonriver.txt\",dtype=np.int64,delimiter=\",\")\n",
        "X2=df0[:,0:1]\n",
        "Y2=df0[:,1:2]\n",
        "\n",
        "#print(X2)"
      ],
      "execution_count": null,
      "outputs": [
        {
          "output_type": "stream",
          "text": [
            "[[41 41 38 ... 41 41 41]\n",
            " [41 42 41 ... 44 41 41]\n",
            " [41 43 39 ... 42 40 40]\n",
            " ...\n",
            " [39 38 38 ... 38 39 37]\n",
            " [40 39 40 ... 38 39 37]\n",
            " [41 42 42 ... 38 38 37]]\n",
            "\n",
            "[[210]\n",
            " [216]\n",
            " [206]\n",
            " [219]\n",
            " [162]\n",
            " [171]\n",
            " [194]\n",
            " [192]\n",
            " [178]\n",
            " [176]\n",
            " [190]\n",
            " [172]\n",
            " [163]\n",
            " [166]\n",
            " [161]\n",
            " [164]\n",
            " [165]\n",
            " [175]\n",
            " [168]\n",
            " [159]\n",
            " [149]\n",
            " [136]\n",
            " [140]\n",
            " [183]\n",
            " [170]\n",
            " [164]\n",
            " [211]\n",
            " [165]\n",
            " [173]\n",
            " [167]\n",
            " [167]\n",
            " [158]\n",
            " [156]\n",
            " [191]\n",
            " [192]\n",
            " [180]\n",
            " [163]\n",
            " [170]\n",
            " [170]\n",
            " [164]\n",
            " [155]\n",
            " [166]\n",
            " [173]\n",
            " [157]\n",
            " [146]\n",
            " [200]\n",
            " [209]\n",
            " [181]\n",
            " [164]\n",
            " [186]]\n"
          ],
          "name": "stdout"
        }
      ]
    },
    {
      "cell_type": "code",
      "metadata": {
        "id": "ZpIoPWkfyueE",
        "outputId": "07468464-a2e8-4d3c-807b-ec9386ee791f",
        "colab": {
          "base_uri": "https://localhost:8080/",
          "height": 34
        }
      },
      "source": [
        "from google.colab import drive\n",
        "drive.mount('/content/drive')"
      ],
      "execution_count": null,
      "outputs": [
        {
          "output_type": "stream",
          "text": [
            "Drive already mounted at /content/drive; to attempt to forcibly remount, call drive.mount(\"/content/drive\", force_remount=True).\n"
          ],
          "name": "stdout"
        }
      ]
    },
    {
      "cell_type": "code",
      "metadata": {
        "id": "8XyxURe_xSxc",
        "outputId": "f1d0612a-cbe1-4004-b785-05568c84a0df",
        "colab": {
          "base_uri": "https://localhost:8080/",
          "height": 185
        }
      },
      "source": [
        "def cal_cov(x,y):\n",
        "    m=len(x)\n",
        "    xmean,ymean=np.mean(x),np.mean(y)\n",
        "    x=x-xmean\n",
        "    y=y-ymean\n",
        "    temp=np.transpose(x)*y\n",
        "    temp=temp/m\n",
        "    return temp[0,0]\n",
        "\n",
        "##calculating covariance matrix for River dataset\n",
        "intensity=[]\n",
        "green=[]\n",
        "red=[]\n",
        "blue=[]\n",
        "\n",
        "\n",
        "for i in range(0,len(X)):\n",
        "    red.append(first[X[i],Y[i]])\n",
        "    green.append(second[X[i],Y[i]])\n",
        "    blue.append(third[X[i],Y[i]])\n",
        "    intensity.append(fourth[X[i],Y[i]])\n",
        "\n",
        "blue = np.matrix(blue)\n",
        "red = np.matrix(red)\n",
        "green = np.matrix(green)\n",
        "intensity = np.matrix(intensity)\n",
        "\n",
        "#print(\"** \",red)\n",
        "\n",
        "river_mean=np.matrix([np.mean(red),np.mean(green),np.mean(blue),np.mean(intensity)])\n",
        "\n",
        "print(\"The river mean matrix is\",river_mean)\n",
        "\n",
        "#calculating the river co-variance matrix\n",
        "rivercov_matrix=[[cal_cov(red,red),cal_cov(red,green),cal_cov(red,blue),cal_cov(red,intensity)],\n",
        "   [cal_cov(green,red),cal_cov(green,green),cal_cov(green,blue),cal_cov(green,intensity)],\n",
        "   [cal_cov(blue,red),cal_cov(blue,green),cal_cov(blue,blue),cal_cov(blue,intensity)],\n",
        "   [cal_cov(intensity,red),cal_cov(intensity,green),cal_cov(intensity,blue),cal_cov(intensity,intensity)]]\n",
        "\n",
        "rivercov_matrix=np.matrix(rivercov_matrix)\n",
        "\n",
        "print(\"The covariance matrix for River is\",rivercov_matrix)\n",
        "\n",
        "##calculating covariance matrix for non-river dataset\n",
        "red=[]\n",
        "green=[]\n",
        "blue=[]\n",
        "intensity=[]\n",
        "\n",
        "for i in range(0,len(X2)):\n",
        "    red.append(first[X2[i],Y2[i]])\n",
        "    green.append(second[X2[i],Y2[i]])\n",
        "    blue.append(third[X2[i],Y2[i]])\n",
        "    intensity.append(fourth[X2[i],Y2[i]])\n",
        "    \n",
        "red=np.matrix(red)\n",
        "green=np.matrix(green)\n",
        "blue=np.matrix(blue)\n",
        "intensity=np.matrix(intensity)\n",
        "\n",
        "nonriver_mean=np.matrix([np.mean(red),np.mean(green),np.mean(blue),np.mean(intensity)])\n",
        "\n",
        "print(\"The nonriver mean matrix is\",nonriver_mean)\n",
        "#Calculating the Covariance matrix\n",
        "nonrivercov_matrix=[[cal_cov(red,red),cal_cov(red,green),cal_cov(red,blue),cal_cov(red,intensity)],\n",
        "   [cal_cov(green,red),cal_cov(green,green),cal_cov(green,blue),cal_cov(green,intensity)],\n",
        "   [cal_cov(blue,red),cal_cov(blue,green),cal_cov(blue,blue),cal_cov(blue,intensity)],\n",
        "   [cal_cov(intensity,red),cal_cov(intensity,green),cal_cov(intensity,blue),cal_cov(intensity,intensity)]]\n",
        "nonrivercov_matrix=np.matrix(nonrivercov_matrix)\n",
        "\n",
        "print(\"The covariance matrix for Non-River is\",nonrivercov_matrix)"
      ],
      "execution_count": null,
      "outputs": [
        {
          "output_type": "stream",
          "text": [
            "The river mean matrix is [[41.8  27.16 28.68 34.64]]\n",
            "The covariance matrix for River is [[ 7.32    7.112   7.476   1.208 ]\n",
            " [ 7.112   8.2944  9.7712  2.6176]\n",
            " [ 7.476   9.7712 21.6976  6.6848]\n",
            " [ 1.208   2.6176  6.6848 32.1104]]\n",
            "The nonriver mean matrix is [[40.32 25.75 26.3  35.26]]\n",
            "The covariance matrix for Non-River is [[ 7.7376  7.04    9.154   2.2468]\n",
            " [ 7.04    7.2275  9.275   2.825 ]\n",
            " [ 9.154   9.275  14.89    2.582 ]\n",
            " [ 2.2468  2.825   2.582  29.5324]]\n"
          ],
          "name": "stdout"
        }
      ]
    },
    {
      "cell_type": "code",
      "metadata": {
        "id": "M2TLciSHxSxl",
        "outputId": "7192b275-f8c0-4bd4-d55f-878b6d0e2271",
        "colab": {
          "base_uri": "https://localhost:8080/",
          "height": 269
        }
      },
      "source": [
        "##creating test-data\n",
        "outimage=[]\n",
        "\n",
        "capitalp1=0.7\n",
        "capitalp2=0.3\n",
        "\n",
        "for i in range(0,512):\n",
        "    \n",
        "    temp=[]\n",
        "    \n",
        "    for j in range(0,512):\n",
        "        \n",
        "        test_data=[first[i,j],second[i,j],third[i,j],fourth[i,j]]\n",
        "        test_data=np.matrix(test_data)\n",
        "        \n",
        "        test_data1=test_data-river_mean\n",
        "        \n",
        "        test_data2=test_data-nonriver_mean\n",
        "        \n",
        "        riverclass=test_data1*np.linalg.inv(rivercov_matrix)*np.transpose(test_data1)\n",
        "        \n",
        "        nonriverclass=test_data2*np.linalg.inv(nonrivercov_matrix)*np.transpose(test_data2)\n",
        "        \n",
        "        smallp1=-(0.5)*(1/np.sqrt(np.linalg.det(rivercov_matrix)))*np.exp(riverclass)\n",
        "        \n",
        "        smallp2=-(0.5)*(1/np.sqrt(np.linalg.det(nonrivercov_matrix)))*np.exp(nonriverclass)\n",
        "        \n",
        "        if((capitalp1*smallp1)>=(capitalp2*smallp2)):\n",
        "            temp.append(255)\n",
        "        else:\n",
        "            temp.append(0)\n",
        "            \n",
        "    outimage.append(temp)\n",
        "temp = outimage\n",
        "outimage=np.uint8(np.array(outimage))\n",
        "plt.imshow(outimage,cmap='gray')\n",
        "#Writing the output image\n",
        "imageio.imwrite('sampleoutput.jpeg',outimage[:,:])\n"
      ],
      "execution_count": null,
      "outputs": [
        {
          "output_type": "display_data",
          "data": {
            "image/png": "[encoded data removed]",
            "text/plain": [
              "<Figure size 432x288 with 1 Axes>"
            ]
          },
          "metadata": {
            "tags": []
          }
        }
      ]
    }
  ]
}