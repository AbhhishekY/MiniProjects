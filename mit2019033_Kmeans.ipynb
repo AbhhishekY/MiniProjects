{
  "nbformat": 4,
  "nbformat_minor": 0,
  "metadata": {
    "kernelspec": {
      "display_name": "Python 3",
      "language": "python",
      "name": "python3"
    },
    "language_info": {
      "codemirror_mode": {
        "name": "ipython",
        "version": 3
      },
      "file_extension": ".py",
      "mimetype": "text/x-python",
      "name": "python",
      "nbconvert_exporter": "python",
      "pygments_lexer": "ipython3",
      "version": "3.7.4"
    },
    "colab": {
      "name": "mit2019033_Kmeans.ipynb",
      "provenance": [],
      "toc_visible": true
    }
  },
  "cells": [
    {
      "cell_type": "code",
      "metadata": {
        "id": "mMR_ixfXqU9H"
      },
      "source": [
        "import pandas as pd\n",
        "import numpy as np\n",
        "import math\n",
        "from scipy.spatial import distance"
      ],
      "execution_count": null,
      "outputs": []
    },
    {
      "cell_type": "code",
      "metadata": {
        "id": "7c9bL__OqU9m"
      },
      "source": [
        "data = pd.read_excel('/content/Absenteeism_at_work.xls')"
      ],
      "execution_count": null,
      "outputs": []
    },
    {
      "cell_type": "code",
      "metadata": {
        "id": "33UqoEXWqU-j"
      },
      "source": [
        "data=data.values"
      ],
      "execution_count": null,
      "outputs": []
    },
    {
      "cell_type": "code",
      "metadata": {
        "id": "t_O8klppqU-3"
      },
      "source": [
        "def seed_selection(n):\n",
        "    k=[0]*n\n",
        "    seed=np.random.randint(data.shape[0], size=1)\n",
        "    for i in range(n):\n",
        "        if i==0:\n",
        "            k[0]=math.floor(seed)\n",
        "        elif (i==1):\n",
        "            k[1]=math.floor(k[0]/2)\n",
        "        else:\n",
        "            k[i]=math.floor(sum(k)/len(k))\n",
        "    return(k)"
      ],
      "execution_count": null,
      "outputs": []
    },
    {
      "cell_type": "code",
      "metadata": {
        "id": "FoimfxKjqU_E",
        "outputId": "938428f1-5213-490a-f58d-c6088623806f",
        "colab": {
          "base_uri": "https://localhost:8080/",
          "height": 34
        }
      },
      "source": [
        "#initial centroids\n",
        "k=seed_selection(2)\n",
        "k"
      ],
      "execution_count": null,
      "outputs": [
        {
          "output_type": "execute_result",
          "data": {
            "text/plain": [
              "[231, 115]"
            ]
          },
          "metadata": {
            "tags": []
          },
          "execution_count": 47
        }
      ]
    },
    {
      "cell_type": "code",
      "metadata": {
        "id": "_Rl9I3kFqU_Q"
      },
      "source": [
        "dist_mat = np.zeros((len(k),740))"
      ],
      "execution_count": null,
      "outputs": []
    },
    {
      "cell_type": "code",
      "metadata": {
        "id": "iKi3lW8cqU_e"
      },
      "source": [
        "def eclid_distance(centroid):\n",
        "    for i in range(len(centroid)):\n",
        "        for j in range(data.shape[0]):\n",
        "              dist_mat[i][j] =np.sqrt(np.sum(np.square(centroid[i]-data[j:j+1,])))       \n",
        "    return(dist_mat)"
      ],
      "execution_count": null,
      "outputs": []
    },
    {
      "cell_type": "code",
      "metadata": {
        "id": "ofDfe-ecqU_t"
      },
      "source": [
        "def kmean(k):\n",
        "    centroid=[]\n",
        "    for i in range(len(k)):\n",
        "        centroid.append(data[k[i]])\n",
        "    dist_mat=eclid_distance(centroid)\n",
        "    for i in range(21):\n",
        "        x = [[] for _ in range(len(k))]\n",
        "        for i in range(data.shape[0]):\n",
        "            for j in range(len(k)):\n",
        "                if (dist_mat[:,i])[j]==dist_mat[:,i].min():\n",
        "                    x[j].append(data[i])\n",
        "        for i in range(len(k)):\n",
        "            x[i]=np.array(x[i])\n",
        "            centroid[i]=x[i].mean(axis=0)\n",
        "    return x,centroid"
      ],
      "execution_count": null,
      "outputs": []
    },
    {
      "cell_type": "code",
      "metadata": {
        "id": "lQeoWWzcqU_7"
      },
      "source": [
        "cls,centroid = kmean(k)"
      ],
      "execution_count": null,
      "outputs": []
    },
    {
      "cell_type": "code",
      "metadata": {
        "id": "RrJrMnSXqVAQ",
        "outputId": "f898d2c4-5128-483b-eac8-687be5802f27",
        "colab": {
          "base_uri": "https://localhost:8080/",
          "height": 255
        }
      },
      "source": [
        "# clusters with their data items\n",
        "cls"
      ],
      "execution_count": null,
      "outputs": [
        {
          "output_type": "execute_result",
          "data": {
            "text/plain": [
              "[array([[ 19,  28,   3, ..., 169,  23,   2],\n",
              "        [ 20,  19,   3, ..., 168,  23,   8],\n",
              "        [ 30,  19,   3, ..., 185,  22,   3],\n",
              "        ...,\n",
              "        [  3,  11,   6, ..., 170,  31,   2],\n",
              "        [ 32,  28,   6, ..., 172,  36,   2],\n",
              "        [ 28,  28,   6, ..., 169,  24,   2]]),\n",
              " array([[ 11,  26,   7, ..., 172,  30,   4],\n",
              "        [ 36,   0,   7, ..., 178,  31,   0],\n",
              "        [  3,  23,   7, ..., 170,  31,   2],\n",
              "        ...,\n",
              "        [  4,   0,   0, ..., 170,  34,   0],\n",
              "        [  8,   0,   0, ..., 170,  35,   0],\n",
              "        [ 35,   0,   0, ..., 175,  25,   0]])]"
            ]
          },
          "metadata": {
            "tags": []
          },
          "execution_count": 52
        }
      ]
    },
    {
      "cell_type": "code",
      "metadata": {
        "id": "HQJ5rpvlqVAj",
        "outputId": "ce082ead-6821-4a0c-a2ba-05b6aa792cac",
        "colab": {
          "base_uri": "https://localhost:8080/",
          "height": 34
        }
      },
      "source": [
        "len(cls[0][0])"
      ],
      "execution_count": null,
      "outputs": [
        {
          "output_type": "execute_result",
          "data": {
            "text/plain": [
              "21"
            ]
          },
          "metadata": {
            "tags": []
          },
          "execution_count": 53
        }
      ]
    },
    {
      "cell_type": "code",
      "metadata": {
        "id": "hd5Bo7TjqVAs",
        "outputId": "bac0a349-97ad-44ae-a3fb-bddf9918791f",
        "colab": {
          "base_uri": "https://localhost:8080/",
          "height": 221
        }
      },
      "source": [
        "#final centroids\n",
        "centroid"
      ],
      "execution_count": null,
      "outputs": [
        {
          "output_type": "execute_result",
          "data": {
            "text/plain": [
              "[array([1.91147541e+01, 1.57049180e+01, 4.31147541e+00, 3.75409836e+00,\n",
              "        2.60655738e+00, 2.29393443e+02, 2.99836066e+01, 1.30000000e+01,\n",
              "        3.63278689e+01, 3.61594770e+05, 9.39508197e+01, 6.55737705e-02,\n",
              "        1.16393443e+00, 1.24590164e+00, 6.22950820e-01, 1.47540984e-01,\n",
              "        7.21311475e-01, 7.76393443e+01, 1.73442623e+02, 2.57377049e+01,\n",
              "        9.22950820e+00]),\n",
              " array([1.79189985e+01, 1.95316642e+01, 6.50515464e+00, 3.92930781e+00,\n",
              "        2.53902798e+00, 2.20605302e+02, 2.95994109e+01, 1.25139912e+01,\n",
              "        3.64609720e+01, 2.63395424e+05, 9.46450663e+01, 5.30191458e-02,\n",
              "        1.30338733e+00, 9.98527246e-01, 5.62592047e-01, 6.62739323e-02,\n",
              "        7.48159057e-01, 7.91605302e+01, 1.71995582e+02, 2.67614138e+01,\n",
              "        6.71723122e+00])]"
            ]
          },
          "metadata": {
            "tags": []
          },
          "execution_count": 54
        }
      ]
    },
    {
      "cell_type": "code",
      "metadata": {
        "id": "2YbQ0OjbqVA9",
        "outputId": "15a9624c-f997-42f7-bf56-1a5beeee203c",
        "colab": {
          "base_uri": "https://localhost:8080/",
          "height": 68
        }
      },
      "source": [
        "cls[0][0]"
      ],
      "execution_count": null,
      "outputs": [
        {
          "output_type": "execute_result",
          "data": {
            "text/plain": [
              "array([    19,     28,      3,      3,      2,    291,     50,     12,\n",
              "           32, 343253,     95,      0,      1,      0,      1,      0,\n",
              "            0,     65,    169,     23,      2])"
            ]
          },
          "metadata": {
            "tags": []
          },
          "execution_count": 55
        }
      ]
    },
    {
      "cell_type": "code",
      "metadata": {
        "id": "Kesw95vEqVBR"
      },
      "source": [
        "# error for first cluster\n",
        "sse_1 = 0\n",
        "for i in range(len(cls[0])):\n",
        "    sse_1 = sse_1 + np.square(distance.euclidean(centroid[0],cls[0][i]))"
      ],
      "execution_count": null,
      "outputs": []
    },
    {
      "cell_type": "code",
      "metadata": {
        "id": "jiAJ1yNzqVBZ",
        "outputId": "9736403a-6cc9-4d2a-b827-83a330554490",
        "colab": {
          "base_uri": "https://localhost:8080/",
          "height": 34
        }
      },
      "source": [
        "sse_1"
      ],
      "execution_count": null,
      "outputs": [
        {
          "output_type": "execute_result",
          "data": {
            "text/plain": [
              "18612312631.836063"
            ]
          },
          "metadata": {
            "tags": []
          },
          "execution_count": 57
        }
      ]
    },
    {
      "cell_type": "code",
      "metadata": {
        "id": "NAjyiI6rqVBi"
      },
      "source": [
        "# error for second cluster\n",
        "sse_2 = 0\n",
        "for i in range(len(cls[1])):\n",
        "    sse_2 = sse_2 + np.square(distance.euclidean(centroid[1],cls[1][i]))"
      ],
      "execution_count": null,
      "outputs": []
    },
    {
      "cell_type": "code",
      "metadata": {
        "id": "6FD0aZHmqVBq",
        "outputId": "349b2268-4b6d-410e-e89f-edb32a53bfc9",
        "colab": {
          "base_uri": "https://localhost:8080/",
          "height": 34
        }
      },
      "source": [
        "sse_2"
      ],
      "execution_count": null,
      "outputs": [
        {
          "output_type": "execute_result",
          "data": {
            "text/plain": [
              "569022497334.7479"
            ]
          },
          "metadata": {
            "tags": []
          },
          "execution_count": 59
        }
      ]
    },
    {
      "cell_type": "code",
      "metadata": {
        "id": "LmeP4C9IqVB2",
        "outputId": "f6743577-9b98-4afc-e02e-f2636e0d6c5a",
        "colab": {
          "base_uri": "https://localhost:8080/",
          "height": 34
        }
      },
      "source": [
        "#final error\n",
        "sse = sse_1 + sse_2\n",
        "sse"
      ],
      "execution_count": null,
      "outputs": [
        {
          "output_type": "execute_result",
          "data": {
            "text/plain": [
              "587634809966.584"
            ]
          },
          "metadata": {
            "tags": []
          },
          "execution_count": 60
        }
      ]
    },
    {
      "cell_type": "code",
      "metadata": {
        "id": "Oaf70VXxqVCF"
      },
      "source": [
        ""
      ],
      "execution_count": null,
      "outputs": []
    },
    {
      "cell_type": "code",
      "metadata": {
        "id": "lTiZzJhmqVCM",
        "outputId": "4bfd290a-960d-433f-df64-b9ef0f78f4fe",
        "colab": {
          "base_uri": "https://localhost:8080/",
          "height": 221
        }
      },
      "source": [
        "\n",
        "from sklearn.cluster import KMeans\n",
        "import numpy as np\n",
        "\n",
        "kmeans = KMeans(n_clusters=2, random_state=0).fit(data)\n",
        "#\n",
        "\n",
        "kmeans.cluster_centers_\n"
      ],
      "execution_count": null,
      "outputs": [
        {
          "output_type": "execute_result",
          "data": {
            "text/plain": [
              "array([[1.76805054e+01, 1.93880866e+01, 7.00722022e+00, 3.90613718e+00,\n",
              "        2.56137184e+00, 2.22146209e+02, 2.99512635e+01, 1.25108303e+01,\n",
              "        3.65902527e+01, 2.52753984e+05, 9.48176895e+01, 5.59566787e-02,\n",
              "        1.32490975e+00, 1.00180505e+00, 5.75812274e-01, 6.67870036e-02,\n",
              "        7.74368231e-01, 7.93122744e+01, 1.71873646e+02, 2.68574007e+01,\n",
              "        6.74007220e+00],\n",
              "       [1.90215054e+01, 1.87043011e+01, 4.29032258e+00, 3.94086022e+00,\n",
              "        2.49462366e+00, 2.18897849e+02, 2.86774194e+01, 1.26827957e+01,\n",
              "        3.60322581e+01, 3.27296059e+05, 9.39032258e+01, 4.83870968e-02,\n",
              "        1.19354839e+00, 1.06989247e+00, 5.43010753e-01, 9.13978495e-02,\n",
              "        6.61290323e-01, 7.82096774e+01, 1.72833333e+02, 2.61397849e+01,\n",
              "        7.47311828e+00]])"
            ]
          },
          "metadata": {
            "tags": []
          },
          "execution_count": 61
        }
      ]
    },
    {
      "cell_type": "code",
      "metadata": {
        "id": "0R45r-8HqVCl",
        "outputId": "e3992530-fe8e-4634-f46c-66924b2271dc",
        "colab": {
          "base_uri": "https://localhost:8080/",
          "height": 34
        }
      },
      "source": [
        "#sum of errors\n",
        "kmeans.inertia_"
      ],
      "execution_count": null,
      "outputs": [
        {
          "output_type": "execute_result",
          "data": {
            "text/plain": [
              "353637366625.63495"
            ]
          },
          "metadata": {
            "tags": []
          },
          "execution_count": 62
        }
      ]
    },
    {
      "cell_type": "code",
      "metadata": {
        "id": "-FYg1ZkXqVCy"
      },
      "source": [
        ""
      ],
      "execution_count": null,
      "outputs": []
    }
  ]
}