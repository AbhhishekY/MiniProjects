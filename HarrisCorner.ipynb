{
  "nbformat": 4,
  "nbformat_minor": 0,
  "metadata": {
    "kernelspec": {
      "name": "python3",
      "display_name": "Python 3"
    },
    "language_info": {
      "codemirror_mode": {
        "name": "ipython",
        "version": 3
      },
      "file_extension": ".py",
      "mimetype": "text/x-python",
      "name": "python",
      "nbconvert_exporter": "python",
      "pygments_lexer": "ipython3",
      "version": "3.7.3"
    },
    "colab": {
      "name": "HarrisCorner.ipynb",
      "provenance": []
    },
    "accelerator": "GPU"
  },
  "cells": [
    {
      "cell_type": "code",
      "metadata": {
        "id": "IIkNjsY3SgLs"
      },
      "source": [
        "from skimage.io import imread\n",
        "from skimage.color import rgb2gray\n",
        "img = imread('/content/Picture1.png')\n",
        "imggray = rgb2gray(img)"
      ],
      "execution_count": null,
      "outputs": []
    },
    {
      "cell_type": "code",
      "metadata": {
        "id": "iRizGmSgSgL1",
        "outputId": "38413131-a62c-4e8d-daa8-5d2f3cc50fb7",
        "colab": {
          "base_uri": "https://localhost:8080/",
          "height": 34
        }
      },
      "source": [
        "img.shape"
      ],
      "execution_count": null,
      "outputs": [
        {
          "output_type": "execute_result",
          "data": {
            "text/plain": [
              "(759, 339, 4)"
            ]
          },
          "metadata": {
            "tags": []
          },
          "execution_count": 10
        }
      ]
    },
    {
      "cell_type": "code",
      "metadata": {
        "id": "mbYuXNarSgL9"
      },
      "source": [
        "from scipy import signal as sig\n",
        "from scipy import ndimage as ndi\n",
        "import numpy as np\n",
        "def gradient_x(imggray):\n",
        "    ##Sobel operator kernels.\n",
        "    kernel_x = np.array([[-1, 0, 1],[-2, 0, 2],[-1, 0, 1]])\n",
        "    return sig.convolve2d(imggray, kernel_x, mode='same')\n",
        "def gradient_y(imggray):\n",
        "    kernel_y = np.array([[1, 2, 1], [0, 0, 0], [-1, -2, -1]])\n",
        "    return sig.convolve2d(imggray, kernel_y, mode='same')\n",
        "I_x = gradient_x(imggray)\n",
        "I_y = gradient_y(imggray)"
      ],
      "execution_count": null,
      "outputs": []
    },
    {
      "cell_type": "code",
      "metadata": {
        "id": "9FxlB-t-SgMD"
      },
      "source": [
        "Ixx = ndi.gaussian_filter(I_x**2, sigma=1)\n",
        "Ixy = ndi.gaussian_filter(I_y*I_x, sigma=1)\n",
        "Iyy = ndi.gaussian_filter(I_y**2, sigma=1)"
      ],
      "execution_count": null,
      "outputs": []
    },
    {
      "cell_type": "code",
      "metadata": {
        "id": "ZfPfQ1mlSgMI"
      },
      "source": [
        "k = 0.05\n",
        "# determinant\n",
        "detA = Ixx * Iyy - Ixy ** 2\n",
        "# trace\n",
        "traceA = Ixx + Iyy\n",
        "    \n",
        "harris_response = detA - k * traceA ** 2"
      ],
      "execution_count": null,
      "outputs": []
    },
    {
      "cell_type": "code",
      "metadata": {
        "id": "AHEYa5J2SgMP"
      },
      "source": [
        "offset = 1\n",
        "height = 600\n",
        "width = 600\n",
        "for y in range(offset, height-offset):\n",
        "    for x in range(offset, width-offset):\n",
        "        Sxx = np.sum(Ixx[y-offset:y+1+offset, x-offset:x+1+offset])\n",
        "        Syy = np.sum(Iyy[y-offset:y+1+offset, x-offset:x+1+offset])\n",
        "        Sxy = np.sum(Ixy[y-offset:y+1+offset, x-offset:x+1+offset])"
      ],
      "execution_count": null,
      "outputs": []
    },
    {
      "cell_type": "code",
      "metadata": {
        "id": "6VjS905zSgMW"
      },
      "source": [
        "#Find determinant and trace, use to get corner response\n",
        "det = (Sxx * Syy) - (Sxy**2)\n",
        "trace = Sxx + Syy\n",
        "r = det - k*(trace**2)"
      ],
      "execution_count": null,
      "outputs": []
    },
    {
      "cell_type": "code",
      "metadata": {
        "id": "NGgOEnf3SgMc",
        "outputId": "15d60304-130e-418d-f1e2-760dbb39f90d",
        "colab": {
          "base_uri": "https://localhost:8080/",
          "height": 229
        }
      },
      "source": [
        "img_copy_for_corners = np.copy(img)\n",
        "img_copy_for_edges = np.copy(img)\n",
        "for rowindex, response in enumerate(harris_response):\n",
        "    for colindex, r in enumerate(response):\n",
        "        if r > 0:\n",
        "            # this is a corner\n",
        "            img_copy_for_corners[rowindex, colindex] = [255,0,0]\n",
        "        elif r < 0:\n",
        "            # this is an edge\n",
        "            img_copy_for_edges[rowindex, colindex] = [0,255,0]"
      ],
      "execution_count": null,
      "outputs": [
        {
          "output_type": "error",
          "ename": "ValueError",
          "evalue": "ignored",
          "traceback": [
            "\u001b[0;31m---------------------------------------------------------------------------\u001b[0m",
            "\u001b[0;31mValueError\u001b[0m                                Traceback (most recent call last)",
            "\u001b[0;32m<ipython-input-16-744f900acb30>\u001b[0m in \u001b[0;36m<module>\u001b[0;34m()\u001b[0m\n\u001b[1;32m      5\u001b[0m         \u001b[0;32mif\u001b[0m \u001b[0mr\u001b[0m \u001b[0;34m>\u001b[0m \u001b[0;36m0\u001b[0m\u001b[0;34m:\u001b[0m\u001b[0;34m\u001b[0m\u001b[0;34m\u001b[0m\u001b[0m\n\u001b[1;32m      6\u001b[0m             \u001b[0;31m# this is a corner\u001b[0m\u001b[0;34m\u001b[0m\u001b[0;34m\u001b[0m\u001b[0;34m\u001b[0m\u001b[0m\n\u001b[0;32m----> 7\u001b[0;31m             \u001b[0mimg_copy_for_corners\u001b[0m\u001b[0;34m[\u001b[0m\u001b[0mrowindex\u001b[0m\u001b[0;34m,\u001b[0m \u001b[0mcolindex\u001b[0m\u001b[0;34m]\u001b[0m \u001b[0;34m=\u001b[0m \u001b[0;34m[\u001b[0m\u001b[0;36m255\u001b[0m\u001b[0;34m,\u001b[0m\u001b[0;36m0\u001b[0m\u001b[0;34m,\u001b[0m\u001b[0;36m0\u001b[0m\u001b[0;34m]\u001b[0m\u001b[0;34m\u001b[0m\u001b[0;34m\u001b[0m\u001b[0m\n\u001b[0m\u001b[1;32m      8\u001b[0m         \u001b[0;32melif\u001b[0m \u001b[0mr\u001b[0m \u001b[0;34m<\u001b[0m \u001b[0;36m0\u001b[0m\u001b[0;34m:\u001b[0m\u001b[0;34m\u001b[0m\u001b[0;34m\u001b[0m\u001b[0m\n\u001b[1;32m      9\u001b[0m             \u001b[0;31m# this is an edge\u001b[0m\u001b[0;34m\u001b[0m\u001b[0;34m\u001b[0m\u001b[0;34m\u001b[0m\u001b[0m\n",
            "\u001b[0;31mValueError\u001b[0m: cannot copy sequence with size 3 to array axis with dimension 4"
          ]
        }
      ]
    },
    {
      "cell_type": "code",
      "metadata": {
        "id": "GgE4RXHJSgMh"
      },
      "source": [
        "from skimage.feature import corner_peaks\n",
        "from matplotlib import pyplot as plt\n",
        "corners = corner_peaks(harris_response)\n",
        "fig, ax = plt.subplots()\n",
        "ax.imshow(img, interpolation='nearest', cmap=plt.cm.gray)\n",
        "ax.plot(corners[:, 1], corners[:, 0], '.r', markersize=3)"
      ],
      "execution_count": null,
      "outputs": []
    },
    {
      "cell_type": "code",
      "metadata": {
        "id": "tmbfL9TbSgMn"
      },
      "source": [
        "#Harris corner detection using skimage library\n",
        "from skimage.feature import corner_harris, corner_peaks\n",
        "coords = corner_peaks(harris_response)\n",
        "fig, ax = plt.subplots()\n",
        "ax.imshow(img, interpolation='nearest', cmap=plt.cm.gray)\n",
        "ax.plot(coords[:, 1], coords[:, 0], '.r', markersize=3)"
      ],
      "execution_count": null,
      "outputs": []
    },
    {
      "cell_type": "code",
      "metadata": {
        "id": "4VindekeSgMt"
      },
      "source": [
        ""
      ],
      "execution_count": null,
      "outputs": []
    }
  ]
}