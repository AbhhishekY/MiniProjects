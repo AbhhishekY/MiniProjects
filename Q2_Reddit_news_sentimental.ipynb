{
  "nbformat": 4,
  "nbformat_minor": 0,
  "metadata": {
    "colab": {
      "name": "Q2_Reddit_news_sentimental.ipynb",
      "provenance": [],
      "authorship_tag": "ABX9TyPm7Xg0XvDLkvc34plwB3gn",
      "include_colab_link": true
    },
    "kernelspec": {
      "name": "python3",
      "display_name": "Python 3"
    }
  },
  "cells": [
    {
      "cell_type": "markdown",
      "metadata": {
        "id": "view-in-github",
        "colab_type": "text"
      },
      "source": [
        "<a href=\"https://colab.research.google.com/github/AbhhishekY/MiniProjects/blob/master/Q2_Reddit_news_sentimental.ipynb\" target=\"_parent\"><img src=\"https://colab.research.google.com/assets/colab-badge.svg\" alt=\"Open In Colab\"/></a>"
      ]
    },
    {
      "cell_type": "code",
      "metadata": {
        "id": "gXTNlDsV62n9",
        "outputId": "8543cf57-1a3e-43f9-82a5-a8ad347e216d",
        "colab": {
          "base_uri": "https://localhost:8080/",
          "height": 118
        }
      },
      "source": [
        "from IPython import display\n",
        "import math\n",
        "from pprint import pprint\n",
        "import pandas as pd\n",
        "import numpy as np\n",
        "import nltk\n",
        "import matplotlib.pyplot as plt\n",
        "import seaborn as sns\n",
        "sns.set(style='darkgrid', context='talk', palette='Dark2')\n",
        "nltk.download()"
      ],
      "execution_count": null,
      "outputs": [
        {
          "output_type": "stream",
          "text": [
            "NLTK Downloader\n",
            "---------------------------------------------------------------------------\n",
            "    d) Download   l) List    u) Update   c) Config   h) Help   q) Quit\n",
            "---------------------------------------------------------------------------\n",
            "Downloader> q\n"
          ],
          "name": "stdout"
        },
        {
          "output_type": "execute_result",
          "data": {
            "text/plain": [
              "True"
            ]
          },
          "metadata": {
            "tags": []
          },
          "execution_count": 11
        }
      ]
    },
    {
      "cell_type": "code",
      "metadata": {
        "id": "Jct-YI928Qnw"
      },
      "source": [
        "!pip install -q praw\n",
        "import praw"
      ],
      "execution_count": null,
      "outputs": []
    },
    {
      "cell_type": "code",
      "metadata": {
        "id": "32C0sR8o8AGU"
      },
      "source": [
        "\n",
        "reddit = praw.Reddit(client_id='c3mm12nAfGRe0g',\n",
        "                     client_secret='asV5h3q4gbeWlY6WwBRn4kH8pNE',\n",
        "                     user_agent='AbhhisekYY')"
      ],
      "execution_count": null,
      "outputs": []
    },
    {
      "cell_type": "code",
      "metadata": {
        "id": "W5bwRRVj9Aua",
        "outputId": "83be5ed7-fdf5-4749-aa39-a914e1f74453",
        "colab": {
          "base_uri": "https://localhost:8080/",
          "height": 34
        }
      },
      "source": [
        "headlines = set()\n",
        "\n",
        "for submission in reddit.subreddit('indianews').new(limit=None):\n",
        "    headlines.add(submission.title)\n",
        "    display.clear_output()\n",
        "    print(len(headlines))"
      ],
      "execution_count": null,
      "outputs": [
        {
          "output_type": "stream",
          "text": [
            "499\n"
          ],
          "name": "stdout"
        }
      ]
    },
    {
      "cell_type": "code",
      "metadata": {
        "id": "1jJZKeuY9fDe",
        "outputId": "5aa83883-d867-4043-96fa-71552f9c6a2a",
        "colab": {
          "base_uri": "https://localhost:8080/",
          "height": 373
        }
      },
      "source": [
        "from nltk.sentiment.vader import SentimentIntensityAnalyzer as SIA\n",
        "\n",
        "sia = SIA()\n",
        "results = []\n",
        "\n",
        "for line in headlines:\n",
        "    pol_score = sia.polarity_scores(line)\n",
        "    pol_score['headline'] = line\n",
        "    results.append(pol_score)\n",
        "\n",
        "pprint(results[:3], width=100)"
      ],
      "execution_count": null,
      "outputs": [
        {
          "output_type": "stream",
          "text": [
            "/usr/local/lib/python3.6/dist-packages/nltk/twitter/__init__.py:20: UserWarning: The twython library has not been installed. Some functionality from the twitter package will not be available.\n",
            "  warnings.warn(\"The twython library has not been installed. \"\n"
          ],
          "name": "stderr"
        },
        {
          "output_type": "stream",
          "text": [
            "[{'compound': 0.4404,\n",
            "  'headline': 'DELHI HIGH COURT RULES IN FAVOUR OF BUDWEISER AFTER IT SUED THE SATIRICAL WEBSITE, '\n",
            "              '“WWW.FAUXY.COM”',\n",
            "  'neg': 0.0,\n",
            "  'neu': 0.828,\n",
            "  'pos': 0.172},\n",
            " {'compound': -0.8176,\n",
            "  'headline': 'Woman Attacks Wife After Being Confronted On Making Obscene Gestures Towards '\n",
            "              'Husband',\n",
            "  'neg': 0.486,\n",
            "  'neu': 0.514,\n",
            "  'pos': 0.0},\n",
            " {'compound': -0.6808,\n",
            "  'headline': 'Stick inserted into the private parts of a dog, another canine raped several times: '\n",
            "              'Two recent incidents of bestiality in Maharashtra',\n",
            "  'neg': 0.195,\n",
            "  'neu': 0.805,\n",
            "  'pos': 0.0}]\n"
          ],
          "name": "stdout"
        }
      ]
    },
    {
      "cell_type": "code",
      "metadata": {
        "id": "WbK1L4i49hdL",
        "outputId": "2a9f768c-0549-46bc-d641-18036e4b028a",
        "colab": {
          "base_uri": "https://localhost:8080/",
          "height": 195
        }
      },
      "source": [
        "df = pd.DataFrame.from_records(results)\n",
        "df.head()"
      ],
      "execution_count": null,
      "outputs": [
        {
          "output_type": "execute_result",
          "data": {
            "text/html": [
              "<div>\n",
              "<style scoped>\n",
              "    .dataframe tbody tr th:only-of-type {\n",
              "        vertical-align: middle;\n",
              "    }\n",
              "\n",
              "    .dataframe tbody tr th {\n",
              "        vertical-align: top;\n",
              "    }\n",
              "\n",
              "    .dataframe thead th {\n",
              "        text-align: right;\n",
              "    }\n",
              "</style>\n",
              "<table border=\"1\" class=\"dataframe\">\n",
              "  <thead>\n",
              "    <tr style=\"text-align: right;\">\n",
              "      <th></th>\n",
              "      <th>neg</th>\n",
              "      <th>neu</th>\n",
              "      <th>pos</th>\n",
              "      <th>compound</th>\n",
              "      <th>headline</th>\n",
              "    </tr>\n",
              "  </thead>\n",
              "  <tbody>\n",
              "    <tr>\n",
              "      <th>0</th>\n",
              "      <td>0.000</td>\n",
              "      <td>0.828</td>\n",
              "      <td>0.172</td>\n",
              "      <td>0.4404</td>\n",
              "      <td>DELHI HIGH COURT RULES IN FAVOUR OF BUDWEISER ...</td>\n",
              "    </tr>\n",
              "    <tr>\n",
              "      <th>1</th>\n",
              "      <td>0.486</td>\n",
              "      <td>0.514</td>\n",
              "      <td>0.000</td>\n",
              "      <td>-0.8176</td>\n",
              "      <td>Woman Attacks Wife After Being Confronted On M...</td>\n",
              "    </tr>\n",
              "    <tr>\n",
              "      <th>2</th>\n",
              "      <td>0.195</td>\n",
              "      <td>0.805</td>\n",
              "      <td>0.000</td>\n",
              "      <td>-0.6808</td>\n",
              "      <td>Stick inserted into the private parts of a dog...</td>\n",
              "    </tr>\n",
              "    <tr>\n",
              "      <th>3</th>\n",
              "      <td>0.228</td>\n",
              "      <td>0.702</td>\n",
              "      <td>0.070</td>\n",
              "      <td>-0.7430</td>\n",
              "      <td>[Makarand Paranjape] It is this gap between pi...</td>\n",
              "    </tr>\n",
              "    <tr>\n",
              "      <th>4</th>\n",
              "      <td>0.086</td>\n",
              "      <td>0.859</td>\n",
              "      <td>0.055</td>\n",
              "      <td>-0.1546</td>\n",
              "      <td>Uber is hiring hundreds of engineers in India ...</td>\n",
              "    </tr>\n",
              "  </tbody>\n",
              "</table>\n",
              "</div>"
            ],
            "text/plain": [
              "     neg    neu  ...  compound                                           headline\n",
              "0  0.000  0.828  ...    0.4404  DELHI HIGH COURT RULES IN FAVOUR OF BUDWEISER ...\n",
              "1  0.486  0.514  ...   -0.8176  Woman Attacks Wife After Being Confronted On M...\n",
              "2  0.195  0.805  ...   -0.6808  Stick inserted into the private parts of a dog...\n",
              "3  0.228  0.702  ...   -0.7430  [Makarand Paranjape] It is this gap between pi...\n",
              "4  0.086  0.859  ...   -0.1546  Uber is hiring hundreds of engineers in India ...\n",
              "\n",
              "[5 rows x 5 columns]"
            ]
          },
          "metadata": {
            "tags": []
          },
          "execution_count": 16
        }
      ]
    },
    {
      "cell_type": "code",
      "metadata": {
        "id": "NxJGzLz49klM",
        "outputId": "2e30de4c-ac04-40b6-87bc-60d21a578bb0",
        "colab": {
          "base_uri": "https://localhost:8080/",
          "height": 195
        }
      },
      "source": [
        "df['label'] = 0\n",
        "df.loc[df['compound'] > 0.2, 'label'] = 1\n",
        "df.loc[df['compound'] < -0.2, 'label'] = -1\n",
        "df.head()"
      ],
      "execution_count": null,
      "outputs": [
        {
          "output_type": "execute_result",
          "data": {
            "text/html": [
              "<div>\n",
              "<style scoped>\n",
              "    .dataframe tbody tr th:only-of-type {\n",
              "        vertical-align: middle;\n",
              "    }\n",
              "\n",
              "    .dataframe tbody tr th {\n",
              "        vertical-align: top;\n",
              "    }\n",
              "\n",
              "    .dataframe thead th {\n",
              "        text-align: right;\n",
              "    }\n",
              "</style>\n",
              "<table border=\"1\" class=\"dataframe\">\n",
              "  <thead>\n",
              "    <tr style=\"text-align: right;\">\n",
              "      <th></th>\n",
              "      <th>neg</th>\n",
              "      <th>neu</th>\n",
              "      <th>pos</th>\n",
              "      <th>compound</th>\n",
              "      <th>headline</th>\n",
              "      <th>label</th>\n",
              "    </tr>\n",
              "  </thead>\n",
              "  <tbody>\n",
              "    <tr>\n",
              "      <th>0</th>\n",
              "      <td>0.000</td>\n",
              "      <td>0.828</td>\n",
              "      <td>0.172</td>\n",
              "      <td>0.4404</td>\n",
              "      <td>DELHI HIGH COURT RULES IN FAVOUR OF BUDWEISER ...</td>\n",
              "      <td>1</td>\n",
              "    </tr>\n",
              "    <tr>\n",
              "      <th>1</th>\n",
              "      <td>0.486</td>\n",
              "      <td>0.514</td>\n",
              "      <td>0.000</td>\n",
              "      <td>-0.8176</td>\n",
              "      <td>Woman Attacks Wife After Being Confronted On M...</td>\n",
              "      <td>-1</td>\n",
              "    </tr>\n",
              "    <tr>\n",
              "      <th>2</th>\n",
              "      <td>0.195</td>\n",
              "      <td>0.805</td>\n",
              "      <td>0.000</td>\n",
              "      <td>-0.6808</td>\n",
              "      <td>Stick inserted into the private parts of a dog...</td>\n",
              "      <td>-1</td>\n",
              "    </tr>\n",
              "    <tr>\n",
              "      <th>3</th>\n",
              "      <td>0.228</td>\n",
              "      <td>0.702</td>\n",
              "      <td>0.070</td>\n",
              "      <td>-0.7430</td>\n",
              "      <td>[Makarand Paranjape] It is this gap between pi...</td>\n",
              "      <td>-1</td>\n",
              "    </tr>\n",
              "    <tr>\n",
              "      <th>4</th>\n",
              "      <td>0.086</td>\n",
              "      <td>0.859</td>\n",
              "      <td>0.055</td>\n",
              "      <td>-0.1546</td>\n",
              "      <td>Uber is hiring hundreds of engineers in India ...</td>\n",
              "      <td>0</td>\n",
              "    </tr>\n",
              "  </tbody>\n",
              "</table>\n",
              "</div>"
            ],
            "text/plain": [
              "     neg    neu  ...                                           headline  label\n",
              "0  0.000  0.828  ...  DELHI HIGH COURT RULES IN FAVOUR OF BUDWEISER ...      1\n",
              "1  0.486  0.514  ...  Woman Attacks Wife After Being Confronted On M...     -1\n",
              "2  0.195  0.805  ...  Stick inserted into the private parts of a dog...     -1\n",
              "3  0.228  0.702  ...  [Makarand Paranjape] It is this gap between pi...     -1\n",
              "4  0.086  0.859  ...  Uber is hiring hundreds of engineers in India ...      0\n",
              "\n",
              "[5 rows x 6 columns]"
            ]
          },
          "metadata": {
            "tags": []
          },
          "execution_count": 17
        }
      ]
    },
    {
      "cell_type": "code",
      "metadata": {
        "id": "8VwuDKAK9nPg"
      },
      "source": [
        "df2 = df[['headline', 'label']]\n",
        "df2.to_csv('reddit_headlines_labels.csv', mode='a', encoding='utf-8', index=False)"
      ],
      "execution_count": null,
      "outputs": []
    },
    {
      "cell_type": "code",
      "metadata": {
        "id": "6AsKkY_z9qN4",
        "outputId": "55c5e431-9e47-484a-b84f-5fda91d65444",
        "colab": {
          "base_uri": "https://localhost:8080/",
          "height": 339
        }
      },
      "source": [
        "print(\"Positive headlines:\\n\")\n",
        "pprint(list(df[df['label'] == 1].headline)[:5], width=200)\n",
        "\n",
        "print(\"\\nNegative headlines:\\n\")\n",
        "pprint(list(df[df['label'] == -1].headline)[:5], width=200)"
      ],
      "execution_count": null,
      "outputs": [
        {
          "output_type": "stream",
          "text": [
            "Positive headlines:\n",
            "\n",
            "['DELHI HIGH COURT RULES IN FAVOUR OF BUDWEISER AFTER IT SUED THE SATIRICAL WEBSITE, “WWW.FAUXY.COM”',\n",
            " 'BJP seat share in Ladakh council shrinks, Congress gains',\n",
            " '[TimesNow] Holy Quran absolutely forbids worshipping or praising any idol or God other than Allah: Anand Ranganathan | IndiavsHardliners',\n",
            " 'WION wants advertisers to stop sponsoring channels that \"spread hate\", terminology of pseudoliberals/Congress for nationalist non-minoritycrime appeasing channels like Republic.',\n",
            " 'The longer Modi remains a mute spectator, not lifting a finger against those tormenting #Arnab & @republic , the more he proves that his supporters & champions are mere disposable commodities. A '\n",
            " 'general who doesn’t defend his soldiers is no general.']\n",
            "\n",
            "Negative headlines:\n",
            "\n",
            "['Woman Attacks Wife After Being Confronted On Making Obscene Gestures Towards Husband',\n",
            " 'Stick inserted into the private parts of a dog, another canine raped several times: Two recent incidents of bestiality in Maharashtra',\n",
            " '[Makarand Paranjape] It is this gap between pious fantasy and brutal reality that pseudo-secularism exploits & deceives. Would TanishqAd dare show a Muslim converting into any other faith as '\n",
            " \"'cool' or symbolic of Ekatvam?\",\n",
            " \"Nikita Tomer case: Taufeeq had already abducted Indian Army aspirant Nikita once in 2018. Taufeeq's mother used to call Nikita forcing her to convert to Islam and be with Taufeeq forever (Hindi \"\n",
            " 'News)',\n",
            " \"Delhi violence: 'Worst communal riots since partition' in capital, says court\"]\n"
          ],
          "name": "stdout"
        }
      ]
    },
    {
      "cell_type": "code",
      "metadata": {
        "id": "XzZoB7TS9wNa",
        "outputId": "3145d04c-c0f4-432e-876d-300b4e4874c5",
        "colab": {
          "base_uri": "https://localhost:8080/",
          "height": 151
        }
      },
      "source": [
        "print(df.label.value_counts())\n",
        "\n",
        "print(df.label.value_counts(normalize=True) * 100)"
      ],
      "execution_count": null,
      "outputs": [
        {
          "output_type": "stream",
          "text": [
            "-1    200\n",
            " 0    181\n",
            " 1    118\n",
            "Name: label, dtype: int64\n",
            "-1    40.080160\n",
            " 0    36.272545\n",
            " 1    23.647295\n",
            "Name: label, dtype: float64\n"
          ],
          "name": "stdout"
        }
      ]
    },
    {
      "cell_type": "code",
      "metadata": {
        "id": "zYibMQnW9zGE",
        "outputId": "ab54e8ed-e350-4647-f51f-3b700e6554fc",
        "colab": {
          "base_uri": "https://localhost:8080/",
          "height": 496
        }
      },
      "source": [
        "fig, ax = plt.subplots(figsize=(8, 8))\n",
        "\n",
        "counts = df.label.value_counts(normalize=True) * 100\n",
        "\n",
        "sns.barplot(x=counts.index, y=counts, ax=ax)\n",
        "\n",
        "ax.set_xticklabels(['Negative', 'Neutral', 'Positive'])\n",
        "ax.set_ylabel(\"Percentage\")\n",
        "\n",
        "plt.show()"
      ],
      "execution_count": null,
      "outputs": [
        {
          "output_type": "display_data",
          "data": {
            "image/png": "[encoded data removed]",
            "text/plain": [
              "<Figure size 576x576 with 1 Axes>"
            ]
          },
          "metadata": {
            "tags": []
          }
        }
      ]
    }
  ]
}